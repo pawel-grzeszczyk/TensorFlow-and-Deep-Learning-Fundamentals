{
 "cells": [
  {
   "cell_type": "markdown",
   "metadata": {},
   "source": [
    "## **Introduction to Regression with Neural Networks in Tensorflow**"
   ]
  },
  {
   "cell_type": "markdown",
   "metadata": {},
   "source": [
    "There are many definitions for regression problem, but in our case we're going to simplify it: predicting a numerical variable based on some other combination of variables, even shorter...predicting a number."
   ]
  },
  {
   "cell_type": "code",
   "execution_count": 262,
   "metadata": {},
   "outputs": [],
   "source": [
    "# import TensorFlow\n",
    "import tensorflow as tf\n",
    "\n",
    "import numpy as np\n",
    "import matplotlib.pyplot as plt"
   ]
  },
  {
   "cell_type": "markdown",
   "metadata": {},
   "source": [
    "### **Create a data to view and fit**"
   ]
  },
  {
   "cell_type": "code",
   "execution_count": 263,
   "metadata": {},
   "outputs": [
    {
     "data": {
      "image/png": "[encoded data removed]",
      "text/plain": [
       "<Figure size 432x288 with 1 Axes>"
      ]
     },
     "metadata": {
      "needs_background": "light"
     },
     "output_type": "display_data"
    }
   ],
   "source": [
    "# Create the features\n",
    "X = np.array([-7.0, -4.0, -1.0, 2.0, 5.0, 8.0, 11.0, 14.0]).reshape(-1, 1)\n",
    "\n",
    "# Create labels\n",
    "y = np.array([3.0, 6.0, 9.0, 12.0, 15.0, 18.0, 21.0, 24.0]).reshape(-1, 1)\n",
    "\n",
    "plt.scatter(X, y);"
   ]
  },
  {
   "cell_type": "code",
   "execution_count": 264,
   "metadata": {},
   "outputs": [
    {
     "data": {
      "text/plain": [
       "array([[ True],\n",
       "       [ True],\n",
       "       [ True],\n",
       "       [ True],\n",
       "       [ True],\n",
       "       [ True],\n",
       "       [ True],\n",
       "       [ True]])"
      ]
     },
     "execution_count": 264,
     "metadata": {},
     "output_type": "execute_result"
    }
   ],
   "source": [
    "y == X + 10"
   ]
  },
  {
   "cell_type": "markdown",
   "metadata": {},
   "source": [
    "### **Input and output shapes**"
   ]
  },
  {
   "cell_type": "code",
   "execution_count": 265,
   "metadata": {},
   "outputs": [
    {
     "data": {
      "text/plain": [
       "(array([-7.]), array([3.]))"
      ]
     },
     "execution_count": 265,
     "metadata": {},
     "output_type": "execute_result"
    }
   ],
   "source": [
    "# One input value is predicting one output\n",
    "X[0], y[0]"
   ]
  },
  {
   "cell_type": "code",
   "execution_count": 266,
   "metadata": {},
   "outputs": [
    {
     "data": {
      "text/plain": [
       "(<tf.Tensor: shape=(8, 1), dtype=float16, numpy=\n",
       " array([[-7.],\n",
       "        [-4.],\n",
       "        [-1.],\n",
       "        [ 2.],\n",
       "        [ 5.],\n",
       "        [ 8.],\n",
       "        [11.],\n",
       "        [14.]], dtype=float16)>,\n",
       " <tf.Tensor: shape=(8, 1), dtype=float16, numpy=\n",
       " array([[ 3.],\n",
       "        [ 6.],\n",
       "        [ 9.],\n",
       "        [12.],\n",
       "        [15.],\n",
       "        [18.],\n",
       "        [21.],\n",
       "        [24.]], dtype=float16)>)"
      ]
     },
     "execution_count": 266,
     "metadata": {},
     "output_type": "execute_result"
    }
   ],
   "source": [
    "# Turn NumPy arrays into tensors with dtype float 16\n",
    "X = tf.cast(tf.constant(X), dtype=tf.float16)\n",
    "y = tf.cast(tf.constant(y), dtype=tf.float16)\n",
    "X, y"
   ]
  },
  {
   "cell_type": "code",
   "execution_count": 267,
   "metadata": {},
   "outputs": [
    {
     "data": {
      "text/plain": [
       "(TensorShape([1]), TensorShape([1]))"
      ]
     },
     "execution_count": 267,
     "metadata": {},
     "output_type": "execute_result"
    }
   ],
   "source": [
    "# Check the shapes of an input and output layers\n",
    "input_shape = X[0].shape\n",
    "output_shape = y[0].shape\n",
    "input_shape, output_shape"
   ]
  },
  {
   "cell_type": "markdown",
   "metadata": {},
   "source": [
    "### **Steps in modeling with TensorFlow**"
   ]
  },
  {
   "cell_type": "markdown",
   "metadata": {},
   "source": [
    "1. **Creating a model** - define `input and output layers`, as well as the `hidden layers` of a deep learning model. \n",
    "2. **Compiling a model** - prepare the model to be used with data; define:\n",
    "    * `loss function` (how wrong the model's predictions are compared to the truth labels),\n",
    "    * `optimizer` (hot the model should update its internal patterns to better its predictions),\n",
    "    * `evaluation mertics` (human interpretable values for how well the model is doing).  \n",
    "3. **Fitting the model** - let the model try to `find patterns` between X & y (features and labels)."
   ]
  },
  {
   "cell_type": "code",
   "execution_count": 268,
   "metadata": {},
   "outputs": [
    {
     "name": "stdout",
     "output_type": "stream",
     "text": [
      "Epoch 1/5\n",
      "1/1 [==============================] - 0s 193ms/step - loss: 21.4073 - mae: 21.4073\n",
      "Epoch 2/5\n",
      "1/1 [==============================] - 0s 3ms/step - loss: 21.0142 - mae: 21.0142\n",
      "Epoch 3/5\n",
      "1/1 [==============================] - 0s 2ms/step - loss: 20.6210 - mae: 20.6210\n",
      "Epoch 4/5\n",
      "1/1 [==============================] - 0s 2ms/step - loss: 20.2865 - mae: 20.2865\n",
      "Epoch 5/5\n",
      "1/1 [==============================] - 0s 2ms/step - loss: 20.0053 - mae: 20.0053\n"
     ]
    },
    {
     "data": {
      "text/plain": [
       "<keras.callbacks.History at 0x1e87b3d94e0>"
      ]
     },
     "execution_count": 268,
     "metadata": {},
     "output_type": "execute_result"
    }
   ],
   "source": [
    "# Set random seed\n",
    "tf.random.set_seed(42)\n",
    "\n",
    "# 1. Create a model using the sequential API\n",
    "model = tf.keras.Sequential([\n",
    "    tf.keras.layers.Dense(1)\n",
    "])\n",
    "\n",
    "# 2. Compile the model\n",
    "model.compile(loss=tf.keras.losses.mae, # mae is short for mean absolute error\n",
    "              optimizer=tf.keras.optimizers.SGD(), # SGD is short for stochastic gradient descent\n",
    "              metrics=['mae']) \n",
    "\n",
    "# 3. Fit the model\n",
    "model.fit(X, y, epochs=5) # epochs is how many times the model will go through all of the training examples"
   ]
  },
  {
   "cell_type": "code",
   "execution_count": 269,
   "metadata": {},
   "outputs": [
    {
     "data": {
      "text/plain": [
       "(<tf.Tensor: shape=(8, 1), dtype=float16, numpy=\n",
       " array([[-7.],\n",
       "        [-4.],\n",
       "        [-1.],\n",
       "        [ 2.],\n",
       "        [ 5.],\n",
       "        [ 8.],\n",
       "        [11.],\n",
       "        [14.]], dtype=float16)>,\n",
       " <tf.Tensor: shape=(8, 1), dtype=float16, numpy=\n",
       " array([[ 3.],\n",
       "        [ 6.],\n",
       "        [ 9.],\n",
       "        [12.],\n",
       "        [15.],\n",
       "        [18.],\n",
       "        [21.],\n",
       "        [24.]], dtype=float16)>)"
      ]
     },
     "execution_count": 269,
     "metadata": {},
     "output_type": "execute_result"
    }
   ],
   "source": [
    "# Check out X and Y\n",
    "X, y"
   ]
  },
  {
   "cell_type": "code",
   "execution_count": 270,
   "metadata": {},
   "outputs": [
    {
     "name": "stdout",
     "output_type": "stream",
     "text": [
      "1/1 [==============================] - 0s 53ms/step\n"
     ]
    },
    {
     "data": {
      "text/plain": [
       "array([[-22.625345]], dtype=float32)"
      ]
     },
     "execution_count": 270,
     "metadata": {},
     "output_type": "execute_result"
    }
   ],
   "source": [
    "# Try and make a prediction using our model\n",
    "model.predict([17.0]) # should be 27.0"
   ]
  },
  {
   "cell_type": "markdown",
   "metadata": {},
   "source": [
    "### **Improving the model**"
   ]
  },
  {
   "cell_type": "markdown",
   "metadata": {},
   "source": [
    "We can improve our model by improving the steps we took to create a model.  \n",
    "**What can be improved in each step**:\n",
    "1. **Create a model:**\n",
    "    * add more `layers`,\n",
    "    * increase the `number of hidden units` (also caled neurons) within each of the hidden layers,\n",
    "    * change `activation function` of each layer.\n",
    "2. **Compiling a model:**\n",
    "    * change the `optimization function`,\n",
    "    * change the `learning rate` of optimization function.\n",
    "3. **Fitting a model:**\n",
    "    * fit a model for more `epochs` (leave it training for longer)\n",
    "    * add `more data` (give it more examples to learn from)"
   ]
  },
  {
   "cell_type": "markdown",
   "metadata": {},
   "source": [
    "**Increasing the number of `epochs`**"
   ]
  },
  {
   "cell_type": "code",
   "execution_count": 271,
   "metadata": {},
   "outputs": [
    {
     "name": "stdout",
     "output_type": "stream",
     "text": [
      "Epoch 1/100\n",
      "1/1 [==============================] - 0s 187ms/step - loss: 15.1617 - mae: 15.1617\n",
      "Epoch 2/100\n",
      "1/1 [==============================] - 0s 2ms/step - loss: 14.9166 - mae: 14.9166\n",
      "Epoch 3/100\n",
      "1/1 [==============================] - 0s 2ms/step - loss: 14.7841 - mae: 14.7841\n",
      "Epoch 4/100\n",
      "1/1 [==============================] - 0s 3ms/step - loss: 14.6516 - mae: 14.6516\n",
      "Epoch 5/100\n",
      "1/1 [==============================] - 0s 2ms/step - loss: 14.5191 - mae: 14.5191\n",
      "Epoch 6/100\n",
      "1/1 [==============================] - 0s 2ms/step - loss: 14.3866 - mae: 14.3866\n",
      "Epoch 7/100\n",
      "1/1 [==============================] - 0s 2ms/step - loss: 14.2541 - mae: 14.2541\n",
      "Epoch 8/100\n",
      "1/1 [==============================] - 0s 2ms/step - loss: 14.1216 - mae: 14.1216\n",
      "Epoch 9/100\n",
      "1/1 [==============================] - 0s 3ms/step - loss: 13.9891 - mae: 13.9891\n",
      "Epoch 10/100\n",
      "1/1 [==============================] - 0s 2ms/step - loss: 13.8566 - mae: 13.8566\n",
      "Epoch 11/100\n",
      "1/1 [==============================] - 0s 2ms/step - loss: 13.7241 - mae: 13.7241\n",
      "Epoch 12/100\n",
      "1/1 [==============================] - 0s 2ms/step - loss: 13.5916 - mae: 13.5916\n",
      "Epoch 13/100\n",
      "1/1 [==============================] - 0s 3ms/step - loss: 13.4591 - mae: 13.4591\n",
      "Epoch 14/100\n",
      "1/1 [==============================] - 0s 2ms/step - loss: 13.3266 - mae: 13.3266\n",
      "Epoch 15/100\n",
      "1/1 [==============================] - 0s 2ms/step - loss: 13.1941 - mae: 13.1941\n",
      "Epoch 16/100\n",
      "1/1 [==============================] - 0s 2ms/step - loss: 13.0616 - mae: 13.0616\n",
      "Epoch 17/100\n",
      "1/1 [==============================] - 0s 2ms/step - loss: 12.9291 - mae: 12.9291\n",
      "Epoch 18/100\n",
      "1/1 [==============================] - 0s 3ms/step - loss: 12.7966 - mae: 12.7966\n",
      "Epoch 19/100\n",
      "1/1 [==============================] - 0s 2ms/step - loss: 12.6641 - mae: 12.6641\n",
      "Epoch 20/100\n",
      "1/1 [==============================] - 0s 2ms/step - loss: 12.5316 - mae: 12.5316\n",
      "Epoch 21/100\n",
      "1/1 [==============================] - 0s 2ms/step - loss: 12.3991 - mae: 12.3991\n",
      "Epoch 22/100\n",
      "1/1 [==============================] - 0s 998us/step - loss: 12.2666 - mae: 12.2666\n",
      "Epoch 23/100\n",
      "1/1 [==============================] - 0s 2ms/step - loss: 12.1341 - mae: 12.1341\n",
      "Epoch 24/100\n",
      "1/1 [==============================] - 0s 2ms/step - loss: 12.0016 - mae: 12.0016\n",
      "Epoch 25/100\n",
      "1/1 [==============================] - 0s 2ms/step - loss: 11.8691 - mae: 11.8691\n",
      "Epoch 26/100\n",
      "1/1 [==============================] - 0s 2ms/step - loss: 11.7366 - mae: 11.7366\n",
      "Epoch 27/100\n",
      "1/1 [==============================] - 0s 997us/step - loss: 11.6041 - mae: 11.6041\n",
      "Epoch 28/100\n",
      "1/1 [==============================] - 0s 2ms/step - loss: 11.4716 - mae: 11.4716\n",
      "Epoch 29/100\n",
      "1/1 [==============================] - 0s 2ms/step - loss: 11.3391 - mae: 11.3391\n",
      "Epoch 30/100\n",
      "1/1 [==============================] - 0s 2ms/step - loss: 11.2066 - mae: 11.2066\n",
      "Epoch 31/100\n",
      "1/1 [==============================] - 0s 2ms/step - loss: 11.0741 - mae: 11.0741\n",
      "Epoch 32/100\n",
      "1/1 [==============================] - 0s 3ms/step - loss: 10.9416 - mae: 10.9416\n",
      "Epoch 33/100\n",
      "1/1 [==============================] - 0s 2ms/step - loss: 10.8091 - mae: 10.8091\n",
      "Epoch 34/100\n",
      "1/1 [==============================] - 0s 997us/step - loss: 10.6766 - mae: 10.6766\n",
      "Epoch 35/100\n",
      "1/1 [==============================] - 0s 2ms/step - loss: 10.5441 - mae: 10.5441\n",
      "Epoch 36/100\n",
      "1/1 [==============================] - 0s 2ms/step - loss: 10.4116 - mae: 10.4116\n",
      "Epoch 37/100\n",
      "1/1 [==============================] - 0s 2ms/step - loss: 10.2791 - mae: 10.2791\n",
      "Epoch 38/100\n",
      "1/1 [==============================] - 0s 2ms/step - loss: 10.1466 - mae: 10.1466\n",
      "Epoch 39/100\n",
      "1/1 [==============================] - 0s 2ms/step - loss: 10.0141 - mae: 10.0141\n",
      "Epoch 40/100\n",
      "1/1 [==============================] - 0s 2ms/step - loss: 9.8816 - mae: 9.8816\n",
      "Epoch 41/100\n",
      "1/1 [==============================] - 0s 997us/step - loss: 9.7491 - mae: 9.7491\n",
      "Epoch 42/100\n",
      "1/1 [==============================] - 0s 2ms/step - loss: 9.6166 - mae: 9.6166\n",
      "Epoch 43/100\n",
      "1/1 [==============================] - 0s 2ms/step - loss: 9.4841 - mae: 9.4841\n",
      "Epoch 44/100\n",
      "1/1 [==============================] - 0s 2ms/step - loss: 9.3516 - mae: 9.3516\n",
      "Epoch 45/100\n",
      "1/1 [==============================] - 0s 2ms/step - loss: 9.2191 - mae: 9.2191\n",
      "Epoch 46/100\n",
      "1/1 [==============================] - 0s 2ms/step - loss: 9.0866 - mae: 9.0866\n",
      "Epoch 47/100\n",
      "1/1 [==============================] - 0s 2ms/step - loss: 8.9541 - mae: 8.9541\n",
      "Epoch 48/100\n",
      "1/1 [==============================] - 0s 3ms/step - loss: 8.8216 - mae: 8.8216\n",
      "Epoch 49/100\n",
      "1/1 [==============================] - 0s 3ms/step - loss: 8.6891 - mae: 8.6891\n",
      "Epoch 50/100\n",
      "1/1 [==============================] - 0s 2ms/step - loss: 8.5566 - mae: 8.5566\n",
      "Epoch 51/100\n",
      "1/1 [==============================] - 0s 3ms/step - loss: 8.4241 - mae: 8.4241\n",
      "Epoch 52/100\n",
      "1/1 [==============================] - 0s 3ms/step - loss: 8.2916 - mae: 8.2916\n",
      "Epoch 53/100\n",
      "1/1 [==============================] - 0s 2ms/step - loss: 8.1591 - mae: 8.1591\n",
      "Epoch 54/100\n",
      "1/1 [==============================] - 0s 3ms/step - loss: 8.0266 - mae: 8.0266\n",
      "Epoch 55/100\n",
      "1/1 [==============================] - 0s 3ms/step - loss: 7.8941 - mae: 7.8941\n",
      "Epoch 56/100\n",
      "1/1 [==============================] - 0s 3ms/step - loss: 7.7616 - mae: 7.7616\n",
      "Epoch 57/100\n",
      "1/1 [==============================] - 0s 2ms/step - loss: 7.6291 - mae: 7.6291\n",
      "Epoch 58/100\n",
      "1/1 [==============================] - 0s 3ms/step - loss: 7.4966 - mae: 7.4966\n",
      "Epoch 59/100\n",
      "1/1 [==============================] - 0s 3ms/step - loss: 7.3641 - mae: 7.3641\n",
      "Epoch 60/100\n",
      "1/1 [==============================] - 0s 2ms/step - loss: 7.2316 - mae: 7.2316\n",
      "Epoch 61/100\n",
      "1/1 [==============================] - 0s 2ms/step - loss: 7.0991 - mae: 7.0991\n",
      "Epoch 62/100\n",
      "1/1 [==============================] - 0s 2ms/step - loss: 7.0444 - mae: 7.0444\n",
      "Epoch 63/100\n",
      "1/1 [==============================] - 0s 2ms/step - loss: 7.0388 - mae: 7.0388\n",
      "Epoch 64/100\n",
      "1/1 [==============================] - 0s 997us/step - loss: 7.0331 - mae: 7.0331\n",
      "Epoch 65/100\n",
      "1/1 [==============================] - 0s 2ms/step - loss: 7.0275 - mae: 7.0275\n",
      "Epoch 66/100\n",
      "1/1 [==============================] - 0s 2ms/step - loss: 7.0219 - mae: 7.0219\n",
      "Epoch 67/100\n",
      "1/1 [==============================] - 0s 3ms/step - loss: 7.0163 - mae: 7.0163\n",
      "Epoch 68/100\n",
      "1/1 [==============================] - 0s 2ms/step - loss: 7.0106 - mae: 7.0106\n",
      "Epoch 69/100\n",
      "1/1 [==============================] - 0s 2ms/step - loss: 7.0050 - mae: 7.0050\n",
      "Epoch 70/100\n",
      "1/1 [==============================] - 0s 2ms/step - loss: 6.9994 - mae: 6.9994\n",
      "Epoch 71/100\n",
      "1/1 [==============================] - 0s 2ms/step - loss: 6.9938 - mae: 6.9938\n",
      "Epoch 72/100\n",
      "1/1 [==============================] - 0s 2ms/step - loss: 6.9881 - mae: 6.9881\n",
      "Epoch 73/100\n",
      "1/1 [==============================] - 0s 2ms/step - loss: 6.9825 - mae: 6.9825\n",
      "Epoch 74/100\n",
      "1/1 [==============================] - 0s 996us/step - loss: 6.9769 - mae: 6.9769\n",
      "Epoch 75/100\n",
      "1/1 [==============================] - 0s 2ms/step - loss: 6.9713 - mae: 6.9713\n",
      "Epoch 76/100\n",
      "1/1 [==============================] - 0s 2ms/step - loss: 6.9656 - mae: 6.9656\n",
      "Epoch 77/100\n",
      "1/1 [==============================] - 0s 7ms/step - loss: 6.9600 - mae: 6.9600\n",
      "Epoch 78/100\n",
      "1/1 [==============================] - 0s 3ms/step - loss: 6.9544 - mae: 6.9544\n",
      "Epoch 79/100\n",
      "1/1 [==============================] - 0s 2ms/step - loss: 6.9488 - mae: 6.9488\n",
      "Epoch 80/100\n",
      "1/1 [==============================] - 0s 2ms/step - loss: 6.9431 - mae: 6.9431\n",
      "Epoch 81/100\n",
      "1/1 [==============================] - 0s 2ms/step - loss: 6.9375 - mae: 6.9375\n",
      "Epoch 82/100\n",
      "1/1 [==============================] - 0s 2ms/step - loss: 6.9319 - mae: 6.9319\n",
      "Epoch 83/100\n",
      "1/1 [==============================] - 0s 2ms/step - loss: 6.9263 - mae: 6.9263\n",
      "Epoch 84/100\n",
      "1/1 [==============================] - 0s 3ms/step - loss: 6.9206 - mae: 6.9206\n",
      "Epoch 85/100\n",
      "1/1 [==============================] - 0s 2ms/step - loss: 6.9150 - mae: 6.9150\n",
      "Epoch 86/100\n",
      "1/1 [==============================] - 0s 2ms/step - loss: 6.9094 - mae: 6.9094\n",
      "Epoch 87/100\n",
      "1/1 [==============================] - 0s 2ms/step - loss: 6.9038 - mae: 6.9038\n",
      "Epoch 88/100\n",
      "1/1 [==============================] - 0s 2ms/step - loss: 6.8981 - mae: 6.8981\n",
      "Epoch 89/100\n",
      "1/1 [==============================] - 0s 2ms/step - loss: 6.8925 - mae: 6.8925\n",
      "Epoch 90/100\n",
      "1/1 [==============================] - 0s 3ms/step - loss: 6.8869 - mae: 6.8869\n",
      "Epoch 91/100\n",
      "1/1 [==============================] - 0s 2ms/step - loss: 6.8813 - mae: 6.8813\n",
      "Epoch 92/100\n",
      "1/1 [==============================] - 0s 2ms/step - loss: 6.8756 - mae: 6.8756\n",
      "Epoch 93/100\n",
      "1/1 [==============================] - 0s 2ms/step - loss: 6.8700 - mae: 6.8700\n",
      "Epoch 94/100\n",
      "1/1 [==============================] - 0s 2ms/step - loss: 6.8644 - mae: 6.8644\n",
      "Epoch 95/100\n",
      "1/1 [==============================] - 0s 3ms/step - loss: 6.8588 - mae: 6.8588\n",
      "Epoch 96/100\n",
      "1/1 [==============================] - 0s 2ms/step - loss: 6.8531 - mae: 6.8531\n",
      "Epoch 97/100\n",
      "1/1 [==============================] - 0s 996us/step - loss: 6.8475 - mae: 6.8475\n",
      "Epoch 98/100\n",
      "1/1 [==============================] - 0s 2ms/step - loss: 6.8419 - mae: 6.8419\n",
      "Epoch 99/100\n",
      "1/1 [==============================] - 0s 2ms/step - loss: 6.8363 - mae: 6.8363\n",
      "Epoch 100/100\n",
      "1/1 [==============================] - 0s 3ms/step - loss: 6.8306 - mae: 6.8306\n"
     ]
    },
    {
     "data": {
      "text/plain": [
       "<keras.callbacks.History at 0x1e87b2e7580>"
      ]
     },
     "execution_count": 271,
     "metadata": {},
     "output_type": "execute_result"
    }
   ],
   "source": [
    "# Let's rebuild our model\n",
    "\n",
    "# 1. Create a model\n",
    "model = tf.keras.Sequential([\n",
    "    tf.keras.layers.Dense(1)\n",
    "])\n",
    "\n",
    "# 2. Compile the model\n",
    "model.compile(loss=tf.keras.losses.mae,\n",
    "              optimizer=tf.keras.optimizers.SGD(),\n",
    "              metrics=['mae'])\n",
    "\n",
    "# 3. Fit the model (this time we'll train for longer)\n",
    "model.fit(X, y, epochs=100)"
   ]
  },
  {
   "cell_type": "code",
   "execution_count": 272,
   "metadata": {},
   "outputs": [
    {
     "name": "stdout",
     "output_type": "stream",
     "text": [
      "1/1 [==============================] - 0s 60ms/step\n"
     ]
    },
    {
     "data": {
      "text/plain": [
       "array([[29.683046]], dtype=float32)"
      ]
     },
     "execution_count": 272,
     "metadata": {},
     "output_type": "execute_result"
    }
   ],
   "source": [
    "# Let's see if our model's prediction has improved...\n",
    "model.predict([17.0]) # should be 27.0"
   ]
  },
  {
   "cell_type": "markdown",
   "metadata": {},
   "source": [
    "**Adding `one more hidden layer`, reducing the `number of hidden units` and changing the optimizer to `Adam`**"
   ]
  },
  {
   "cell_type": "code",
   "execution_count": 273,
   "metadata": {},
   "outputs": [
    {
     "name": "stdout",
     "output_type": "stream",
     "text": [
      "Epoch 1/100\n",
      "1/1 [==============================] - 0s 290ms/step - loss: 12.3366 - mae: 12.3366\n",
      "Epoch 2/100\n",
      "1/1 [==============================] - 0s 3ms/step - loss: 11.5674 - mae: 11.5674\n",
      "Epoch 3/100\n",
      "1/1 [==============================] - 0s 3ms/step - loss: 10.7915 - mae: 10.7915\n",
      "Epoch 4/100\n",
      "1/1 [==============================] - 0s 3ms/step - loss: 10.0054 - mae: 10.0054\n",
      "Epoch 5/100\n",
      "1/1 [==============================] - 0s 3ms/step - loss: 9.2068 - mae: 9.2068\n",
      "Epoch 6/100\n",
      "1/1 [==============================] - 0s 2ms/step - loss: 8.3936 - mae: 8.3936\n",
      "Epoch 7/100\n",
      "1/1 [==============================] - 0s 2ms/step - loss: 7.5634 - mae: 7.5634\n",
      "Epoch 8/100\n",
      "1/1 [==============================] - 0s 3ms/step - loss: 6.8705 - mae: 6.8705\n",
      "Epoch 9/100\n",
      "1/1 [==============================] - 0s 2ms/step - loss: 6.9451 - mae: 6.9451\n",
      "Epoch 10/100\n",
      "1/1 [==============================] - 0s 2ms/step - loss: 7.2274 - mae: 7.2274\n",
      "Epoch 11/100\n",
      "1/1 [==============================] - 0s 3ms/step - loss: 7.3774 - mae: 7.3774\n",
      "Epoch 12/100\n",
      "1/1 [==============================] - 0s 2ms/step - loss: 7.4962 - mae: 7.4962\n",
      "Epoch 13/100\n",
      "1/1 [==============================] - 0s 3ms/step - loss: 7.3876 - mae: 7.3876\n",
      "Epoch 14/100\n",
      "1/1 [==============================] - 0s 3ms/step - loss: 7.1225 - mae: 7.1225\n",
      "Epoch 15/100\n",
      "1/1 [==============================] - 0s 2ms/step - loss: 6.8852 - mae: 6.8852\n",
      "Epoch 16/100\n",
      "1/1 [==============================] - 0s 3ms/step - loss: 6.6157 - mae: 6.6157\n",
      "Epoch 17/100\n",
      "1/1 [==============================] - 0s 2ms/step - loss: 6.3203 - mae: 6.3203\n",
      "Epoch 18/100\n",
      "1/1 [==============================] - 0s 2ms/step - loss: 6.1178 - mae: 6.1178\n",
      "Epoch 19/100\n",
      "1/1 [==============================] - 0s 2ms/step - loss: 6.0575 - mae: 6.0575\n",
      "Epoch 20/100\n",
      "1/1 [==============================] - 0s 3ms/step - loss: 6.1304 - mae: 6.1304\n",
      "Epoch 21/100\n",
      "1/1 [==============================] - 0s 2ms/step - loss: 6.1802 - mae: 6.1802\n",
      "Epoch 22/100\n",
      "1/1 [==============================] - 0s 2ms/step - loss: 6.1110 - mae: 6.1110\n",
      "Epoch 23/100\n",
      "1/1 [==============================] - 0s 2ms/step - loss: 5.9389 - mae: 5.9389\n",
      "Epoch 24/100\n",
      "1/1 [==============================] - 0s 3ms/step - loss: 5.6759 - mae: 5.6759\n",
      "Epoch 25/100\n",
      "1/1 [==============================] - 0s 2ms/step - loss: 5.5207 - mae: 5.5207\n",
      "Epoch 26/100\n",
      "1/1 [==============================] - 0s 2ms/step - loss: 5.4057 - mae: 5.4057\n",
      "Epoch 27/100\n",
      "1/1 [==============================] - 0s 3ms/step - loss: 5.3999 - mae: 5.3999\n",
      "Epoch 28/100\n",
      "1/1 [==============================] - 0s 4ms/step - loss: 5.3967 - mae: 5.3967\n",
      "Epoch 29/100\n",
      "1/1 [==============================] - 0s 4ms/step - loss: 5.3383 - mae: 5.3383\n",
      "Epoch 30/100\n",
      "1/1 [==============================] - 0s 2ms/step - loss: 5.2296 - mae: 5.2296\n",
      "Epoch 31/100\n",
      "1/1 [==============================] - 0s 2ms/step - loss: 5.0749 - mae: 5.0749\n",
      "Epoch 32/100\n",
      "1/1 [==============================] - 0s 2ms/step - loss: 4.8786 - mae: 4.8786\n",
      "Epoch 33/100\n",
      "1/1 [==============================] - 0s 3ms/step - loss: 4.6550 - mae: 4.6550\n",
      "Epoch 34/100\n",
      "1/1 [==============================] - 0s 2ms/step - loss: 4.5495 - mae: 4.5495\n",
      "Epoch 35/100\n",
      "1/1 [==============================] - 0s 2ms/step - loss: 4.4369 - mae: 4.4369\n",
      "Epoch 36/100\n",
      "1/1 [==============================] - 0s 2ms/step - loss: 4.3169 - mae: 4.3169\n",
      "Epoch 37/100\n",
      "1/1 [==============================] - 0s 2ms/step - loss: 4.2823 - mae: 4.2823\n",
      "Epoch 38/100\n",
      "1/1 [==============================] - 0s 2ms/step - loss: 4.1152 - mae: 4.1152\n",
      "Epoch 39/100\n",
      "1/1 [==============================] - 0s 3ms/step - loss: 3.8863 - mae: 3.8863\n",
      "Epoch 40/100\n",
      "1/1 [==============================] - 0s 2ms/step - loss: 3.7202 - mae: 3.7202\n",
      "Epoch 41/100\n",
      "1/1 [==============================] - 0s 3ms/step - loss: 3.5506 - mae: 3.5506\n",
      "Epoch 42/100\n",
      "1/1 [==============================] - 0s 2ms/step - loss: 3.4295 - mae: 3.4295\n",
      "Epoch 43/100\n",
      "1/1 [==============================] - 0s 3ms/step - loss: 3.2471 - mae: 3.2471\n",
      "Epoch 44/100\n",
      "1/1 [==============================] - 0s 3ms/step - loss: 3.0434 - mae: 3.0434\n",
      "Epoch 45/100\n",
      "1/1 [==============================] - 0s 2ms/step - loss: 2.8675 - mae: 2.8675\n",
      "Epoch 46/100\n",
      "1/1 [==============================] - 0s 2ms/step - loss: 2.6815 - mae: 2.6815\n",
      "Epoch 47/100\n",
      "1/1 [==============================] - 0s 3ms/step - loss: 2.4851 - mae: 2.4851\n",
      "Epoch 48/100\n",
      "1/1 [==============================] - 0s 2ms/step - loss: 2.3093 - mae: 2.3093\n",
      "Epoch 49/100\n",
      "1/1 [==============================] - 0s 3ms/step - loss: 2.0502 - mae: 2.0502\n",
      "Epoch 50/100\n",
      "1/1 [==============================] - 0s 3ms/step - loss: 1.8307 - mae: 1.8307\n",
      "Epoch 51/100\n",
      "1/1 [==============================] - 0s 2ms/step - loss: 1.6164 - mae: 1.6164\n",
      "Epoch 52/100\n",
      "1/1 [==============================] - 0s 2ms/step - loss: 1.3419 - mae: 1.3419\n",
      "Epoch 53/100\n",
      "1/1 [==============================] - 0s 2ms/step - loss: 1.0950 - mae: 1.0950\n",
      "Epoch 54/100\n",
      "1/1 [==============================] - 0s 2ms/step - loss: 0.8667 - mae: 0.8667\n",
      "Epoch 55/100\n",
      "1/1 [==============================] - 0s 2ms/step - loss: 0.5800 - mae: 0.5800\n",
      "Epoch 56/100\n",
      "1/1 [==============================] - 0s 3ms/step - loss: 0.3261 - mae: 0.3261\n",
      "Epoch 57/100\n",
      "1/1 [==============================] - 0s 2ms/step - loss: 0.2025 - mae: 0.2025\n",
      "Epoch 58/100\n",
      "1/1 [==============================] - 0s 3ms/step - loss: 0.2594 - mae: 0.2594\n",
      "Epoch 59/100\n",
      "1/1 [==============================] - 0s 3ms/step - loss: 0.5362 - mae: 0.5362\n",
      "Epoch 60/100\n",
      "1/1 [==============================] - 0s 10ms/step - loss: 0.5728 - mae: 0.5728\n",
      "Epoch 61/100\n",
      "1/1 [==============================] - 0s 2ms/step - loss: 0.6798 - mae: 0.6798\n",
      "Epoch 62/100\n",
      "1/1 [==============================] - 0s 4ms/step - loss: 0.6990 - mae: 0.6990\n",
      "Epoch 63/100\n",
      "1/1 [==============================] - 0s 3ms/step - loss: 0.6865 - mae: 0.6865\n",
      "Epoch 64/100\n",
      "1/1 [==============================] - 0s 2ms/step - loss: 0.6188 - mae: 0.6188\n",
      "Epoch 65/100\n",
      "1/1 [==============================] - 0s 3ms/step - loss: 0.5864 - mae: 0.5864\n",
      "Epoch 66/100\n",
      "1/1 [==============================] - 0s 3ms/step - loss: 0.4651 - mae: 0.4651\n",
      "Epoch 67/100\n",
      "1/1 [==============================] - 0s 3ms/step - loss: 0.3623 - mae: 0.3623\n",
      "Epoch 68/100\n",
      "1/1 [==============================] - 0s 3ms/step - loss: 0.1690 - mae: 0.1690\n",
      "Epoch 69/100\n",
      "1/1 [==============================] - 0s 2ms/step - loss: 0.3329 - mae: 0.3329\n",
      "Epoch 70/100\n",
      "1/1 [==============================] - 0s 2ms/step - loss: 0.2752 - mae: 0.2752\n",
      "Epoch 71/100\n",
      "1/1 [==============================] - 0s 3ms/step - loss: 0.3022 - mae: 0.3022\n",
      "Epoch 72/100\n",
      "1/1 [==============================] - 0s 3ms/step - loss: 0.3819 - mae: 0.3819\n",
      "Epoch 73/100\n",
      "1/1 [==============================] - 0s 2ms/step - loss: 0.3872 - mae: 0.3872\n",
      "Epoch 74/100\n",
      "1/1 [==============================] - 0s 3ms/step - loss: 0.3737 - mae: 0.3737\n",
      "Epoch 75/100\n",
      "1/1 [==============================] - 0s 3ms/step - loss: 0.4232 - mae: 0.4232\n",
      "Epoch 76/100\n",
      "1/1 [==============================] - 0s 3ms/step - loss: 0.3630 - mae: 0.3630\n",
      "Epoch 77/100\n",
      "1/1 [==============================] - 0s 2ms/step - loss: 0.2660 - mae: 0.2660\n",
      "Epoch 78/100\n",
      "1/1 [==============================] - 0s 2ms/step - loss: 0.1913 - mae: 0.1913\n",
      "Epoch 79/100\n",
      "1/1 [==============================] - 0s 3ms/step - loss: 0.0974 - mae: 0.0974\n",
      "Epoch 80/100\n",
      "1/1 [==============================] - 0s 3ms/step - loss: 0.1426 - mae: 0.1426\n",
      "Epoch 81/100\n",
      "1/1 [==============================] - 0s 3ms/step - loss: 0.1767 - mae: 0.1767\n",
      "Epoch 82/100\n",
      "1/1 [==============================] - 0s 2ms/step - loss: 0.2442 - mae: 0.2442\n",
      "Epoch 83/100\n",
      "1/1 [==============================] - 0s 3ms/step - loss: 0.2584 - mae: 0.2584\n",
      "Epoch 84/100\n",
      "1/1 [==============================] - 0s 2ms/step - loss: 0.1902 - mae: 0.1902\n",
      "Epoch 85/100\n",
      "1/1 [==============================] - 0s 2ms/step - loss: 0.2473 - mae: 0.2473\n",
      "Epoch 86/100\n",
      "1/1 [==============================] - 0s 5ms/step - loss: 0.1553 - mae: 0.1553\n",
      "Epoch 87/100\n",
      "1/1 [==============================] - 0s 3ms/step - loss: 0.1840 - mae: 0.1840\n",
      "Epoch 88/100\n",
      "1/1 [==============================] - 0s 3ms/step - loss: 0.1825 - mae: 0.1825\n",
      "Epoch 89/100\n",
      "1/1 [==============================] - 0s 3ms/step - loss: 0.1827 - mae: 0.1827\n",
      "Epoch 90/100\n",
      "1/1 [==============================] - 0s 3ms/step - loss: 0.1845 - mae: 0.1845\n",
      "Epoch 91/100\n",
      "1/1 [==============================] - 0s 2ms/step - loss: 0.2074 - mae: 0.2074\n",
      "Epoch 92/100\n",
      "1/1 [==============================] - 0s 2ms/step - loss: 0.1683 - mae: 0.1683\n",
      "Epoch 93/100\n",
      "1/1 [==============================] - 0s 3ms/step - loss: 0.0688 - mae: 0.0688\n",
      "Epoch 94/100\n",
      "1/1 [==============================] - 0s 2ms/step - loss: 0.1092 - mae: 0.1092\n",
      "Epoch 95/100\n",
      "1/1 [==============================] - 0s 2ms/step - loss: 0.1467 - mae: 0.1467\n",
      "Epoch 96/100\n",
      "1/1 [==============================] - 0s 2ms/step - loss: 0.1206 - mae: 0.1206\n",
      "Epoch 97/100\n",
      "1/1 [==============================] - 0s 3ms/step - loss: 0.2703 - mae: 0.2703\n",
      "Epoch 98/100\n",
      "1/1 [==============================] - 0s 2ms/step - loss: 0.1964 - mae: 0.1964\n",
      "Epoch 99/100\n",
      "1/1 [==============================] - 0s 3ms/step - loss: 0.1879 - mae: 0.1879\n",
      "Epoch 100/100\n",
      "1/1 [==============================] - 0s 3ms/step - loss: 0.2155 - mae: 0.2155\n"
     ]
    },
    {
     "data": {
      "text/plain": [
       "<keras.callbacks.History at 0x1e87b63f220>"
      ]
     },
     "execution_count": 273,
     "metadata": {},
     "output_type": "execute_result"
    }
   ],
   "source": [
    "# 1. Create a model\n",
    "model = tf.keras.Sequential([\n",
    "    tf.keras.layers.Dense(50, activation=None),\n",
    "    tf.keras.layers.Dense(1)\n",
    "])\n",
    "\n",
    "# 2. Compile the model\n",
    "model.compile(loss=tf.keras.losses.mae,\n",
    "              optimizer=tf.keras.optimizers.Adam(learning_rate=0.01),\n",
    "              metrics=['mae'])\n",
    "\n",
    "# 3. Fit the model\n",
    "model.fit(X, y, epochs=100)"
   ]
  },
  {
   "cell_type": "code",
   "execution_count": 274,
   "metadata": {},
   "outputs": [
    {
     "name": "stdout",
     "output_type": "stream",
     "text": [
      "1/1 [==============================] - 0s 60ms/step\n"
     ]
    },
    {
     "data": {
      "text/plain": [
       "array([[26.803665]], dtype=float32)"
      ]
     },
     "execution_count": 274,
     "metadata": {},
     "output_type": "execute_result"
    }
   ],
   "source": [
    "# Let's see if our model's prediction has improved...\n",
    "model.predict([17.0]) # should be 27.0"
   ]
  },
  {
   "cell_type": "markdown",
   "metadata": {},
   "source": [
    "### **Evaluating a model**"
   ]
  },
  {
   "cell_type": "markdown",
   "metadata": {},
   "source": [
    "In practice, a typical workflow when building a neural network is:\n",
    "\n",
    "```\n",
    "Build a model -> Fit it -> Evaluate it -> Tweak a model -> Fit it -> Evaluate it -> Tweak a model -> Fit it -> ...\n",
    "```"
   ]
  },
  {
   "cell_type": "markdown",
   "metadata": {},
   "source": [
    "When it comes to evaluation there are 3 important words:  \n",
    "**\"Visualise, visualise, visualise\"**\n",
    "\n",
    "It's a good idea to visualise:\n",
    "* **The data** - what data are we working with? What does it look like?\n",
    "* **The model itself**- what does a model look like?\n",
    "* **The training of the model** - how does a model perform while it learns?\n",
    "* **The predictions of the model** - how do the predictions of a model line up against the ground truth (the original labels)"
   ]
  },
  {
   "cell_type": "code",
   "execution_count": 288,
   "metadata": {},
   "outputs": [
    {
     "data": {
      "text/plain": [
       "<tf.Tensor: shape=(5, 1), dtype=int32, numpy=\n",
       "array([[-100],\n",
       "       [ -96],\n",
       "       [ -92],\n",
       "       [ -88],\n",
       "       [ -84]])>"
      ]
     },
     "execution_count": 288,
     "metadata": {},
     "output_type": "execute_result"
    }
   ],
   "source": [
    "# Make a bigger dataset\n",
    "X = tf.range(-100, 100, 4)\n",
    "X = tf.reshape(X, shape=(50, 1))\n",
    "X[:5]"
   ]
  },
  {
   "cell_type": "code",
   "execution_count": 291,
   "metadata": {},
   "outputs": [
    {
     "data": {
      "text/plain": [
       "<tf.Tensor: shape=(5, 1), dtype=int32, numpy=\n",
       "array([[-90],\n",
       "       [-86],\n",
       "       [-82],\n",
       "       [-78],\n",
       "       [-74]])>"
      ]
     },
     "execution_count": 291,
     "metadata": {},
     "output_type": "execute_result"
    }
   ],
   "source": [
    "# Make labels for the dataset\n",
    "y = X + 10\n",
    "y[:5]"
   ]
  },
  {
   "cell_type": "code",
   "execution_count": 293,
   "metadata": {},
   "outputs": [
    {
     "data": {
      "image/png": "[encoded data removed]",
      "text/plain": [
       "<Figure size 432x288 with 1 Axes>"
      ]
     },
     "metadata": {
      "needs_background": "light"
     },
     "output_type": "display_data"
    }
   ],
   "source": [
    "# Visualize the data\n",
    "plt.scatter(X, y);"
   ]
  },
  {
   "cell_type": "markdown",
   "metadata": {},
   "source": [
    "### **The 3 sets...**"
   ]
  }
 ],
 "metadata": {
  "kernelspec": {
   "display_name": "Python 3.10.2 64-bit",
   "language": "python",
   "name": "python3"
  },
  "language_info": {
   "codemirror_mode": {
    "name": "ipython",
    "version": 3
   },
   "file_extension": ".py",
   "mimetype": "text/x-python",
   "name": "python",
   "nbconvert_exporter": "python",
   "pygments_lexer": "ipython3",
   "version": "3.10.2"
  },
  "orig_nbformat": 4,
  "vscode": {
   "interpreter": {
    "hash": "26de051ba29f2982a8de78e945f0abaf191376122a1563185a90213a26c5da77"
   }
  }
 },
 "nbformat": 4,
 "nbformat_minor": 2
}
