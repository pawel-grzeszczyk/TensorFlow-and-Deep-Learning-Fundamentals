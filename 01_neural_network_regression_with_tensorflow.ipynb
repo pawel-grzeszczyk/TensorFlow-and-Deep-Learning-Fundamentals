{
 "cells": [
  {
   "cell_type": "markdown",
   "metadata": {},
   "source": [
    "## **Introduction to Regression with Neural Networks in Tensorflow**"
   ]
  },
  {
   "cell_type": "markdown",
   "metadata": {},
   "source": [
    "There are many definitions for regression problem, but in our case we're going to simplify it: predicting a numerical variable based on some other combination of variables, even shorter...predicting a number."
   ]
  },
  {
   "cell_type": "code",
   "execution_count": 435,
   "metadata": {},
   "outputs": [],
   "source": [
    "# import TensorFlow\n",
    "import tensorflow as tf\n",
    "\n",
    "import numpy as np\n",
    "import matplotlib.pyplot as plt"
   ]
  },
  {
   "cell_type": "markdown",
   "metadata": {},
   "source": [
    "### **Create a data to view and fit**"
   ]
  },
  {
   "cell_type": "code",
   "execution_count": 436,
   "metadata": {},
   "outputs": [
    {
     "data": {
      "image/png": "[encoded data removed]",
      "text/plain": [
       "<Figure size 432x288 with 1 Axes>"
      ]
     },
     "metadata": {
      "needs_background": "light"
     },
     "output_type": "display_data"
    }
   ],
   "source": [
    "# Create the features\n",
    "X = np.array([-7.0, -4.0, -1.0, 2.0, 5.0, 8.0, 11.0, 14.0]).reshape(-1, 1)\n",
    "\n",
    "# Create labels\n",
    "y = np.array([3.0, 6.0, 9.0, 12.0, 15.0, 18.0, 21.0, 24.0]).reshape(-1, 1)\n",
    "\n",
    "plt.scatter(X, y);"
   ]
  },
  {
   "cell_type": "code",
   "execution_count": 437,
   "metadata": {},
   "outputs": [
    {
     "data": {
      "text/plain": [
       "array([[ True],\n",
       "       [ True],\n",
       "       [ True],\n",
       "       [ True],\n",
       "       [ True],\n",
       "       [ True],\n",
       "       [ True],\n",
       "       [ True]])"
      ]
     },
     "execution_count": 437,
     "metadata": {},
     "output_type": "execute_result"
    }
   ],
   "source": [
    "y == X + 10"
   ]
  },
  {
   "cell_type": "markdown",
   "metadata": {},
   "source": [
    "### **Input and output shapes**"
   ]
  },
  {
   "cell_type": "code",
   "execution_count": 438,
   "metadata": {},
   "outputs": [
    {
     "data": {
      "text/plain": [
       "(array([-7.]), array([3.]))"
      ]
     },
     "execution_count": 438,
     "metadata": {},
     "output_type": "execute_result"
    }
   ],
   "source": [
    "# One input value is predicting one output\n",
    "X[0], y[0]"
   ]
  },
  {
   "cell_type": "code",
   "execution_count": 439,
   "metadata": {},
   "outputs": [
    {
     "data": {
      "text/plain": [
       "(<tf.Tensor: shape=(8, 1), dtype=float16, numpy=\n",
       " array([[-7.],\n",
       "        [-4.],\n",
       "        [-1.],\n",
       "        [ 2.],\n",
       "        [ 5.],\n",
       "        [ 8.],\n",
       "        [11.],\n",
       "        [14.]], dtype=float16)>,\n",
       " <tf.Tensor: shape=(8, 1), dtype=float16, numpy=\n",
       " array([[ 3.],\n",
       "        [ 6.],\n",
       "        [ 9.],\n",
       "        [12.],\n",
       "        [15.],\n",
       "        [18.],\n",
       "        [21.],\n",
       "        [24.]], dtype=float16)>)"
      ]
     },
     "execution_count": 439,
     "metadata": {},
     "output_type": "execute_result"
    }
   ],
   "source": [
    "# Turn NumPy arrays into tensors with dtype float 16\n",
    "X = tf.cast(tf.constant(X), dtype=tf.float16)\n",
    "y = tf.cast(tf.constant(y), dtype=tf.float16)\n",
    "X, y"
   ]
  },
  {
   "cell_type": "code",
   "execution_count": 440,
   "metadata": {},
   "outputs": [
    {
     "data": {
      "text/plain": [
       "(TensorShape([1]), TensorShape([1]))"
      ]
     },
     "execution_count": 440,
     "metadata": {},
     "output_type": "execute_result"
    }
   ],
   "source": [
    "# Check the shapes of an input and output layers\n",
    "input_shape = X[0].shape\n",
    "output_shape = y[0].shape\n",
    "input_shape, output_shape"
   ]
  },
  {
   "cell_type": "markdown",
   "metadata": {},
   "source": [
    "### **Steps in modeling with TensorFlow**"
   ]
  },
  {
   "cell_type": "markdown",
   "metadata": {},
   "source": [
    "1. **Creating a model** - define `input and output layers`, as well as the `hidden layers` of a deep learning model. \n",
    "2. **Compiling a model** - prepare the model to be used with data; define:\n",
    "    * `loss function` (how wrong the model's predictions are compared to the truth labels),\n",
    "    * `optimizer` (hot the model should update its internal patterns to better its predictions),\n",
    "    * `evaluation mertics` (human interpretable values for how well the model is doing).  \n",
    "3. **Fitting the model** - let the model try to `find patterns` between X & y (features and labels)."
   ]
  },
  {
   "cell_type": "code",
   "execution_count": 441,
   "metadata": {},
   "outputs": [
    {
     "name": "stdout",
     "output_type": "stream",
     "text": [
      "Epoch 1/5\n",
      "1/1 [==============================] - 0s 207ms/step - loss: 18.2580 - mae: 18.2580\n",
      "Epoch 2/5\n",
      "1/1 [==============================] - 0s 2ms/step - loss: 17.9767 - mae: 17.9767\n",
      "Epoch 3/5\n",
      "1/1 [==============================] - 0s 2ms/step - loss: 17.6955 - mae: 17.6955\n",
      "Epoch 4/5\n",
      "1/1 [==============================] - 0s 2ms/step - loss: 17.4142 - mae: 17.4142\n",
      "Epoch 5/5\n",
      "1/1 [==============================] - 0s 3ms/step - loss: 17.1330 - mae: 17.1330\n"
     ]
    },
    {
     "data": {
      "text/plain": [
       "<keras.callbacks.History at 0x261b2112260>"
      ]
     },
     "execution_count": 441,
     "metadata": {},
     "output_type": "execute_result"
    }
   ],
   "source": [
    "# Set random seed\n",
    "tf.random.set_seed(42)\n",
    "\n",
    "# 1. Create a model using the sequential API\n",
    "model = tf.keras.Sequential([\n",
    "    tf.keras.layers.Dense(1)\n",
    "])\n",
    "\n",
    "# 2. Compile the model\n",
    "model.compile(loss=tf.keras.losses.mae, # mae is short for mean absolute error\n",
    "              optimizer=tf.keras.optimizers.SGD(), # SGD is short for stochastic gradient descent\n",
    "              metrics=['mae']) \n",
    "\n",
    "# 3. Fit the model\n",
    "model.fit(X, y, epochs=5) # epochs is how many times the model will go through all of the training examples"
   ]
  },
  {
   "cell_type": "code",
   "execution_count": 442,
   "metadata": {},
   "outputs": [
    {
     "data": {
      "text/plain": [
       "(<tf.Tensor: shape=(8, 1), dtype=float16, numpy=\n",
       " array([[-7.],\n",
       "        [-4.],\n",
       "        [-1.],\n",
       "        [ 2.],\n",
       "        [ 5.],\n",
       "        [ 8.],\n",
       "        [11.],\n",
       "        [14.]], dtype=float16)>,\n",
       " <tf.Tensor: shape=(8, 1), dtype=float16, numpy=\n",
       " array([[ 3.],\n",
       "        [ 6.],\n",
       "        [ 9.],\n",
       "        [12.],\n",
       "        [15.],\n",
       "        [18.],\n",
       "        [21.],\n",
       "        [24.]], dtype=float16)>)"
      ]
     },
     "execution_count": 442,
     "metadata": {},
     "output_type": "execute_result"
    }
   ],
   "source": [
    "# Check out X and Y\n",
    "X, y"
   ]
  },
  {
   "cell_type": "code",
   "execution_count": 443,
   "metadata": {},
   "outputs": [
    {
     "name": "stdout",
     "output_type": "stream",
     "text": [
      "1/1 [==============================] - 0s 52ms/step\n"
     ]
    },
    {
     "data": {
      "text/plain": [
       "array([[-13.335285]], dtype=float32)"
      ]
     },
     "execution_count": 443,
     "metadata": {},
     "output_type": "execute_result"
    }
   ],
   "source": [
    "# Try and make a prediction using our model\n",
    "model.predict([17.0]) # should be 27.0"
   ]
  },
  {
   "cell_type": "markdown",
   "metadata": {},
   "source": [
    "### **Improving the model**"
   ]
  },
  {
   "cell_type": "markdown",
   "metadata": {},
   "source": [
    "We can improve our model by improving the steps we took to create a model.  \n",
    "**What can be improved in each step**:\n",
    "1. **Create a model:**\n",
    "    * add more `layers`,\n",
    "    * increase the `number of hidden units` (also caled neurons) within each of the hidden layers,\n",
    "    * change `activation function` of each layer.\n",
    "2. **Compiling a model:**\n",
    "    * change the `optimization function`,\n",
    "    * change the `learning rate` of optimization function.\n",
    "3. **Fitting a model:**\n",
    "    * fit a model for more `epochs` (leave it training for longer)\n",
    "    * add `more data` (give it more examples to learn from)"
   ]
  },
  {
   "cell_type": "markdown",
   "metadata": {},
   "source": [
    "**Increasing the number of `epochs`**"
   ]
  },
  {
   "cell_type": "code",
   "execution_count": 444,
   "metadata": {},
   "outputs": [
    {
     "name": "stdout",
     "output_type": "stream",
     "text": [
      "Epoch 1/100\n",
      "1/1 [==============================] - 0s 221ms/step - loss: 9.5830 - mae: 9.5830\n",
      "Epoch 2/100\n",
      "1/1 [==============================] - 0s 3ms/step - loss: 9.4505 - mae: 9.4505\n",
      "Epoch 3/100\n",
      "1/1 [==============================] - 0s 3ms/step - loss: 9.3180 - mae: 9.3180\n",
      "Epoch 4/100\n",
      "1/1 [==============================] - 0s 2ms/step - loss: 9.1855 - mae: 9.1855\n",
      "Epoch 5/100\n",
      "1/1 [==============================] - 0s 2ms/step - loss: 9.0530 - mae: 9.0530\n",
      "Epoch 6/100\n",
      "1/1 [==============================] - 0s 2ms/step - loss: 8.9205 - mae: 8.9205\n",
      "Epoch 7/100\n",
      "1/1 [==============================] - 0s 3ms/step - loss: 8.7880 - mae: 8.7880\n",
      "Epoch 8/100\n",
      "1/1 [==============================] - 0s 2ms/step - loss: 8.6555 - mae: 8.6555\n",
      "Epoch 9/100\n",
      "1/1 [==============================] - 0s 2ms/step - loss: 8.5230 - mae: 8.5230\n",
      "Epoch 10/100\n",
      "1/1 [==============================] - 0s 2ms/step - loss: 8.3905 - mae: 8.3905\n",
      "Epoch 11/100\n",
      "1/1 [==============================] - 0s 3ms/step - loss: 8.2580 - mae: 8.2580\n",
      "Epoch 12/100\n",
      "1/1 [==============================] - 0s 3ms/step - loss: 8.1255 - mae: 8.1255\n",
      "Epoch 13/100\n",
      "1/1 [==============================] - 0s 2ms/step - loss: 7.9930 - mae: 7.9930\n",
      "Epoch 14/100\n",
      "1/1 [==============================] - 0s 2ms/step - loss: 7.8605 - mae: 7.8605\n",
      "Epoch 15/100\n",
      "1/1 [==============================] - 0s 4ms/step - loss: 7.7280 - mae: 7.7280\n",
      "Epoch 16/100\n",
      "1/1 [==============================] - 0s 2ms/step - loss: 7.5955 - mae: 7.5955\n",
      "Epoch 17/100\n",
      "1/1 [==============================] - 0s 2ms/step - loss: 7.4630 - mae: 7.4630\n",
      "Epoch 18/100\n",
      "1/1 [==============================] - 0s 2ms/step - loss: 7.3725 - mae: 7.3725\n",
      "Epoch 19/100\n",
      "1/1 [==============================] - 0s 4ms/step - loss: 7.3669 - mae: 7.3669\n",
      "Epoch 20/100\n",
      "1/1 [==============================] - 0s 998us/step - loss: 7.3612 - mae: 7.3612\n",
      "Epoch 21/100\n",
      "1/1 [==============================] - 0s 2ms/step - loss: 7.3556 - mae: 7.3556\n",
      "Epoch 22/100\n",
      "1/1 [==============================] - 0s 2ms/step - loss: 7.3500 - mae: 7.3500\n",
      "Epoch 23/100\n",
      "1/1 [==============================] - 0s 4ms/step - loss: 7.3444 - mae: 7.3444\n",
      "Epoch 24/100\n",
      "1/1 [==============================] - 0s 2ms/step - loss: 7.3387 - mae: 7.3387\n",
      "Epoch 25/100\n",
      "1/1 [==============================] - 0s 2ms/step - loss: 7.3331 - mae: 7.3331\n",
      "Epoch 26/100\n",
      "1/1 [==============================] - 0s 2ms/step - loss: 7.3275 - mae: 7.3275\n",
      "Epoch 27/100\n",
      "1/1 [==============================] - 0s 4ms/step - loss: 7.3219 - mae: 7.3219\n",
      "Epoch 28/100\n",
      "1/1 [==============================] - 0s 3ms/step - loss: 7.3163 - mae: 7.3163\n",
      "Epoch 29/100\n",
      "1/1 [==============================] - 0s 2ms/step - loss: 7.3106 - mae: 7.3106\n",
      "Epoch 30/100\n",
      "1/1 [==============================] - 0s 2ms/step - loss: 7.3050 - mae: 7.3050\n",
      "Epoch 31/100\n",
      "1/1 [==============================] - 0s 4ms/step - loss: 7.2994 - mae: 7.2994\n",
      "Epoch 32/100\n",
      "1/1 [==============================] - 0s 2ms/step - loss: 7.2938 - mae: 7.2938\n",
      "Epoch 33/100\n",
      "1/1 [==============================] - 0s 998us/step - loss: 7.2881 - mae: 7.2881\n",
      "Epoch 34/100\n",
      "1/1 [==============================] - 0s 2ms/step - loss: 7.2825 - mae: 7.2825\n",
      "Epoch 35/100\n",
      "1/1 [==============================] - 0s 4ms/step - loss: 7.2769 - mae: 7.2769\n",
      "Epoch 36/100\n",
      "1/1 [==============================] - 0s 2ms/step - loss: 7.2713 - mae: 7.2713\n",
      "Epoch 37/100\n",
      "1/1 [==============================] - 0s 2ms/step - loss: 7.2656 - mae: 7.2656\n",
      "Epoch 38/100\n",
      "1/1 [==============================] - 0s 3ms/step - loss: 7.2600 - mae: 7.2600\n",
      "Epoch 39/100\n",
      "1/1 [==============================] - 0s 3ms/step - loss: 7.2544 - mae: 7.2544\n",
      "Epoch 40/100\n",
      "1/1 [==============================] - 0s 2ms/step - loss: 7.2488 - mae: 7.2488\n",
      "Epoch 41/100\n",
      "1/1 [==============================] - 0s 2ms/step - loss: 7.2431 - mae: 7.2431\n",
      "Epoch 42/100\n",
      "1/1 [==============================] - 0s 2ms/step - loss: 7.2375 - mae: 7.2375\n",
      "Epoch 43/100\n",
      "1/1 [==============================] - 0s 3ms/step - loss: 7.2319 - mae: 7.2319\n",
      "Epoch 44/100\n",
      "1/1 [==============================] - 0s 2ms/step - loss: 7.2263 - mae: 7.2263\n",
      "Epoch 45/100\n",
      "1/1 [==============================] - 0s 3ms/step - loss: 7.2206 - mae: 7.2206\n",
      "Epoch 46/100\n",
      "1/1 [==============================] - 0s 2ms/step - loss: 7.2150 - mae: 7.2150\n",
      "Epoch 47/100\n",
      "1/1 [==============================] - 0s 3ms/step - loss: 7.2094 - mae: 7.2094\n",
      "Epoch 48/100\n",
      "1/1 [==============================] - 0s 3ms/step - loss: 7.2038 - mae: 7.2038\n",
      "Epoch 49/100\n",
      "1/1 [==============================] - 0s 3ms/step - loss: 7.1981 - mae: 7.1981\n",
      "Epoch 50/100\n",
      "1/1 [==============================] - 0s 3ms/step - loss: 7.1925 - mae: 7.1925\n",
      "Epoch 51/100\n",
      "1/1 [==============================] - 0s 5ms/step - loss: 7.1869 - mae: 7.1869\n",
      "Epoch 52/100\n",
      "1/1 [==============================] - 0s 3ms/step - loss: 7.1813 - mae: 7.1813\n",
      "Epoch 53/100\n",
      "1/1 [==============================] - 0s 3ms/step - loss: 7.1756 - mae: 7.1756\n",
      "Epoch 54/100\n",
      "1/1 [==============================] - 0s 4ms/step - loss: 7.1700 - mae: 7.1700\n",
      "Epoch 55/100\n",
      "1/1 [==============================] - 0s 3ms/step - loss: 7.1644 - mae: 7.1644\n",
      "Epoch 56/100\n",
      "1/1 [==============================] - 0s 6ms/step - loss: 7.1588 - mae: 7.1588\n",
      "Epoch 57/100\n",
      "1/1 [==============================] - 0s 3ms/step - loss: 7.1531 - mae: 7.1531\n",
      "Epoch 58/100\n",
      "1/1 [==============================] - 0s 3ms/step - loss: 7.1475 - mae: 7.1475\n",
      "Epoch 59/100\n",
      "1/1 [==============================] - 0s 5ms/step - loss: 7.1419 - mae: 7.1419\n",
      "Epoch 60/100\n",
      "1/1 [==============================] - 0s 4ms/step - loss: 7.1363 - mae: 7.1363\n",
      "Epoch 61/100\n",
      "1/1 [==============================] - 0s 5ms/step - loss: 7.1306 - mae: 7.1306\n",
      "Epoch 62/100\n",
      "1/1 [==============================] - 0s 3ms/step - loss: 7.1250 - mae: 7.1250\n",
      "Epoch 63/100\n",
      "1/1 [==============================] - 0s 3ms/step - loss: 7.1194 - mae: 7.1194\n",
      "Epoch 64/100\n",
      "1/1 [==============================] - 0s 4ms/step - loss: 7.1138 - mae: 7.1138\n",
      "Epoch 65/100\n",
      "1/1 [==============================] - 0s 3ms/step - loss: 7.1081 - mae: 7.1081\n",
      "Epoch 66/100\n",
      "1/1 [==============================] - 0s 3ms/step - loss: 7.1025 - mae: 7.1025\n",
      "Epoch 67/100\n",
      "1/1 [==============================] - 0s 5ms/step - loss: 7.0969 - mae: 7.0969\n",
      "Epoch 68/100\n",
      "1/1 [==============================] - 0s 2ms/step - loss: 7.0913 - mae: 7.0913\n",
      "Epoch 69/100\n",
      "1/1 [==============================] - 0s 4ms/step - loss: 7.0856 - mae: 7.0856\n",
      "Epoch 70/100\n",
      "1/1 [==============================] - 0s 5ms/step - loss: 7.0800 - mae: 7.0800\n",
      "Epoch 71/100\n",
      "1/1 [==============================] - 0s 3ms/step - loss: 7.0744 - mae: 7.0744\n",
      "Epoch 72/100\n",
      "1/1 [==============================] - 0s 4ms/step - loss: 7.0688 - mae: 7.0688\n",
      "Epoch 73/100\n",
      "1/1 [==============================] - 0s 2ms/step - loss: 7.0631 - mae: 7.0631\n",
      "Epoch 74/100\n",
      "1/1 [==============================] - 0s 3ms/step - loss: 7.0575 - mae: 7.0575\n",
      "Epoch 75/100\n",
      "1/1 [==============================] - 0s 4ms/step - loss: 7.0519 - mae: 7.0519\n",
      "Epoch 76/100\n",
      "1/1 [==============================] - 0s 3ms/step - loss: 7.0463 - mae: 7.0463\n",
      "Epoch 77/100\n",
      "1/1 [==============================] - 0s 3ms/step - loss: 7.0406 - mae: 7.0406\n",
      "Epoch 78/100\n",
      "1/1 [==============================] - 0s 5ms/step - loss: 7.0350 - mae: 7.0350\n",
      "Epoch 79/100\n",
      "1/1 [==============================] - 0s 3ms/step - loss: 7.0294 - mae: 7.0294\n",
      "Epoch 80/100\n",
      "1/1 [==============================] - 0s 3ms/step - loss: 7.0238 - mae: 7.0238\n",
      "Epoch 81/100\n",
      "1/1 [==============================] - 0s 4ms/step - loss: 7.0181 - mae: 7.0181\n",
      "Epoch 82/100\n",
      "1/1 [==============================] - 0s 3ms/step - loss: 7.0125 - mae: 7.0125\n",
      "Epoch 83/100\n",
      "1/1 [==============================] - 0s 3ms/step - loss: 7.0069 - mae: 7.0069\n",
      "Epoch 84/100\n",
      "1/1 [==============================] - 0s 4ms/step - loss: 7.0013 - mae: 7.0013\n",
      "Epoch 85/100\n",
      "1/1 [==============================] - 0s 4ms/step - loss: 6.9956 - mae: 6.9956\n",
      "Epoch 86/100\n",
      "1/1 [==============================] - 0s 5ms/step - loss: 6.9900 - mae: 6.9900\n",
      "Epoch 87/100\n",
      "1/1 [==============================] - 0s 3ms/step - loss: 6.9844 - mae: 6.9844\n",
      "Epoch 88/100\n",
      "1/1 [==============================] - 0s 4ms/step - loss: 6.9788 - mae: 6.9788\n",
      "Epoch 89/100\n",
      "1/1 [==============================] - 0s 5ms/step - loss: 6.9731 - mae: 6.9731\n",
      "Epoch 90/100\n",
      "1/1 [==============================] - 0s 4ms/step - loss: 6.9675 - mae: 6.9675\n",
      "Epoch 91/100\n",
      "1/1 [==============================] - 0s 4ms/step - loss: 6.9619 - mae: 6.9619\n",
      "Epoch 92/100\n",
      "1/1 [==============================] - 0s 4ms/step - loss: 6.9563 - mae: 6.9563\n",
      "Epoch 93/100\n",
      "1/1 [==============================] - 0s 2ms/step - loss: 6.9506 - mae: 6.9506\n",
      "Epoch 94/100\n",
      "1/1 [==============================] - 0s 3ms/step - loss: 6.9450 - mae: 6.9450\n",
      "Epoch 95/100\n",
      "1/1 [==============================] - 0s 2ms/step - loss: 6.9394 - mae: 6.9394\n",
      "Epoch 96/100\n",
      "1/1 [==============================] - 0s 2ms/step - loss: 6.9338 - mae: 6.9338\n",
      "Epoch 97/100\n",
      "1/1 [==============================] - 0s 2ms/step - loss: 6.9281 - mae: 6.9281\n",
      "Epoch 98/100\n",
      "1/1 [==============================] - 0s 2ms/step - loss: 6.9225 - mae: 6.9225\n",
      "Epoch 99/100\n",
      "1/1 [==============================] - 0s 3ms/step - loss: 6.9169 - mae: 6.9169\n",
      "Epoch 100/100\n",
      "1/1 [==============================] - 0s 2ms/step - loss: 6.9113 - mae: 6.9113\n"
     ]
    },
    {
     "data": {
      "text/plain": [
       "<keras.callbacks.History at 0x261b1f65de0>"
      ]
     },
     "execution_count": 444,
     "metadata": {},
     "output_type": "execute_result"
    }
   ],
   "source": [
    "# Let's rebuild our model\n",
    "\n",
    "# 1. Create a model\n",
    "model = tf.keras.Sequential([\n",
    "    tf.keras.layers.Dense(1)\n",
    "])\n",
    "\n",
    "# 2. Compile the model\n",
    "model.compile(loss=tf.keras.losses.mae,\n",
    "              optimizer=tf.keras.optimizers.SGD(),\n",
    "              metrics=['mae'])\n",
    "\n",
    "# 3. Fit the model (this time we'll train for longer)\n",
    "model.fit(X, y, epochs=100)"
   ]
  },
  {
   "cell_type": "code",
   "execution_count": 445,
   "metadata": {},
   "outputs": [
    {
     "name": "stdout",
     "output_type": "stream",
     "text": [
      "1/1 [==============================] - 0s 49ms/step\n"
     ]
    },
    {
     "data": {
      "text/plain": [
       "array([[29.932919]], dtype=float32)"
      ]
     },
     "execution_count": 445,
     "metadata": {},
     "output_type": "execute_result"
    }
   ],
   "source": [
    "# Let's see if our model's prediction has improved...\n",
    "model.predict([17.0]) # should be 27.0"
   ]
  },
  {
   "cell_type": "markdown",
   "metadata": {},
   "source": [
    "**Adding `one more hidden layer`, reducing the `number of hidden units` and changing the optimizer to `Adam`**"
   ]
  },
  {
   "cell_type": "code",
   "execution_count": 446,
   "metadata": {},
   "outputs": [
    {
     "name": "stdout",
     "output_type": "stream",
     "text": [
      "Epoch 1/100\n",
      "1/1 [==============================] - 0s 304ms/step - loss: 12.8716 - mae: 12.8716\n",
      "Epoch 2/100\n",
      "1/1 [==============================] - 0s 3ms/step - loss: 12.1709 - mae: 12.1709\n",
      "Epoch 3/100\n",
      "1/1 [==============================] - 0s 2ms/step - loss: 11.4720 - mae: 11.4720\n",
      "Epoch 4/100\n",
      "1/1 [==============================] - 0s 2ms/step - loss: 10.7724 - mae: 10.7724\n",
      "Epoch 5/100\n",
      "1/1 [==============================] - 0s 998us/step - loss: 10.0671 - mae: 10.0671\n",
      "Epoch 6/100\n",
      "1/1 [==============================] - 0s 2ms/step - loss: 9.3513 - mae: 9.3513\n",
      "Epoch 7/100\n",
      "1/1 [==============================] - 0s 2ms/step - loss: 8.6215 - mae: 8.6215\n",
      "Epoch 8/100\n",
      "1/1 [==============================] - 0s 2ms/step - loss: 7.8751 - mae: 7.8751\n",
      "Epoch 9/100\n",
      "1/1 [==============================] - 0s 2ms/step - loss: 7.1099 - mae: 7.1099\n",
      "Epoch 10/100\n",
      "1/1 [==============================] - 0s 2ms/step - loss: 6.8072 - mae: 6.8072\n",
      "Epoch 11/100\n",
      "1/1 [==============================] - 0s 3ms/step - loss: 7.1207 - mae: 7.1207\n",
      "Epoch 12/100\n",
      "1/1 [==============================] - 0s 2ms/step - loss: 7.4065 - mae: 7.4065\n",
      "Epoch 13/100\n",
      "1/1 [==============================] - 0s 2ms/step - loss: 7.7286 - mae: 7.7286\n",
      "Epoch 14/100\n",
      "1/1 [==============================] - 0s 3ms/step - loss: 7.8171 - mae: 7.8171\n",
      "Epoch 15/100\n",
      "1/1 [==============================] - 0s 2ms/step - loss: 7.7063 - mae: 7.7063\n",
      "Epoch 16/100\n",
      "1/1 [==============================] - 0s 3ms/step - loss: 7.4470 - mae: 7.4470\n",
      "Epoch 17/100\n",
      "1/1 [==============================] - 0s 2ms/step - loss: 7.0852 - mae: 7.0852\n",
      "Epoch 18/100\n",
      "1/1 [==============================] - 0s 2ms/step - loss: 6.8264 - mae: 6.8264\n",
      "Epoch 19/100\n",
      "1/1 [==============================] - 0s 2ms/step - loss: 6.5509 - mae: 6.5509\n",
      "Epoch 20/100\n",
      "1/1 [==============================] - 0s 3ms/step - loss: 6.2627 - mae: 6.2627\n",
      "Epoch 21/100\n",
      "1/1 [==============================] - 0s 2ms/step - loss: 6.1332 - mae: 6.1332\n",
      "Epoch 22/100\n",
      "1/1 [==============================] - 0s 2ms/step - loss: 6.0877 - mae: 6.0877\n",
      "Epoch 23/100\n",
      "1/1 [==============================] - 0s 2ms/step - loss: 6.2343 - mae: 6.2343\n",
      "Epoch 24/100\n",
      "1/1 [==============================] - 0s 2ms/step - loss: 6.3169 - mae: 6.3169\n",
      "Epoch 25/100\n",
      "1/1 [==============================] - 0s 2ms/step - loss: 6.2979 - mae: 6.2979\n",
      "Epoch 26/100\n",
      "1/1 [==============================] - 0s 2ms/step - loss: 6.1904 - mae: 6.1904\n",
      "Epoch 27/100\n",
      "1/1 [==============================] - 0s 3ms/step - loss: 6.0039 - mae: 6.0039\n",
      "Epoch 28/100\n",
      "1/1 [==============================] - 0s 2ms/step - loss: 5.7455 - mae: 5.7455\n",
      "Epoch 29/100\n",
      "1/1 [==============================] - 0s 2ms/step - loss: 5.5395 - mae: 5.5395\n",
      "Epoch 30/100\n",
      "1/1 [==============================] - 0s 2ms/step - loss: 5.4317 - mae: 5.4317\n",
      "Epoch 31/100\n",
      "1/1 [==============================] - 0s 3ms/step - loss: 5.3585 - mae: 5.3585\n",
      "Epoch 32/100\n",
      "1/1 [==============================] - 0s 2ms/step - loss: 5.3655 - mae: 5.3655\n",
      "Epoch 33/100\n",
      "1/1 [==============================] - 0s 2ms/step - loss: 5.3271 - mae: 5.3271\n",
      "Epoch 34/100\n",
      "1/1 [==============================] - 0s 3ms/step - loss: 5.2467 - mae: 5.2467\n",
      "Epoch 35/100\n",
      "1/1 [==============================] - 0s 2ms/step - loss: 5.1275 - mae: 5.1275\n",
      "Epoch 36/100\n",
      "1/1 [==============================] - 0s 2ms/step - loss: 4.9728 - mae: 4.9728\n",
      "Epoch 37/100\n",
      "1/1 [==============================] - 0s 2ms/step - loss: 4.7855 - mae: 4.7855\n",
      "Epoch 38/100\n",
      "1/1 [==============================] - 0s 2ms/step - loss: 4.6454 - mae: 4.6454\n",
      "Epoch 39/100\n",
      "1/1 [==============================] - 0s 2ms/step - loss: 4.5491 - mae: 4.5491\n",
      "Epoch 40/100\n",
      "1/1 [==============================] - 0s 2ms/step - loss: 4.4450 - mae: 4.4450\n",
      "Epoch 41/100\n",
      "1/1 [==============================] - 0s 3ms/step - loss: 4.3918 - mae: 4.3918\n",
      "Epoch 42/100\n",
      "1/1 [==============================] - 0s 2ms/step - loss: 4.2670 - mae: 4.2670\n",
      "Epoch 43/100\n",
      "1/1 [==============================] - 0s 2ms/step - loss: 4.0595 - mae: 4.0595\n",
      "Epoch 44/100\n",
      "1/1 [==============================] - 0s 2ms/step - loss: 3.9077 - mae: 3.9077\n",
      "Epoch 45/100\n",
      "1/1 [==============================] - 0s 2ms/step - loss: 3.7489 - mae: 3.7489\n",
      "Epoch 46/100\n",
      "1/1 [==============================] - 0s 2ms/step - loss: 3.5828 - mae: 3.5828\n",
      "Epoch 47/100\n",
      "1/1 [==============================] - 0s 2ms/step - loss: 3.5016 - mae: 3.5016\n",
      "Epoch 48/100\n",
      "1/1 [==============================] - 0s 2ms/step - loss: 3.3660 - mae: 3.3660\n",
      "Epoch 49/100\n",
      "1/1 [==============================] - 0s 2ms/step - loss: 3.1758 - mae: 3.1758\n",
      "Epoch 50/100\n",
      "1/1 [==============================] - 0s 2ms/step - loss: 2.9340 - mae: 2.9340\n",
      "Epoch 51/100\n",
      "1/1 [==============================] - 0s 2ms/step - loss: 2.7359 - mae: 2.7359\n",
      "Epoch 52/100\n",
      "1/1 [==============================] - 0s 2ms/step - loss: 2.5781 - mae: 2.5781\n",
      "Epoch 53/100\n",
      "1/1 [==============================] - 0s 2ms/step - loss: 2.3901 - mae: 2.3901\n",
      "Epoch 54/100\n",
      "1/1 [==============================] - 0s 2ms/step - loss: 2.1352 - mae: 2.1352\n",
      "Epoch 55/100\n",
      "1/1 [==============================] - 0s 2ms/step - loss: 1.9228 - mae: 1.9228\n",
      "Epoch 56/100\n",
      "1/1 [==============================] - 0s 2ms/step - loss: 1.7295 - mae: 1.7295\n",
      "Epoch 57/100\n",
      "1/1 [==============================] - 0s 2ms/step - loss: 1.4691 - mae: 1.4691\n",
      "Epoch 58/100\n",
      "1/1 [==============================] - 0s 3ms/step - loss: 1.2140 - mae: 1.2140\n",
      "Epoch 59/100\n",
      "1/1 [==============================] - 0s 2ms/step - loss: 1.0694 - mae: 1.0694\n",
      "Epoch 60/100\n",
      "1/1 [==============================] - 0s 2ms/step - loss: 0.7650 - mae: 0.7650\n",
      "Epoch 61/100\n",
      "1/1 [==============================] - 0s 3ms/step - loss: 0.4838 - mae: 0.4838\n",
      "Epoch 62/100\n",
      "1/1 [==============================] - 0s 4ms/step - loss: 0.2707 - mae: 0.2707\n",
      "Epoch 63/100\n",
      "1/1 [==============================] - 0s 4ms/step - loss: 0.2352 - mae: 0.2352\n",
      "Epoch 64/100\n",
      "1/1 [==============================] - 0s 2ms/step - loss: 0.3807 - mae: 0.3807\n",
      "Epoch 65/100\n",
      "1/1 [==============================] - 0s 2ms/step - loss: 0.5685 - mae: 0.5685\n",
      "Epoch 66/100\n",
      "1/1 [==============================] - 0s 4ms/step - loss: 0.6382 - mae: 0.6382\n",
      "Epoch 67/100\n",
      "1/1 [==============================] - 0s 3ms/step - loss: 0.6951 - mae: 0.6951\n",
      "Epoch 68/100\n",
      "1/1 [==============================] - 0s 2ms/step - loss: 0.7119 - mae: 0.7119\n",
      "Epoch 69/100\n",
      "1/1 [==============================] - 0s 2ms/step - loss: 0.6892 - mae: 0.6892\n",
      "Epoch 70/100\n",
      "1/1 [==============================] - 0s 3ms/step - loss: 0.6282 - mae: 0.6282\n",
      "Epoch 71/100\n",
      "1/1 [==============================] - 0s 2ms/step - loss: 0.5342 - mae: 0.5342\n",
      "Epoch 72/100\n",
      "1/1 [==============================] - 0s 3ms/step - loss: 0.4333 - mae: 0.4333\n",
      "Epoch 73/100\n",
      "1/1 [==============================] - 0s 6ms/step - loss: 0.2794 - mae: 0.2794\n",
      "Epoch 74/100\n",
      "1/1 [==============================] - 0s 3ms/step - loss: 0.1530 - mae: 0.1530\n",
      "Epoch 75/100\n",
      "1/1 [==============================] - 0s 2ms/step - loss: 0.1452 - mae: 0.1452\n",
      "Epoch 76/100\n",
      "1/1 [==============================] - 0s 4ms/step - loss: 0.1863 - mae: 0.1863\n",
      "Epoch 77/100\n",
      "1/1 [==============================] - 0s 3ms/step - loss: 0.3487 - mae: 0.3487\n",
      "Epoch 78/100\n",
      "1/1 [==============================] - 0s 3ms/step - loss: 0.3385 - mae: 0.3385\n",
      "Epoch 79/100\n",
      "1/1 [==============================] - 0s 2ms/step - loss: 0.4430 - mae: 0.4430\n",
      "Epoch 80/100\n",
      "1/1 [==============================] - 0s 4ms/step - loss: 0.4176 - mae: 0.4176\n",
      "Epoch 81/100\n",
      "1/1 [==============================] - 0s 2ms/step - loss: 0.3168 - mae: 0.3168\n",
      "Epoch 82/100\n",
      "1/1 [==============================] - 0s 2ms/step - loss: 0.3176 - mae: 0.3176\n",
      "Epoch 83/100\n",
      "1/1 [==============================] - 0s 3ms/step - loss: 0.1444 - mae: 0.1444\n",
      "Epoch 84/100\n",
      "1/1 [==============================] - 0s 2ms/step - loss: 0.2568 - mae: 0.2568\n",
      "Epoch 85/100\n",
      "1/1 [==============================] - 0s 998us/step - loss: 0.1781 - mae: 0.1781\n",
      "Epoch 86/100\n",
      "1/1 [==============================] - 0s 3ms/step - loss: 0.2852 - mae: 0.2852\n",
      "Epoch 87/100\n",
      "1/1 [==============================] - 0s 5ms/step - loss: 0.4161 - mae: 0.4161\n",
      "Epoch 88/100\n",
      "1/1 [==============================] - 0s 2ms/step - loss: 0.3068 - mae: 0.3068\n",
      "Epoch 89/100\n",
      "1/1 [==============================] - 0s 2ms/step - loss: 0.2215 - mae: 0.2215\n",
      "Epoch 90/100\n",
      "1/1 [==============================] - 0s 2ms/step - loss: 0.2198 - mae: 0.2198\n",
      "Epoch 91/100\n",
      "1/1 [==============================] - 0s 3ms/step - loss: 0.1147 - mae: 0.1147\n",
      "Epoch 92/100\n",
      "1/1 [==============================] - 0s 3ms/step - loss: 0.1426 - mae: 0.1426\n",
      "Epoch 93/100\n",
      "1/1 [==============================] - 0s 2ms/step - loss: 0.1800 - mae: 0.1800\n",
      "Epoch 94/100\n",
      "1/1 [==============================] - 0s 2ms/step - loss: 0.2400 - mae: 0.2400\n",
      "Epoch 95/100\n",
      "1/1 [==============================] - 0s 4ms/step - loss: 0.1418 - mae: 0.1418\n",
      "Epoch 96/100\n",
      "1/1 [==============================] - 0s 2ms/step - loss: 0.2884 - mae: 0.2884\n",
      "Epoch 97/100\n",
      "1/1 [==============================] - 0s 2ms/step - loss: 0.2593 - mae: 0.2593\n",
      "Epoch 98/100\n",
      "1/1 [==============================] - 0s 3ms/step - loss: 0.0699 - mae: 0.0699\n",
      "Epoch 99/100\n",
      "1/1 [==============================] - 0s 3ms/step - loss: 0.0717 - mae: 0.0717\n",
      "Epoch 100/100\n",
      "1/1 [==============================] - 0s 2ms/step - loss: 0.2312 - mae: 0.2312\n"
     ]
    },
    {
     "data": {
      "text/plain": [
       "<keras.callbacks.History at 0x261b227b010>"
      ]
     },
     "execution_count": 446,
     "metadata": {},
     "output_type": "execute_result"
    }
   ],
   "source": [
    "# 1. Create a model\n",
    "model = tf.keras.Sequential([\n",
    "    tf.keras.layers.Dense(50, activation=None),\n",
    "    tf.keras.layers.Dense(1)\n",
    "])\n",
    "\n",
    "# 2. Compile the model\n",
    "model.compile(loss=tf.keras.losses.mae,\n",
    "              optimizer=tf.keras.optimizers.Adam(learning_rate=0.01),\n",
    "              metrics=['mae'])\n",
    "\n",
    "# 3. Fit the model\n",
    "model.fit(X, y, epochs=100)"
   ]
  },
  {
   "cell_type": "code",
   "execution_count": 447,
   "metadata": {},
   "outputs": [
    {
     "name": "stdout",
     "output_type": "stream",
     "text": [
      "1/1 [==============================] - 0s 61ms/step\n"
     ]
    },
    {
     "data": {
      "text/plain": [
       "array([[27.481842]], dtype=float32)"
      ]
     },
     "execution_count": 447,
     "metadata": {},
     "output_type": "execute_result"
    }
   ],
   "source": [
    "# Let's see if our model's prediction has improved...\n",
    "model.predict([17.0]) # should be 27.0"
   ]
  },
  {
   "cell_type": "markdown",
   "metadata": {},
   "source": [
    "### **Evaluating a model**"
   ]
  },
  {
   "cell_type": "markdown",
   "metadata": {},
   "source": [
    "In practice, a typical workflow when building a neural network is:\n",
    "\n",
    "```\n",
    "Build a model -> Fit it -> Evaluate it -> Tweak a model -> Fit it -> Evaluate it -> Tweak a model -> Fit it -> ...\n",
    "```"
   ]
  },
  {
   "cell_type": "markdown",
   "metadata": {},
   "source": [
    "When it comes to evaluation there are 3 important words:  \n",
    "**\"Visualise, visualise, visualise\"**\n",
    "\n",
    "It's a good idea to visualise:\n",
    "* **The data** - what data are we working with? What does it look like?\n",
    "* **The model itself**- what does a model look like?\n",
    "* **The training of the model** - how does a model perform while it learns?\n",
    "* **The predictions of the model** - how do the predictions of a model line up against the ground truth (the original labels)"
   ]
  },
  {
   "cell_type": "code",
   "execution_count": 448,
   "metadata": {},
   "outputs": [
    {
     "data": {
      "text/plain": [
       "<tf.Tensor: shape=(5, 1), dtype=int32, numpy=\n",
       "array([[-100],\n",
       "       [ -96],\n",
       "       [ -92],\n",
       "       [ -88],\n",
       "       [ -84]])>"
      ]
     },
     "execution_count": 448,
     "metadata": {},
     "output_type": "execute_result"
    }
   ],
   "source": [
    "# Make a bigger dataset\n",
    "X = tf.range(-100, 100, 4)\n",
    "X = tf.reshape(X, shape=(50, 1))\n",
    "X[:5]"
   ]
  },
  {
   "cell_type": "code",
   "execution_count": 449,
   "metadata": {},
   "outputs": [
    {
     "data": {
      "text/plain": [
       "<tf.Tensor: shape=(5, 1), dtype=int32, numpy=\n",
       "array([[-90],\n",
       "       [-86],\n",
       "       [-82],\n",
       "       [-78],\n",
       "       [-74]])>"
      ]
     },
     "execution_count": 449,
     "metadata": {},
     "output_type": "execute_result"
    }
   ],
   "source": [
    "# Make labels for the dataset\n",
    "y = X + 10\n",
    "y[:5]"
   ]
  },
  {
   "cell_type": "code",
   "execution_count": 450,
   "metadata": {},
   "outputs": [
    {
     "data": {
      "image/png": "[encoded data removed]",
      "text/plain": [
       "<Figure size 432x288 with 1 Axes>"
      ]
     },
     "metadata": {
      "needs_background": "light"
     },
     "output_type": "display_data"
    }
   ],
   "source": [
    "# Visualize the data\n",
    "plt.scatter(X, y);"
   ]
  },
  {
   "cell_type": "markdown",
   "metadata": {},
   "source": [
    "### **The 3 sets**"
   ]
  },
  {
   "cell_type": "markdown",
   "metadata": {},
   "source": [
    "* **Training set** - the model learns from this data (typically 70-80% of the total available data).\n",
    "* **Validation set** - the model gets tuned on this data (typically 10-15% of the total available data).\n",
    "* **Test set** - the model gets evaluated on this data to test what it has learned (typically 10-15% of the total available data)."
   ]
  },
  {
   "cell_type": "code",
   "execution_count": 451,
   "metadata": {},
   "outputs": [
    {
     "data": {
      "text/plain": [
       "50"
      ]
     },
     "execution_count": 451,
     "metadata": {},
     "output_type": "execute_result"
    }
   ],
   "source": [
    "# Check the length of how many samples we have\n",
    "len(X)"
   ]
  },
  {
   "cell_type": "code",
   "execution_count": 452,
   "metadata": {},
   "outputs": [
    {
     "data": {
      "text/plain": [
       "(40, 10, 40, 10)"
      ]
     },
     "execution_count": 452,
     "metadata": {},
     "output_type": "execute_result"
    }
   ],
   "source": [
    "# Split the data into train and test set\n",
    "X_train = X[:40] # first 40 are training samples (80% of the data)\n",
    "y_train = y[:40] \n",
    "\n",
    "X_test = X[40:] # last 10 are testing samples (20% of the data)\n",
    "y_test = y[40:] \n",
    "\n",
    "len(X_train), len(X_test), len(y_train), len(y_test)"
   ]
  },
  {
   "cell_type": "markdown",
   "metadata": {},
   "source": [
    "### **Visualizing the data**"
   ]
  },
  {
   "cell_type": "markdown",
   "metadata": {},
   "source": [
    "Now we've got our data in training and test sets...let's visualize it again!"
   ]
  },
  {
   "cell_type": "code",
   "execution_count": 453,
   "metadata": {},
   "outputs": [
    {
     "data": {
      "image/png": "[encoded data removed]",
      "text/plain": [
       "<Figure size 720x504 with 1 Axes>"
      ]
     },
     "metadata": {
      "needs_background": "light"
     },
     "output_type": "display_data"
    }
   ],
   "source": [
    "plt.figure(figsize=(10,7))\n",
    "# Plot training data in blue\n",
    "plt.scatter(X_train, y_train, c='b', label='Training data')\n",
    "# Plot testing data in green\n",
    "plt.scatter(X_test, y_test, c='g', label='Testing data')\n",
    "# Show a legend\n",
    "plt.legend();"
   ]
  },
  {
   "cell_type": "code",
   "execution_count": 454,
   "metadata": {},
   "outputs": [],
   "source": [
    "# Let's have a look at how to build a neural network for our data\n",
    "tf.random.set_seed(42)\n",
    "\n",
    "# 1. Create a model\n",
    "model = tf.keras.Sequential([\n",
    "    tf.keras.layers.Dense(10, input_shape=[1], name='input_layer'),\n",
    "    # input_shape parameter allows model to be built automatically, without fitting it\n",
    "    tf.keras.layers.Dense(1, name='output_layer')\n",
    "], name='One_of_many_models...')\n",
    "\n",
    "# 2. Compile the model\n",
    "model.compile(loss=tf.keras.losses.mae,\n",
    "              optimizer=tf.keras.optimizers.SGD(),\n",
    "              metrics=['mae'])\n",
    "\n",
    "# # 3. Fit the model\n",
    "# model.fit(X_train, y_train, epochs=100)"
   ]
  },
  {
   "cell_type": "code",
   "execution_count": 455,
   "metadata": {},
   "outputs": [
    {
     "name": "stdout",
     "output_type": "stream",
     "text": [
      "Model: \"One_of_many_models...\"\n",
      "_________________________________________________________________\n",
      " Layer (type)                Output Shape              Param #   \n",
      "=================================================================\n",
      " input_layer (Dense)         (None, 10)                20        \n",
      "                                                                 \n",
      " output_layer (Dense)        (None, 1)                 11        \n",
      "                                                                 \n",
      "=================================================================\n",
      "Total params: 31\n",
      "Trainable params: 31\n",
      "Non-trainable params: 0\n",
      "_________________________________________________________________\n"
     ]
    }
   ],
   "source": [
    "model.summary()"
   ]
  },
  {
   "cell_type": "markdown",
   "metadata": {},
   "source": [
    "* **Total params** - total number of parameters in the model.\n",
    "* **Trainable params** - parameters (patterns) the model can update as it trains.\n",
    "* **Non-trainable params** - parameters which are not updated during training (e.g. when you import model with has already learned parameters and you freeze them)."
   ]
  },
  {
   "cell_type": "code",
   "execution_count": 456,
   "metadata": {},
   "outputs": [
    {
     "data": {
      "text/plain": [
       "<keras.callbacks.History at 0x2619afbfc70>"
      ]
     },
     "execution_count": 456,
     "metadata": {},
     "output_type": "execute_result"
    }
   ],
   "source": [
    "# Let's fit our model to the training data\n",
    "model.fit(X_train, y_train, epochs=100, verbose=0)"
   ]
  },
  {
   "cell_type": "code",
   "execution_count": 457,
   "metadata": {},
   "outputs": [
    {
     "name": "stdout",
     "output_type": "stream",
     "text": [
      "Model: \"One_of_many_models...\"\n",
      "_________________________________________________________________\n",
      " Layer (type)                Output Shape              Param #   \n",
      "=================================================================\n",
      " input_layer (Dense)         (None, 10)                20        \n",
      "                                                                 \n",
      " output_layer (Dense)        (None, 1)                 11        \n",
      "                                                                 \n",
      "=================================================================\n",
      "Total params: 31\n",
      "Trainable params: 31\n",
      "Non-trainable params: 0\n",
      "_________________________________________________________________\n"
     ]
    }
   ],
   "source": [
    "# Get a summary of our model\n",
    "model.summary()"
   ]
  },
  {
   "cell_type": "code",
   "execution_count": 458,
   "metadata": {},
   "outputs": [
    {
     "data": {
      "image/png": "[encoded data removed]",
      "text/plain": [
       "<IPython.core.display.Image object>"
      ]
     },
     "execution_count": 458,
     "metadata": {},
     "output_type": "execute_result"
    }
   ],
   "source": [
    "import pydot\n",
    "import graphviz\n",
    "from tensorflow.keras.utils import plot_model\n",
    "\n",
    "plot_model(model=model, show_shapes=True)"
   ]
  },
  {
   "cell_type": "markdown",
   "metadata": {},
   "source": [
    "### **Visualising model's predictions**"
   ]
  },
  {
   "cell_type": "markdown",
   "metadata": {},
   "source": [
    "To visualise predictions it's a good idea to plot them against the ground truth labels.\n",
    "\n",
    "In practise it's often in the form of `y_test` or `y_true` vs `y_pred` (truth vs model's predictions)."
   ]
  },
  {
   "cell_type": "code",
   "execution_count": 459,
   "metadata": {},
   "outputs": [
    {
     "name": "stdout",
     "output_type": "stream",
     "text": [
      "1/1 [==============================] - 0s 38ms/step\n"
     ]
    },
    {
     "data": {
      "text/plain": [
       "array([[ 78.285675],\n",
       "       [ 83.38629 ],\n",
       "       [ 88.48689 ],\n",
       "       [ 93.58751 ],\n",
       "       [ 98.68811 ],\n",
       "       [103.78873 ],\n",
       "       [108.889336],\n",
       "       [113.989944],\n",
       "       [119.09055 ],\n",
       "       [124.19117 ]], dtype=float32)"
      ]
     },
     "execution_count": 459,
     "metadata": {},
     "output_type": "execute_result"
    }
   ],
   "source": [
    "# Make some predictions\n",
    "\n",
    "y_pred = model.predict(X_test)\n",
    "y_pred"
   ]
  },
  {
   "cell_type": "code",
   "execution_count": 460,
   "metadata": {},
   "outputs": [
    {
     "data": {
      "text/plain": [
       "<tf.Tensor: shape=(10, 1), dtype=int32, numpy=\n",
       "array([[ 70],\n",
       "       [ 74],\n",
       "       [ 78],\n",
       "       [ 82],\n",
       "       [ 86],\n",
       "       [ 90],\n",
       "       [ 94],\n",
       "       [ 98],\n",
       "       [102],\n",
       "       [106]])>"
      ]
     },
     "execution_count": 460,
     "metadata": {},
     "output_type": "execute_result"
    }
   ],
   "source": [
    "y_test"
   ]
  },
  {
   "cell_type": "code",
   "execution_count": 461,
   "metadata": {},
   "outputs": [],
   "source": [
    "# Let's create plotting function\n",
    "def plot_predictions(train_data = X_train, \n",
    "                    train_lables = y_train,\n",
    "                    test_data = X_test,\n",
    "                    test_lables = y_test,\n",
    "                    predictions = y_pred):\n",
    "    '''Plots training data, test data and compares predictions to ground truth labels'''\n",
    "    plt.figure(figsize=(10, 7))\n",
    "    # Plot training data in blue\n",
    "    plt.scatter(train_data, train_lables, c='b', label='Training data')\n",
    "    # Plot testing data in orange\n",
    "    plt.scatter(test_data, test_lables, c='g', label='Testing data')\n",
    "    # Plot model's predictions in red\n",
    "    plt.scatter(test_data, predictions, c='r', label='Predictions')\n",
    "    plt.legend();"
   ]
  },
  {
   "cell_type": "code",
   "execution_count": 462,
   "metadata": {},
   "outputs": [
    {
     "data": {
      "image/png": "[encoded data removed]",
      "text/plain": [
       "<Figure size 720x504 with 1 Axes>"
      ]
     },
     "metadata": {
      "needs_background": "light"
     },
     "output_type": "display_data"
    }
   ],
   "source": [
    "plot_predictions(train_data = X_train, \n",
    "                train_lables = y_train,\n",
    "                test_data = X_test,\n",
    "                test_lables = y_test,\n",
    "                predictions = y_pred)"
   ]
  },
  {
   "cell_type": "markdown",
   "metadata": {},
   "source": [
    "**Trying to get best model possible**"
   ]
  },
  {
   "cell_type": "code",
   "execution_count": 463,
   "metadata": {},
   "outputs": [
    {
     "data": {
      "text/plain": [
       "<keras.callbacks.History at 0x261b3655d80>"
      ]
     },
     "execution_count": 463,
     "metadata": {},
     "output_type": "execute_result"
    }
   ],
   "source": [
    "tf.random.set_seed(42)\n",
    "\n",
    "# 1. Create a model\n",
    "model = tf.keras.Sequential([\n",
    "    tf.keras.layers.Dense(100, activation='relu', input_shape=[1]),\n",
    "    tf.keras.layers.Dense(100, activation='relu'),\n",
    "    # input_shape parameter allows model to be built automatically, without fitting it\n",
    "    tf.keras.layers.Dense(1, name='output_layer')\n",
    "], name='One_of_many_models...')\n",
    "\n",
    "# 2. Compile the model\n",
    "model.compile(loss=tf.keras.losses.mae,\n",
    "              optimizer=tf.keras.optimizers.Adam(learning_rate=0.01),\n",
    "              metrics=['mae'])\n",
    "\n",
    "# 3. Fit the model\n",
    "model.fit(X_train, y_train, epochs=100, verbose=0)"
   ]
  },
  {
   "cell_type": "code",
   "execution_count": 464,
   "metadata": {},
   "outputs": [
    {
     "name": "stdout",
     "output_type": "stream",
     "text": [
      "1/1 [==============================] - 0s 42ms/step\n"
     ]
    }
   ],
   "source": [
    "y_pred = model.predict(X_test)"
   ]
  },
  {
   "cell_type": "code",
   "execution_count": 465,
   "metadata": {},
   "outputs": [
    {
     "data": {
      "image/png": "[encoded data removed]",
      "text/plain": [
       "<Figure size 720x504 with 1 Axes>"
      ]
     },
     "metadata": {
      "needs_background": "light"
     },
     "output_type": "display_data"
    }
   ],
   "source": [
    "plot_predictions(train_data = X_train, \n",
    "                train_lables = y_train,\n",
    "                test_data = X_test,\n",
    "                test_lables = y_test,\n",
    "                predictions = y_pred)"
   ]
  },
  {
   "cell_type": "markdown",
   "metadata": {},
   "source": [
    "### **Evaluating model's predictions with regression evaluation metrics**"
   ]
  },
  {
   "cell_type": "markdown",
   "metadata": {},
   "source": [
    "Depending on the problem, there will be different evaluation mertrics to evaluate model's performance.\n",
    "\n",
    "In this case - **regression problem**, two of the main metrics:\n",
    "* **MAE** - mean absolute error - \"on average how wrong is each of my model's predictions\" - most common\n",
    "* **MSE** - mean squared error - \"square of the average errors\" - aplifies error value for larger errors\n",
    "* **Huber** - combination of MAE and MSE - less sensitive to outliers than MSE"
   ]
  },
  {
   "cell_type": "code",
   "execution_count": 466,
   "metadata": {},
   "outputs": [
    {
     "name": "stdout",
     "output_type": "stream",
     "text": [
      "1/1 [==============================] - 0s 86ms/step - loss: 2.1824 - mae: 2.1824\n"
     ]
    },
    {
     "data": {
      "text/plain": [
       "[2.1824073791503906, 2.1824073791503906]"
      ]
     },
     "execution_count": 466,
     "metadata": {},
     "output_type": "execute_result"
    }
   ],
   "source": [
    "# Evaluate the model on the train set\n",
    "model.evaluate(X_test, y_test)"
   ]
  },
  {
   "cell_type": "code",
   "execution_count": 467,
   "metadata": {},
   "outputs": [
    {
     "data": {
      "text/plain": [
       "<tf.Tensor: shape=(10,), dtype=float32, numpy=\n",
       "array([1.7073288, 1.8132095, 1.9190903, 2.024971 , 2.1308517, 2.2367325,\n",
       "       2.342575 , 2.446579 , 2.5497742, 2.652977 ], dtype=float32)>"
      ]
     },
     "execution_count": 467,
     "metadata": {},
     "output_type": "execute_result"
    }
   ],
   "source": [
    "# Calculate the mean absolute error\n",
    "mae = tf.metrics.mean_absolute_error(y_true=y_test, \n",
    "                                    y_pred=y_pred)\n",
    "mae"
   ]
  },
  {
   "cell_type": "code",
   "execution_count": 468,
   "metadata": {},
   "outputs": [
    {
     "data": {
      "text/plain": [
       "(array([[ 71.70733 ],\n",
       "        [ 75.81321 ],\n",
       "        [ 79.91909 ],\n",
       "        [ 84.02497 ],\n",
       "        [ 88.13085 ],\n",
       "        [ 92.23673 ],\n",
       "        [ 96.342575],\n",
       "        [100.44658 ],\n",
       "        [104.549774],\n",
       "        [108.65298 ]], dtype=float32),\n",
       " <tf.Tensor: shape=(10, 1), dtype=int32, numpy=\n",
       " array([[ 70],\n",
       "        [ 74],\n",
       "        [ 78],\n",
       "        [ 82],\n",
       "        [ 86],\n",
       "        [ 90],\n",
       "        [ 94],\n",
       "        [ 98],\n",
       "        [102],\n",
       "        [106]])>)"
      ]
     },
     "execution_count": 468,
     "metadata": {},
     "output_type": "execute_result"
    }
   ],
   "source": [
    "y_pred, y_test"
   ]
  },
  {
   "cell_type": "code",
   "execution_count": 469,
   "metadata": {},
   "outputs": [
    {
     "data": {
      "text/plain": [
       "<tf.Tensor: shape=(), dtype=float32, numpy=2.1824088>"
      ]
     },
     "execution_count": 469,
     "metadata": {},
     "output_type": "execute_result"
    }
   ],
   "source": [
    "# Calculate the mean absolute error\n",
    "mae = tf.metrics.mean_absolute_error(y_true=tf.squeeze(y_test), \n",
    "                                    y_pred=tf.squeeze(y_pred))\n",
    "mae"
   ]
  },
  {
   "cell_type": "code",
   "execution_count": 470,
   "metadata": {},
   "outputs": [
    {
     "data": {
      "text/plain": [
       "<tf.Tensor: shape=(), dtype=float32, numpy=4.8542657>"
      ]
     },
     "execution_count": 470,
     "metadata": {},
     "output_type": "execute_result"
    }
   ],
   "source": [
    "# Calculate the mean squared error\n",
    "mse = tf.metrics.mean_squared_error(y_true=tf.squeeze(y_test), \n",
    "                                    y_pred=tf.squeeze(y_pred))\n",
    "mse"
   ]
  },
  {
   "cell_type": "code",
   "execution_count": 471,
   "metadata": {},
   "outputs": [],
   "source": [
    "# Make some functions to reuse MAE and MSE\n",
    "def mae(y_true, y_pred):\n",
    "    return tf.metrics.mean_absolute_error(y_true = tf.squeeze(y_true), \n",
    "                                        y_pred = tf.squeeze(y_pred))\n",
    "\n",
    "def mse(y_true, y_pred):\n",
    "    return tf.metrics.mean_squared_error(y_true = tf.squeeze(y_true),\n",
    "                                        y_pred = tf.squeeze(y_pred))"
   ]
  },
  {
   "cell_type": "code",
   "execution_count": 472,
   "metadata": {},
   "outputs": [
    {
     "data": {
      "text/plain": [
       "<tf.Tensor: shape=(), dtype=float32, numpy=2.1824088>"
      ]
     },
     "execution_count": 472,
     "metadata": {},
     "output_type": "execute_result"
    }
   ],
   "source": [
    "mae(y_true=tf.squeeze(y_test), \n",
    "    y_pred=tf.squeeze(y_pred))"
   ]
  },
  {
   "cell_type": "markdown",
   "metadata": {},
   "source": [
    "### **Running experiments to improve a model**"
   ]
  },
  {
   "cell_type": "markdown",
   "metadata": {},
   "source": [
    "1. Get more data.\n",
    "2. Make a model larger (using more complex model - eg. more layers, more hidden units).\n",
    "3. Train for longer.\n",
    "\n",
    "Let's do 3 modeling experimetns:\n",
    "* `model_1` - same as the original model, trained for 100 epochs\n",
    "* `model_2` - 2 layers, trained for 100 epochs\n",
    "* `model_3` - 2 layers, trained for 500 epochs"
   ]
  },
  {
   "cell_type": "code",
   "execution_count": 473,
   "metadata": {},
   "outputs": [
    {
     "data": {
      "text/plain": [
       "(<tf.Tensor: shape=(1, 40), dtype=int32, numpy=\n",
       " array([[-100,  -96,  -92,  -88,  -84,  -80,  -76,  -72,  -68,  -64,  -60,\n",
       "          -56,  -52,  -48,  -44,  -40,  -36,  -32,  -28,  -24,  -20,  -16,\n",
       "          -12,   -8,   -4,    0,    4,    8,   12,   16,   20,   24,   28,\n",
       "           32,   36,   40,   44,   48,   52,   56]])>,\n",
       " <tf.Tensor: shape=(1, 40), dtype=int32, numpy=\n",
       " array([[-90, -86, -82, -78, -74, -70, -66, -62, -58, -54, -50, -46, -42,\n",
       "         -38, -34, -30, -26, -22, -18, -14, -10,  -6,  -2,   2,   6,  10,\n",
       "          14,  18,  22,  26,  30,  34,  38,  42,  46,  50,  54,  58,  62,\n",
       "          66]])>)"
      ]
     },
     "execution_count": 473,
     "metadata": {},
     "output_type": "execute_result"
    }
   ],
   "source": [
    "tf.reshape(X_train, shape=(1,40)) , tf.reshape(y_train, shape=(1,40))"
   ]
  },
  {
   "cell_type": "markdown",
   "metadata": {},
   "source": [
    "**Build model_1**  \n",
    "One dense layer trained for 100 epochs"
   ]
  },
  {
   "cell_type": "code",
   "execution_count": 474,
   "metadata": {},
   "outputs": [
    {
     "data": {
      "text/plain": [
       "<keras.callbacks.History at 0x261b3818d30>"
      ]
     },
     "execution_count": 474,
     "metadata": {},
     "output_type": "execute_result"
    }
   ],
   "source": [
    "tf.random.set_seed(42)\n",
    "\n",
    "# 1. Create a model\n",
    "model_1 = tf.keras.models.Sequential([\n",
    "    tf.keras.layers.Dense(1)\n",
    "])\n",
    " # 2. Compile the model\n",
    "model_1.compile(loss=tf.keras.losses.mae,\n",
    "                optimizer=tf.keras.optimizers.SGD(),\n",
    "                metrics=['mse'])\n",
    "\n",
    "# 3. Fit the model\n",
    "model_1.fit(X_train, y_train, epochs=100, verbose=0)"
   ]
  },
  {
   "cell_type": "code",
   "execution_count": 475,
   "metadata": {},
   "outputs": [
    {
     "name": "stdout",
     "output_type": "stream",
     "text": [
      "1/1 [==============================] - 0s 37ms/step\n"
     ]
    },
    {
     "data": {
      "text/plain": [
       "(<tf.Tensor: shape=(), dtype=float32, numpy=8.616122>,\n",
       " <tf.Tensor: shape=(), dtype=float32, numpy=80.74221>)"
      ]
     },
     "execution_count": 475,
     "metadata": {},
     "output_type": "execute_result"
    },
    {
     "data": {
      "image/png": "[encoded data removed]",
      "text/plain": [
       "<Figure size 720x504 with 1 Axes>"
      ]
     },
     "metadata": {
      "needs_background": "light"
     },
     "output_type": "display_data"
    }
   ],
   "source": [
    "y_preds_1 = model_1.predict(X_test)\n",
    "mae_1 = mae(y_test, y_preds_1)\n",
    "mse_1 = mse(y_test, y_preds_1)\n",
    "\n",
    "plot_predictions(predictions=y_preds_1)\n",
    "mae_1, mse_1"
   ]
  },
  {
   "cell_type": "markdown",
   "metadata": {},
   "source": [
    "**Build model_2**  \n",
    "Two dense layers trained for 100 epochs"
   ]
  },
  {
   "cell_type": "code",
   "execution_count": 476,
   "metadata": {},
   "outputs": [
    {
     "data": {
      "text/plain": [
       "<keras.callbacks.History at 0x261b390f790>"
      ]
     },
     "execution_count": 476,
     "metadata": {},
     "output_type": "execute_result"
    }
   ],
   "source": [
    "tf.random.set_seed(42)\n",
    "\n",
    "# 1. Build a model\n",
    "model_2 = tf.keras.models.Sequential([\n",
    "    tf.keras.layers.Dense(10),\n",
    "    tf.keras.layers.Dense(1)\n",
    "])\n",
    "\n",
    "# 2. Compile a model\n",
    "model_2.compile(loss = tf.keras.losses.mae,\n",
    "                optimizer=tf.keras.optimizers.SGD(),\n",
    "                metrics=['mse'])\n",
    "\n",
    "# 3. Fit a model\n",
    "model_2.fit(X_train, y_train, epochs=100, verbose=0)"
   ]
  },
  {
   "cell_type": "code",
   "execution_count": 477,
   "metadata": {},
   "outputs": [
    {
     "name": "stdout",
     "output_type": "stream",
     "text": [
      "1/1 [==============================] - 0s 41ms/step\n"
     ]
    },
    {
     "data": {
      "text/plain": [
       "(<tf.Tensor: shape=(), dtype=float32, numpy=11.05604>,\n",
       " <tf.Tensor: shape=(), dtype=float32, numpy=130.31828>)"
      ]
     },
     "execution_count": 477,
     "metadata": {},
     "output_type": "execute_result"
    },
    {
     "data": {
      "image/png": "[encoded data removed]",
      "text/plain": [
       "<Figure size 720x504 with 1 Axes>"
      ]
     },
     "metadata": {
      "needs_background": "light"
     },
     "output_type": "display_data"
    }
   ],
   "source": [
    "y_preds_2 = model_2.predict(X_test)\n",
    "mae_2 = mae(y_test, y_preds_2)\n",
    "mse_2 = mse(y_test, y_preds_2)\n",
    "\n",
    "plot_predictions(predictions=y_preds_2)\n",
    "mae_2, mse_2"
   ]
  },
  {
   "cell_type": "markdown",
   "metadata": {},
   "source": [
    "**Build model_3**  \n",
    "Two dense layers trained for 500 epochs"
   ]
  },
  {
   "cell_type": "code",
   "execution_count": 478,
   "metadata": {},
   "outputs": [
    {
     "data": {
      "text/plain": [
       "<keras.callbacks.History at 0x261b4983790>"
      ]
     },
     "execution_count": 478,
     "metadata": {},
     "output_type": "execute_result"
    }
   ],
   "source": [
    "tf.random.set_seed(42)\n",
    "\n",
    "# 1. Create a model\n",
    "model_3 = tf.keras.Sequential([\n",
    "    tf.keras.layers.Dense(10),\n",
    "    tf.keras.layers.Dense(1)\n",
    "])\n",
    "\n",
    "# 2. Compile a model\n",
    "model_3.compile(loss = tf.keras.losses.mae,\n",
    "                optimizer=tf.keras.optimizers.SGD(),\n",
    "                metrics=['mse'])\n",
    "\n",
    "# 3. Fit a model\n",
    "model_3.fit(X_train, y_train, epochs=500, verbose=0)"
   ]
  },
  {
   "cell_type": "code",
   "execution_count": 479,
   "metadata": {},
   "outputs": [
    {
     "name": "stdout",
     "output_type": "stream",
     "text": [
      "1/1 [==============================] - 0s 41ms/step\n"
     ]
    },
    {
     "data": {
      "text/plain": [
       "(<tf.Tensor: shape=(), dtype=float32, numpy=67.967026>,\n",
       " <tf.Tensor: shape=(), dtype=float32, numpy=4704.053>)"
      ]
     },
     "execution_count": 479,
     "metadata": {},
     "output_type": "execute_result"
    },
    {
     "data": {
      "image/png": "[encoded data removed]",
      "text/plain": [
       "<Figure size 720x504 with 1 Axes>"
      ]
     },
     "metadata": {
      "needs_background": "light"
     },
     "output_type": "display_data"
    }
   ],
   "source": [
    "y_preds_3 = model_3.predict(X_test)\n",
    "mae_3 = mae(y_test, y_preds_3)\n",
    "mse_3 = mse(y_test, y_preds_3)\n",
    "\n",
    "plot_predictions(predictions=y_preds_3)\n",
    "mae_3, mse_3"
   ]
  },
  {
   "cell_type": "markdown",
   "metadata": {},
   "source": [
    "This model is most likely overfitting (was trained for way too long)."
   ]
  },
  {
   "cell_type": "markdown",
   "metadata": {},
   "source": [
    "🔑 **Note:** You want to stars with small experiments (small models) and make sure they work and then increase their scale when necessary."
   ]
  },
  {
   "cell_type": "markdown",
   "metadata": {},
   "source": [
    "### **Comparing the results of experiments**"
   ]
  },
  {
   "cell_type": "markdown",
   "metadata": {},
   "source": [
    "We've run a few experiments so far, let's compare the results."
   ]
  },
  {
   "cell_type": "code",
   "execution_count": 480,
   "metadata": {},
   "outputs": [
    {
     "data": {
      "text/html": [
       "<div>\n",
       "<style scoped>\n",
       "    .dataframe tbody tr th:only-of-type {\n",
       "        vertical-align: middle;\n",
       "    }\n",
       "\n",
       "    .dataframe tbody tr th {\n",
       "        vertical-align: top;\n",
       "    }\n",
       "\n",
       "    .dataframe thead th {\n",
       "        text-align: right;\n",
       "    }\n",
       "</style>\n",
       "<table border=\"1\" class=\"dataframe\">\n",
       "  <thead>\n",
       "    <tr style=\"text-align: right;\">\n",
       "      <th></th>\n",
       "      <th>model</th>\n",
       "      <th>mae</th>\n",
       "      <th>mse</th>\n",
       "    </tr>\n",
       "  </thead>\n",
       "  <tbody>\n",
       "    <tr>\n",
       "      <th>0</th>\n",
       "      <td>model_1</td>\n",
       "      <td>8.616122</td>\n",
       "      <td>80.742210</td>\n",
       "    </tr>\n",
       "    <tr>\n",
       "      <th>1</th>\n",
       "      <td>model_2</td>\n",
       "      <td>11.056040</td>\n",
       "      <td>130.318283</td>\n",
       "    </tr>\n",
       "    <tr>\n",
       "      <th>2</th>\n",
       "      <td>model_3</td>\n",
       "      <td>67.967026</td>\n",
       "      <td>4704.053223</td>\n",
       "    </tr>\n",
       "  </tbody>\n",
       "</table>\n",
       "</div>"
      ],
      "text/plain": [
       "     model        mae          mse\n",
       "0  model_1   8.616122    80.742210\n",
       "1  model_2  11.056040   130.318283\n",
       "2  model_3  67.967026  4704.053223"
      ]
     },
     "execution_count": 480,
     "metadata": {},
     "output_type": "execute_result"
    }
   ],
   "source": [
    "# Let's compare our model's results using pandas DataFrame\n",
    "import pandas as pd\n",
    "\n",
    "model_results = [['model_1', mae_1.numpy(), mse_1.numpy()],\n",
    "                 ['model_2', mae_2.numpy(), mse_2.numpy()],\n",
    "                 ['model_3', mae_3.numpy(), mse_3.numpy()]]\n",
    "\n",
    "all_results = pd.DataFrame(model_results, columns = ['model', 'mae', 'mse'])\n",
    "all_results"
   ]
  },
  {
   "cell_type": "markdown",
   "metadata": {},
   "source": [
    "Looks like `model_2` performed the best"
   ]
  },
  {
   "cell_type": "code",
   "execution_count": 481,
   "metadata": {},
   "outputs": [
    {
     "name": "stdout",
     "output_type": "stream",
     "text": [
      "Model: \"sequential_84\"\n",
      "_________________________________________________________________\n",
      " Layer (type)                Output Shape              Param #   \n",
      "=================================================================\n",
      " dense_167 (Dense)           (None, 10)                20        \n",
      "                                                                 \n",
      " dense_168 (Dense)           (None, 1)                 11        \n",
      "                                                                 \n",
      "=================================================================\n",
      "Total params: 31\n",
      "Trainable params: 31\n",
      "Non-trainable params: 0\n",
      "_________________________________________________________________\n"
     ]
    }
   ],
   "source": [
    "model_2.summary()"
   ]
  },
  {
   "cell_type": "markdown",
   "metadata": {},
   "source": [
    "🔑 **Note:** One of your main goals should be to minimize the time between your experiments. The more experiments you do, the more thing you'll figure out which don't work and in turn, gey closer to figuring work what does work."
   ]
  },
  {
   "cell_type": "markdown",
   "metadata": {},
   "source": [
    "### **Tracking your experiments**"
   ]
  },
  {
   "cell_type": "markdown",
   "metadata": {},
   "source": [
    "One really good habit in machine learning modeling is to track the results of your experiments.\n",
    "\n",
    "And when doing so, it can be tedious if you're running lots of experiments.\n",
    "\n",
    "Luckily, there are tools to help us!\n",
    "\n",
    "📖 **Resource:** As you build more models, you'll want to look into using:\n",
    "* TensorBoard - a component of TensorFlow library to help trach modeling experiments.\n",
    "* Weights & Biases - a tool for tracking all kinds of ML experiments (plugs straight into TensorBoard)"
   ]
  },
  {
   "cell_type": "markdown",
   "metadata": {},
   "source": [
    "### **Saving models**"
   ]
  },
  {
   "cell_type": "markdown",
   "metadata": {},
   "source": [
    "Saving models allows us to use them outside of the space where they were trained sich as in web application or a mobile app.\n",
    "\n",
    "There are two main formats we can save our model's to:\n",
    "1. SavedModel format\n",
    "2. HDF Format"
   ]
  },
  {
   "cell_type": "code",
   "execution_count": 482,
   "metadata": {},
   "outputs": [
    {
     "name": "stdout",
     "output_type": "stream",
     "text": [
      "INFO:tensorflow:Assets written to: best_model_SavedModel_format\\assets\n"
     ]
    }
   ],
   "source": [
    "# Save model using the SavedModel format\n",
    "model_2.save('best_model_SavedModel_format')"
   ]
  },
  {
   "cell_type": "code",
   "execution_count": 483,
   "metadata": {},
   "outputs": [],
   "source": [
    "# Save model using the HDF5 format\n",
    "model_2.save('best_model_HDF5_format.h5')"
   ]
  },
  {
   "cell_type": "markdown",
   "metadata": {},
   "source": [
    "### **Loading in a saved model**"
   ]
  },
  {
   "cell_type": "code",
   "execution_count": 484,
   "metadata": {},
   "outputs": [
    {
     "name": "stdout",
     "output_type": "stream",
     "text": [
      "Model: \"sequential_84\"\n",
      "_________________________________________________________________\n",
      " Layer (type)                Output Shape              Param #   \n",
      "=================================================================\n",
      " dense_167 (Dense)           (None, 10)                20        \n",
      "                                                                 \n",
      " dense_168 (Dense)           (None, 1)                 11        \n",
      "                                                                 \n",
      "=================================================================\n",
      "Total params: 31\n",
      "Trainable params: 31\n",
      "Non-trainable params: 0\n",
      "_________________________________________________________________\n"
     ]
    }
   ],
   "source": [
    "# Load in the SavedModel format model\n",
    "loaded_SaveModel_format = tf.keras.models.load_model('best_model_SavedModel_format')\n",
    "loaded_SaveModel_format.summary()"
   ]
  },
  {
   "cell_type": "code",
   "execution_count": 485,
   "metadata": {},
   "outputs": [
    {
     "name": "stdout",
     "output_type": "stream",
     "text": [
      "1/1 [==============================] - 0s 28ms/step\n",
      "1/1 [==============================] - 0s 41ms/step\n"
     ]
    },
    {
     "data": {
      "text/plain": [
       "array([[ True],\n",
       "       [ True],\n",
       "       [ True],\n",
       "       [ True],\n",
       "       [ True],\n",
       "       [ True],\n",
       "       [ True],\n",
       "       [ True],\n",
       "       [ True],\n",
       "       [ True]])"
      ]
     },
     "execution_count": 485,
     "metadata": {},
     "output_type": "execute_result"
    }
   ],
   "source": [
    "# Compare model_2 predictions with a loaded model\n",
    "model_2_preds = model_2.predict(X_test)\n",
    "loaded_SaveModel_format_preds = loaded_SaveModel_format.predict(X_test)\n",
    "model_2_preds == loaded_SaveModel_format_preds"
   ]
  },
  {
   "cell_type": "code",
   "execution_count": 486,
   "metadata": {},
   "outputs": [
    {
     "name": "stdout",
     "output_type": "stream",
     "text": [
      "Model: \"sequential_84\"\n",
      "_________________________________________________________________\n",
      " Layer (type)                Output Shape              Param #   \n",
      "=================================================================\n",
      " dense_167 (Dense)           (None, 10)                20        \n",
      "                                                                 \n",
      " dense_168 (Dense)           (None, 1)                 11        \n",
      "                                                                 \n",
      "=================================================================\n",
      "Total params: 31\n",
      "Trainable params: 31\n",
      "Non-trainable params: 0\n",
      "_________________________________________________________________\n"
     ]
    }
   ],
   "source": [
    "# Load in a model using the .h5 format\n",
    "loaded_h5_model = tf.keras.models.load_model('best_model_HDF5_format.h5')\n",
    "loaded_h5_model.summary()"
   ]
  },
  {
   "cell_type": "code",
   "execution_count": 487,
   "metadata": {},
   "outputs": [
    {
     "name": "stdout",
     "output_type": "stream",
     "text": [
      "1/1 [==============================] - 0s 19ms/step\n",
      "1/1 [==============================] - 0s 43ms/step\n"
     ]
    },
    {
     "data": {
      "text/plain": [
       "array([[ True],\n",
       "       [ True],\n",
       "       [ True],\n",
       "       [ True],\n",
       "       [ True],\n",
       "       [ True],\n",
       "       [ True],\n",
       "       [ True],\n",
       "       [ True],\n",
       "       [ True]])"
      ]
     },
     "execution_count": 487,
     "metadata": {},
     "output_type": "execute_result"
    }
   ],
   "source": [
    "# Check to see if loaded .h5 model predictions match model_2\n",
    "model_2_preds = model_2.predict(X_test)\n",
    "loaded_h5_model_preds = loaded_h5_model.predict(X_test)\n",
    "model_2_preds == loaded_h5_model_preds"
   ]
  },
  {
   "cell_type": "markdown",
   "metadata": {},
   "source": [
    "### **A larger example**"
   ]
  },
  {
   "cell_type": "code",
   "execution_count": 488,
   "metadata": {},
   "outputs": [],
   "source": [
    "# Import required librariest\n",
    "import tensorflow as tf\n",
    "import pandas as pd\n",
    "import matplotlib.pyplot as plt"
   ]
  },
  {
   "cell_type": "code",
   "execution_count": 489,
   "metadata": {},
   "outputs": [
    {
     "data": {
      "text/html": [
       "<div>\n",
       "<style scoped>\n",
       "    .dataframe tbody tr th:only-of-type {\n",
       "        vertical-align: middle;\n",
       "    }\n",
       "\n",
       "    .dataframe tbody tr th {\n",
       "        vertical-align: top;\n",
       "    }\n",
       "\n",
       "    .dataframe thead th {\n",
       "        text-align: right;\n",
       "    }\n",
       "</style>\n",
       "<table border=\"1\" class=\"dataframe\">\n",
       "  <thead>\n",
       "    <tr style=\"text-align: right;\">\n",
       "      <th></th>\n",
       "      <th>age</th>\n",
       "      <th>sex</th>\n",
       "      <th>bmi</th>\n",
       "      <th>children</th>\n",
       "      <th>smoker</th>\n",
       "      <th>region</th>\n",
       "      <th>charges</th>\n",
       "    </tr>\n",
       "  </thead>\n",
       "  <tbody>\n",
       "    <tr>\n",
       "      <th>0</th>\n",
       "      <td>19</td>\n",
       "      <td>female</td>\n",
       "      <td>27.900</td>\n",
       "      <td>0</td>\n",
       "      <td>yes</td>\n",
       "      <td>southwest</td>\n",
       "      <td>16884.92400</td>\n",
       "    </tr>\n",
       "    <tr>\n",
       "      <th>1</th>\n",
       "      <td>18</td>\n",
       "      <td>male</td>\n",
       "      <td>33.770</td>\n",
       "      <td>1</td>\n",
       "      <td>no</td>\n",
       "      <td>southeast</td>\n",
       "      <td>1725.55230</td>\n",
       "    </tr>\n",
       "    <tr>\n",
       "      <th>2</th>\n",
       "      <td>28</td>\n",
       "      <td>male</td>\n",
       "      <td>33.000</td>\n",
       "      <td>3</td>\n",
       "      <td>no</td>\n",
       "      <td>southeast</td>\n",
       "      <td>4449.46200</td>\n",
       "    </tr>\n",
       "    <tr>\n",
       "      <th>3</th>\n",
       "      <td>33</td>\n",
       "      <td>male</td>\n",
       "      <td>22.705</td>\n",
       "      <td>0</td>\n",
       "      <td>no</td>\n",
       "      <td>northwest</td>\n",
       "      <td>21984.47061</td>\n",
       "    </tr>\n",
       "    <tr>\n",
       "      <th>4</th>\n",
       "      <td>32</td>\n",
       "      <td>male</td>\n",
       "      <td>28.880</td>\n",
       "      <td>0</td>\n",
       "      <td>no</td>\n",
       "      <td>northwest</td>\n",
       "      <td>3866.85520</td>\n",
       "    </tr>\n",
       "    <tr>\n",
       "      <th>...</th>\n",
       "      <td>...</td>\n",
       "      <td>...</td>\n",
       "      <td>...</td>\n",
       "      <td>...</td>\n",
       "      <td>...</td>\n",
       "      <td>...</td>\n",
       "      <td>...</td>\n",
       "    </tr>\n",
       "    <tr>\n",
       "      <th>1333</th>\n",
       "      <td>50</td>\n",
       "      <td>male</td>\n",
       "      <td>30.970</td>\n",
       "      <td>3</td>\n",
       "      <td>no</td>\n",
       "      <td>northwest</td>\n",
       "      <td>10600.54830</td>\n",
       "    </tr>\n",
       "    <tr>\n",
       "      <th>1334</th>\n",
       "      <td>18</td>\n",
       "      <td>female</td>\n",
       "      <td>31.920</td>\n",
       "      <td>0</td>\n",
       "      <td>no</td>\n",
       "      <td>northeast</td>\n",
       "      <td>2205.98080</td>\n",
       "    </tr>\n",
       "    <tr>\n",
       "      <th>1335</th>\n",
       "      <td>18</td>\n",
       "      <td>female</td>\n",
       "      <td>36.850</td>\n",
       "      <td>0</td>\n",
       "      <td>no</td>\n",
       "      <td>southeast</td>\n",
       "      <td>1629.83350</td>\n",
       "    </tr>\n",
       "    <tr>\n",
       "      <th>1336</th>\n",
       "      <td>21</td>\n",
       "      <td>female</td>\n",
       "      <td>25.800</td>\n",
       "      <td>0</td>\n",
       "      <td>no</td>\n",
       "      <td>southwest</td>\n",
       "      <td>2007.94500</td>\n",
       "    </tr>\n",
       "    <tr>\n",
       "      <th>1337</th>\n",
       "      <td>61</td>\n",
       "      <td>female</td>\n",
       "      <td>29.070</td>\n",
       "      <td>0</td>\n",
       "      <td>yes</td>\n",
       "      <td>northwest</td>\n",
       "      <td>29141.36030</td>\n",
       "    </tr>\n",
       "  </tbody>\n",
       "</table>\n",
       "<p>1338 rows × 7 columns</p>\n",
       "</div>"
      ],
      "text/plain": [
       "      age     sex     bmi  children smoker     region      charges\n",
       "0      19  female  27.900         0    yes  southwest  16884.92400\n",
       "1      18    male  33.770         1     no  southeast   1725.55230\n",
       "2      28    male  33.000         3     no  southeast   4449.46200\n",
       "3      33    male  22.705         0     no  northwest  21984.47061\n",
       "4      32    male  28.880         0     no  northwest   3866.85520\n",
       "...   ...     ...     ...       ...    ...        ...          ...\n",
       "1333   50    male  30.970         3     no  northwest  10600.54830\n",
       "1334   18  female  31.920         0     no  northeast   2205.98080\n",
       "1335   18  female  36.850         0     no  southeast   1629.83350\n",
       "1336   21  female  25.800         0     no  southwest   2007.94500\n",
       "1337   61  female  29.070         0    yes  northwest  29141.36030\n",
       "\n",
       "[1338 rows x 7 columns]"
      ]
     },
     "execution_count": 489,
     "metadata": {},
     "output_type": "execute_result"
    }
   ],
   "source": [
    "# Read the insurance dataset\n",
    "insurance = pd.read_csv('https://raw.githubusercontent.com/stedy/Machine-Learning-with-R-datasets/master/insurance.csv')\n",
    "insurance"
   ]
  },
  {
   "cell_type": "code",
   "execution_count": 490,
   "metadata": {},
   "outputs": [
    {
     "data": {
      "text/plain": [
       "age           int64\n",
       "sex          object\n",
       "bmi         float64\n",
       "children      int64\n",
       "smoker       object\n",
       "region       object\n",
       "charges     float64\n",
       "dtype: object"
      ]
     },
     "execution_count": 490,
     "metadata": {},
     "output_type": "execute_result"
    }
   ],
   "source": [
    "insurance.dtypes"
   ]
  },
  {
   "cell_type": "code",
   "execution_count": 491,
   "metadata": {},
   "outputs": [
    {
     "data": {
      "text/html": [
       "<div>\n",
       "<style scoped>\n",
       "    .dataframe tbody tr th:only-of-type {\n",
       "        vertical-align: middle;\n",
       "    }\n",
       "\n",
       "    .dataframe tbody tr th {\n",
       "        vertical-align: top;\n",
       "    }\n",
       "\n",
       "    .dataframe thead th {\n",
       "        text-align: right;\n",
       "    }\n",
       "</style>\n",
       "<table border=\"1\" class=\"dataframe\">\n",
       "  <thead>\n",
       "    <tr style=\"text-align: right;\">\n",
       "      <th></th>\n",
       "      <th>age</th>\n",
       "      <th>bmi</th>\n",
       "      <th>children</th>\n",
       "      <th>charges</th>\n",
       "      <th>sex_female</th>\n",
       "      <th>sex_male</th>\n",
       "      <th>smoker_no</th>\n",
       "      <th>smoker_yes</th>\n",
       "      <th>region_northeast</th>\n",
       "      <th>region_northwest</th>\n",
       "      <th>region_southeast</th>\n",
       "      <th>region_southwest</th>\n",
       "    </tr>\n",
       "  </thead>\n",
       "  <tbody>\n",
       "    <tr>\n",
       "      <th>0</th>\n",
       "      <td>19</td>\n",
       "      <td>27.900</td>\n",
       "      <td>0</td>\n",
       "      <td>16884.92400</td>\n",
       "      <td>1</td>\n",
       "      <td>0</td>\n",
       "      <td>0</td>\n",
       "      <td>1</td>\n",
       "      <td>0</td>\n",
       "      <td>0</td>\n",
       "      <td>0</td>\n",
       "      <td>1</td>\n",
       "    </tr>\n",
       "    <tr>\n",
       "      <th>1</th>\n",
       "      <td>18</td>\n",
       "      <td>33.770</td>\n",
       "      <td>1</td>\n",
       "      <td>1725.55230</td>\n",
       "      <td>0</td>\n",
       "      <td>1</td>\n",
       "      <td>1</td>\n",
       "      <td>0</td>\n",
       "      <td>0</td>\n",
       "      <td>0</td>\n",
       "      <td>1</td>\n",
       "      <td>0</td>\n",
       "    </tr>\n",
       "    <tr>\n",
       "      <th>2</th>\n",
       "      <td>28</td>\n",
       "      <td>33.000</td>\n",
       "      <td>3</td>\n",
       "      <td>4449.46200</td>\n",
       "      <td>0</td>\n",
       "      <td>1</td>\n",
       "      <td>1</td>\n",
       "      <td>0</td>\n",
       "      <td>0</td>\n",
       "      <td>0</td>\n",
       "      <td>1</td>\n",
       "      <td>0</td>\n",
       "    </tr>\n",
       "    <tr>\n",
       "      <th>3</th>\n",
       "      <td>33</td>\n",
       "      <td>22.705</td>\n",
       "      <td>0</td>\n",
       "      <td>21984.47061</td>\n",
       "      <td>0</td>\n",
       "      <td>1</td>\n",
       "      <td>1</td>\n",
       "      <td>0</td>\n",
       "      <td>0</td>\n",
       "      <td>1</td>\n",
       "      <td>0</td>\n",
       "      <td>0</td>\n",
       "    </tr>\n",
       "    <tr>\n",
       "      <th>4</th>\n",
       "      <td>32</td>\n",
       "      <td>28.880</td>\n",
       "      <td>0</td>\n",
       "      <td>3866.85520</td>\n",
       "      <td>0</td>\n",
       "      <td>1</td>\n",
       "      <td>1</td>\n",
       "      <td>0</td>\n",
       "      <td>0</td>\n",
       "      <td>1</td>\n",
       "      <td>0</td>\n",
       "      <td>0</td>\n",
       "    </tr>\n",
       "  </tbody>\n",
       "</table>\n",
       "</div>"
      ],
      "text/plain": [
       "   age     bmi  children      charges  sex_female  sex_male  smoker_no  \\\n",
       "0   19  27.900         0  16884.92400           1         0          0   \n",
       "1   18  33.770         1   1725.55230           0         1          1   \n",
       "2   28  33.000         3   4449.46200           0         1          1   \n",
       "3   33  22.705         0  21984.47061           0         1          1   \n",
       "4   32  28.880         0   3866.85520           0         1          1   \n",
       "\n",
       "   smoker_yes  region_northeast  region_northwest  region_southeast  \\\n",
       "0           1                 0                 0                 0   \n",
       "1           0                 0                 0                 1   \n",
       "2           0                 0                 0                 1   \n",
       "3           0                 0                 1                 0   \n",
       "4           0                 0                 1                 0   \n",
       "\n",
       "   region_southwest  \n",
       "0                 1  \n",
       "1                 0  \n",
       "2                 0  \n",
       "3                 0  \n",
       "4                 0  "
      ]
     },
     "execution_count": 491,
     "metadata": {},
     "output_type": "execute_result"
    }
   ],
   "source": [
    "# Let's try one-hot encode our DataFrame so it's all numbers\n",
    "insurance_one_hot = pd.get_dummies(insurance)\n",
    "insurance_one_hot.head()"
   ]
  },
  {
   "cell_type": "code",
   "execution_count": 492,
   "metadata": {},
   "outputs": [
    {
     "data": {
      "text/html": [
       "<div>\n",
       "<style scoped>\n",
       "    .dataframe tbody tr th:only-of-type {\n",
       "        vertical-align: middle;\n",
       "    }\n",
       "\n",
       "    .dataframe tbody tr th {\n",
       "        vertical-align: top;\n",
       "    }\n",
       "\n",
       "    .dataframe thead th {\n",
       "        text-align: right;\n",
       "    }\n",
       "</style>\n",
       "<table border=\"1\" class=\"dataframe\">\n",
       "  <thead>\n",
       "    <tr style=\"text-align: right;\">\n",
       "      <th></th>\n",
       "      <th>age</th>\n",
       "      <th>bmi</th>\n",
       "      <th>children</th>\n",
       "      <th>sex_female</th>\n",
       "      <th>sex_male</th>\n",
       "      <th>smoker_no</th>\n",
       "      <th>smoker_yes</th>\n",
       "      <th>region_northeast</th>\n",
       "      <th>region_northwest</th>\n",
       "      <th>region_southeast</th>\n",
       "      <th>region_southwest</th>\n",
       "    </tr>\n",
       "  </thead>\n",
       "  <tbody>\n",
       "    <tr>\n",
       "      <th>0</th>\n",
       "      <td>19</td>\n",
       "      <td>27.900</td>\n",
       "      <td>0</td>\n",
       "      <td>1</td>\n",
       "      <td>0</td>\n",
       "      <td>0</td>\n",
       "      <td>1</td>\n",
       "      <td>0</td>\n",
       "      <td>0</td>\n",
       "      <td>0</td>\n",
       "      <td>1</td>\n",
       "    </tr>\n",
       "    <tr>\n",
       "      <th>1</th>\n",
       "      <td>18</td>\n",
       "      <td>33.770</td>\n",
       "      <td>1</td>\n",
       "      <td>0</td>\n",
       "      <td>1</td>\n",
       "      <td>1</td>\n",
       "      <td>0</td>\n",
       "      <td>0</td>\n",
       "      <td>0</td>\n",
       "      <td>1</td>\n",
       "      <td>0</td>\n",
       "    </tr>\n",
       "    <tr>\n",
       "      <th>2</th>\n",
       "      <td>28</td>\n",
       "      <td>33.000</td>\n",
       "      <td>3</td>\n",
       "      <td>0</td>\n",
       "      <td>1</td>\n",
       "      <td>1</td>\n",
       "      <td>0</td>\n",
       "      <td>0</td>\n",
       "      <td>0</td>\n",
       "      <td>1</td>\n",
       "      <td>0</td>\n",
       "    </tr>\n",
       "    <tr>\n",
       "      <th>3</th>\n",
       "      <td>33</td>\n",
       "      <td>22.705</td>\n",
       "      <td>0</td>\n",
       "      <td>0</td>\n",
       "      <td>1</td>\n",
       "      <td>1</td>\n",
       "      <td>0</td>\n",
       "      <td>0</td>\n",
       "      <td>1</td>\n",
       "      <td>0</td>\n",
       "      <td>0</td>\n",
       "    </tr>\n",
       "    <tr>\n",
       "      <th>4</th>\n",
       "      <td>32</td>\n",
       "      <td>28.880</td>\n",
       "      <td>0</td>\n",
       "      <td>0</td>\n",
       "      <td>1</td>\n",
       "      <td>1</td>\n",
       "      <td>0</td>\n",
       "      <td>0</td>\n",
       "      <td>1</td>\n",
       "      <td>0</td>\n",
       "      <td>0</td>\n",
       "    </tr>\n",
       "  </tbody>\n",
       "</table>\n",
       "</div>"
      ],
      "text/plain": [
       "   age     bmi  children  sex_female  sex_male  smoker_no  smoker_yes  \\\n",
       "0   19  27.900         0           1         0          0           1   \n",
       "1   18  33.770         1           0         1          1           0   \n",
       "2   28  33.000         3           0         1          1           0   \n",
       "3   33  22.705         0           0         1          1           0   \n",
       "4   32  28.880         0           0         1          1           0   \n",
       "\n",
       "   region_northeast  region_northwest  region_southeast  region_southwest  \n",
       "0                 0                 0                 0                 1  \n",
       "1                 0                 0                 1                 0  \n",
       "2                 0                 0                 1                 0  \n",
       "3                 0                 1                 0                 0  \n",
       "4                 0                 1                 0                 0  "
      ]
     },
     "execution_count": 492,
     "metadata": {},
     "output_type": "execute_result"
    }
   ],
   "source": [
    "# Create X & y values (features and labels)\n",
    "X = insurance_one_hot.drop(columns='charges')\n",
    "y = insurance_one_hot['charges']\n",
    "X.head()"
   ]
  },
  {
   "cell_type": "code",
   "execution_count": 493,
   "metadata": {},
   "outputs": [
    {
     "data": {
      "text/plain": [
       "0    16884.92400\n",
       "1     1725.55230\n",
       "2     4449.46200\n",
       "3    21984.47061\n",
       "4     3866.85520\n",
       "Name: charges, dtype: float64"
      ]
     },
     "execution_count": 493,
     "metadata": {},
     "output_type": "execute_result"
    }
   ],
   "source": [
    "y.head()"
   ]
  },
  {
   "cell_type": "code",
   "execution_count": 494,
   "metadata": {},
   "outputs": [
    {
     "data": {
      "text/plain": [
       "(1338, 1070, 268)"
      ]
     },
     "execution_count": 494,
     "metadata": {},
     "output_type": "execute_result"
    }
   ],
   "source": [
    "# Create training and test sets\n",
    "from sklearn.model_selection import train_test_split\n",
    "X_train, X_test, y_train, y_test = train_test_split(X, y, test_size=0.2 , random_state=42)\n",
    "len(X), len(X_train), len(X_test)"
   ]
  },
  {
   "cell_type": "code",
   "execution_count": 495,
   "metadata": {},
   "outputs": [
    {
     "name": "stdout",
     "output_type": "stream",
     "text": [
      "Epoch 1/100\n",
      "34/34 [==============================] - 0s 784us/step - loss: 8577.2432 - mae: 8577.2432\n",
      "Epoch 2/100\n",
      "34/34 [==============================] - 0s 695us/step - loss: 7855.6450 - mae: 7855.6450\n",
      "Epoch 3/100\n",
      "34/34 [==============================] - 0s 756us/step - loss: 7561.2231 - mae: 7561.2231\n",
      "Epoch 4/100\n",
      "34/34 [==============================] - 0s 846us/step - loss: 7655.2183 - mae: 7655.2183\n",
      "Epoch 5/100\n",
      "34/34 [==============================] - 0s 756us/step - loss: 7689.2075 - mae: 7689.2075\n",
      "Epoch 6/100\n",
      "34/34 [==============================] - 0s 695us/step - loss: 7612.9331 - mae: 7612.9331\n",
      "Epoch 7/100\n",
      "34/34 [==============================] - 0s 725us/step - loss: 7584.4375 - mae: 7584.4375\n",
      "Epoch 8/100\n",
      "34/34 [==============================] - 0s 695us/step - loss: 7797.8315 - mae: 7797.8315\n",
      "Epoch 9/100\n",
      "34/34 [==============================] - 0s 725us/step - loss: 7621.4497 - mae: 7621.4497\n",
      "Epoch 10/100\n",
      "34/34 [==============================] - 0s 846us/step - loss: 7704.7993 - mae: 7704.7993\n",
      "Epoch 11/100\n",
      "34/34 [==============================] - 0s 695us/step - loss: 7445.1895 - mae: 7445.1895\n",
      "Epoch 12/100\n",
      "34/34 [==============================] - 0s 756us/step - loss: 7707.1792 - mae: 7707.1792\n",
      "Epoch 13/100\n",
      "34/34 [==============================] - 0s 725us/step - loss: 7671.7983 - mae: 7671.7983\n",
      "Epoch 14/100\n",
      "34/34 [==============================] - 0s 725us/step - loss: 7795.6367 - mae: 7795.6367\n",
      "Epoch 15/100\n",
      "34/34 [==============================] - 0s 725us/step - loss: 7660.4956 - mae: 7660.4956\n",
      "Epoch 16/100\n",
      "34/34 [==============================] - 0s 725us/step - loss: 7733.8052 - mae: 7733.8052\n",
      "Epoch 17/100\n",
      "34/34 [==============================] - 0s 846us/step - loss: 7597.3091 - mae: 7597.3091\n",
      "Epoch 18/100\n",
      "34/34 [==============================] - 0s 725us/step - loss: 7789.9194 - mae: 7789.9194\n",
      "Epoch 19/100\n",
      "34/34 [==============================] - 0s 695us/step - loss: 7744.6387 - mae: 7744.6387\n",
      "Epoch 20/100\n",
      "34/34 [==============================] - 0s 2ms/step - loss: 7902.6450 - mae: 7902.6450\n",
      "Epoch 21/100\n",
      "34/34 [==============================] - 0s 695us/step - loss: 7538.0757 - mae: 7538.0757\n",
      "Epoch 22/100\n",
      "34/34 [==============================] - 0s 755us/step - loss: 7886.2886 - mae: 7886.2886\n",
      "Epoch 23/100\n",
      "34/34 [==============================] - 0s 695us/step - loss: 7701.3066 - mae: 7701.3066\n",
      "Epoch 24/100\n",
      "34/34 [==============================] - 0s 725us/step - loss: 7552.7983 - mae: 7552.7983\n",
      "Epoch 25/100\n",
      "34/34 [==============================] - 0s 695us/step - loss: 7490.2686 - mae: 7490.2686\n",
      "Epoch 26/100\n",
      "34/34 [==============================] - 0s 725us/step - loss: 7638.3447 - mae: 7638.3447\n",
      "Epoch 27/100\n",
      "34/34 [==============================] - 0s 756us/step - loss: 7614.0679 - mae: 7614.0679\n",
      "Epoch 28/100\n",
      "34/34 [==============================] - 0s 695us/step - loss: 7345.8384 - mae: 7345.8384\n",
      "Epoch 29/100\n",
      "34/34 [==============================] - 0s 725us/step - loss: 7691.5928 - mae: 7691.5928\n",
      "Epoch 30/100\n",
      "34/34 [==============================] - 0s 695us/step - loss: 7519.0518 - mae: 7519.0518\n",
      "Epoch 31/100\n",
      "34/34 [==============================] - 0s 695us/step - loss: 7471.7241 - mae: 7471.7241\n",
      "Epoch 32/100\n",
      "34/34 [==============================] - 0s 695us/step - loss: 7487.1255 - mae: 7487.1255\n",
      "Epoch 33/100\n",
      "34/34 [==============================] - 0s 665us/step - loss: 7443.9824 - mae: 7443.9824\n",
      "Epoch 34/100\n",
      "34/34 [==============================] - 0s 725us/step - loss: 7456.1533 - mae: 7456.1533\n",
      "Epoch 35/100\n",
      "34/34 [==============================] - 0s 695us/step - loss: 7615.4795 - mae: 7615.4795\n",
      "Epoch 36/100\n",
      "34/34 [==============================] - 0s 725us/step - loss: 7388.2139 - mae: 7388.2139\n",
      "Epoch 37/100\n",
      "34/34 [==============================] - 0s 695us/step - loss: 7636.0586 - mae: 7636.0586\n",
      "Epoch 38/100\n",
      "34/34 [==============================] - 0s 756us/step - loss: 7536.5024 - mae: 7536.5024\n",
      "Epoch 39/100\n",
      "34/34 [==============================] - 0s 665us/step - loss: 7472.1748 - mae: 7472.1748\n",
      "Epoch 40/100\n",
      "34/34 [==============================] - 0s 695us/step - loss: 7495.5029 - mae: 7495.5029\n",
      "Epoch 41/100\n",
      "34/34 [==============================] - 0s 725us/step - loss: 7744.9443 - mae: 7744.9443\n",
      "Epoch 42/100\n",
      "34/34 [==============================] - 0s 695us/step - loss: 7401.6182 - mae: 7401.6182\n",
      "Epoch 43/100\n",
      "34/34 [==============================] - 0s 756us/step - loss: 7635.1094 - mae: 7635.1094\n",
      "Epoch 44/100\n",
      "34/34 [==============================] - 0s 695us/step - loss: 7499.4189 - mae: 7499.4189\n",
      "Epoch 45/100\n",
      "34/34 [==============================] - 0s 695us/step - loss: 7470.0220 - mae: 7470.0220\n",
      "Epoch 46/100\n",
      "34/34 [==============================] - 0s 725us/step - loss: 7412.8638 - mae: 7412.8638\n",
      "Epoch 47/100\n",
      "34/34 [==============================] - 0s 695us/step - loss: 7469.4346 - mae: 7469.4346\n",
      "Epoch 48/100\n",
      "34/34 [==============================] - 0s 756us/step - loss: 7571.7236 - mae: 7571.7236\n",
      "Epoch 49/100\n",
      "34/34 [==============================] - 0s 746us/step - loss: 7529.6865 - mae: 7529.6865\n",
      "Epoch 50/100\n",
      "34/34 [==============================] - 0s 695us/step - loss: 7519.1846 - mae: 7519.1846\n",
      "Epoch 51/100\n",
      "34/34 [==============================] - 0s 695us/step - loss: 7420.6777 - mae: 7420.6777\n",
      "Epoch 52/100\n",
      "34/34 [==============================] - 0s 695us/step - loss: 7377.6689 - mae: 7377.6689\n",
      "Epoch 53/100\n",
      "34/34 [==============================] - 0s 695us/step - loss: 7535.4917 - mae: 7535.4917\n",
      "Epoch 54/100\n",
      "34/34 [==============================] - 0s 695us/step - loss: 7197.1558 - mae: 7197.1558\n",
      "Epoch 55/100\n",
      "34/34 [==============================] - 0s 725us/step - loss: 7037.1616 - mae: 7037.1616\n",
      "Epoch 56/100\n",
      "34/34 [==============================] - 0s 695us/step - loss: 7200.4741 - mae: 7200.4741\n",
      "Epoch 57/100\n",
      "34/34 [==============================] - 0s 725us/step - loss: 7436.7466 - mae: 7436.7466\n",
      "Epoch 58/100\n",
      "34/34 [==============================] - 0s 695us/step - loss: 7349.8477 - mae: 7349.8477\n",
      "Epoch 59/100\n",
      "34/34 [==============================] - 0s 695us/step - loss: 7614.4634 - mae: 7614.4634\n",
      "Epoch 60/100\n",
      "34/34 [==============================] - 0s 725us/step - loss: 7404.3877 - mae: 7404.3877\n",
      "Epoch 61/100\n",
      "34/34 [==============================] - 0s 695us/step - loss: 7252.9390 - mae: 7252.9390\n",
      "Epoch 62/100\n",
      "34/34 [==============================] - 0s 725us/step - loss: 7512.4370 - mae: 7512.4370\n",
      "Epoch 63/100\n",
      "34/34 [==============================] - 0s 695us/step - loss: 7389.2881 - mae: 7389.2881\n",
      "Epoch 64/100\n",
      "34/34 [==============================] - 0s 755us/step - loss: 7366.0093 - mae: 7366.0093\n",
      "Epoch 65/100\n",
      "34/34 [==============================] - 0s 695us/step - loss: 7292.3472 - mae: 7292.3472\n",
      "Epoch 66/100\n",
      "34/34 [==============================] - 0s 695us/step - loss: 7534.2188 - mae: 7534.2188\n",
      "Epoch 67/100\n",
      "34/34 [==============================] - 0s 665us/step - loss: 7349.6699 - mae: 7349.6699\n",
      "Epoch 68/100\n",
      "34/34 [==============================] - 0s 725us/step - loss: 7466.2705 - mae: 7466.2705\n",
      "Epoch 69/100\n",
      "34/34 [==============================] - 0s 725us/step - loss: 7472.5669 - mae: 7472.5669\n",
      "Epoch 70/100\n",
      "34/34 [==============================] - 0s 695us/step - loss: 7628.3862 - mae: 7628.3862\n",
      "Epoch 71/100\n",
      "34/34 [==============================] - 0s 725us/step - loss: 7424.1470 - mae: 7424.1470\n",
      "Epoch 72/100\n",
      "34/34 [==============================] - 0s 725us/step - loss: 7312.2759 - mae: 7312.2759\n",
      "Epoch 73/100\n",
      "34/34 [==============================] - 0s 695us/step - loss: 7515.4058 - mae: 7515.4058\n",
      "Epoch 74/100\n",
      "34/34 [==============================] - 0s 725us/step - loss: 7395.4194 - mae: 7395.4194\n",
      "Epoch 75/100\n",
      "34/34 [==============================] - 0s 695us/step - loss: 7288.6372 - mae: 7288.6372\n",
      "Epoch 76/100\n",
      "34/34 [==============================] - 0s 756us/step - loss: 7252.9033 - mae: 7252.9033\n",
      "Epoch 77/100\n",
      "34/34 [==============================] - 0s 695us/step - loss: 7376.0151 - mae: 7376.0151\n",
      "Epoch 78/100\n",
      "34/34 [==============================] - 0s 695us/step - loss: 7038.6592 - mae: 7038.6592\n",
      "Epoch 79/100\n",
      "34/34 [==============================] - 0s 725us/step - loss: 7527.2437 - mae: 7527.2437\n",
      "Epoch 80/100\n",
      "34/34 [==============================] - 0s 695us/step - loss: 7139.0625 - mae: 7139.0625\n",
      "Epoch 81/100\n",
      "34/34 [==============================] - 0s 725us/step - loss: 7260.2515 - mae: 7260.2515\n",
      "Epoch 82/100\n",
      "34/34 [==============================] - 0s 695us/step - loss: 7208.9521 - mae: 7208.9521\n",
      "Epoch 83/100\n",
      "34/34 [==============================] - 0s 725us/step - loss: 7465.5332 - mae: 7465.5332\n",
      "Epoch 84/100\n",
      "34/34 [==============================] - 0s 725us/step - loss: 7243.5571 - mae: 7243.5571\n",
      "Epoch 85/100\n",
      "34/34 [==============================] - 0s 665us/step - loss: 7543.7192 - mae: 7543.7192\n",
      "Epoch 86/100\n",
      "34/34 [==============================] - 0s 725us/step - loss: 7443.9487 - mae: 7443.9487\n",
      "Epoch 87/100\n",
      "34/34 [==============================] - 0s 665us/step - loss: 7289.6357 - mae: 7289.6357\n",
      "Epoch 88/100\n",
      "34/34 [==============================] - 0s 725us/step - loss: 7335.0059 - mae: 7335.0059\n",
      "Epoch 89/100\n",
      "34/34 [==============================] - 0s 695us/step - loss: 7541.9473 - mae: 7541.9473\n",
      "Epoch 90/100\n",
      "34/34 [==============================] - 0s 665us/step - loss: 7092.6274 - mae: 7092.6274\n",
      "Epoch 91/100\n",
      "34/34 [==============================] - 0s 695us/step - loss: 7046.1284 - mae: 7046.1284\n",
      "Epoch 92/100\n",
      "34/34 [==============================] - 0s 665us/step - loss: 7293.7271 - mae: 7293.7271\n",
      "Epoch 93/100\n",
      "34/34 [==============================] - 0s 725us/step - loss: 7525.2148 - mae: 7525.2148\n",
      "Epoch 94/100\n",
      "34/34 [==============================] - 0s 967us/step - loss: 7057.5503 - mae: 7057.5503\n",
      "Epoch 95/100\n",
      "34/34 [==============================] - 0s 1ms/step - loss: 7429.8672 - mae: 7429.8672\n",
      "Epoch 96/100\n",
      "34/34 [==============================] - 0s 1ms/step - loss: 7132.3652 - mae: 7132.3652\n",
      "Epoch 97/100\n",
      "34/34 [==============================] - 0s 1ms/step - loss: 7220.7847 - mae: 7220.7847\n",
      "Epoch 98/100\n",
      "34/34 [==============================] - 0s 1ms/step - loss: 7344.6147 - mae: 7344.6147\n",
      "Epoch 99/100\n",
      "34/34 [==============================] - 0s 1ms/step - loss: 7196.6826 - mae: 7196.6826\n",
      "Epoch 100/100\n",
      "34/34 [==============================] - 0s 695us/step - loss: 7123.9233 - mae: 7123.9233\n"
     ]
    },
    {
     "data": {
      "text/plain": [
       "<keras.callbacks.History at 0x261b4d17c40>"
      ]
     },
     "execution_count": 495,
     "metadata": {},
     "output_type": "execute_result"
    }
   ],
   "source": [
    "# Build a neural network\n",
    "tf.random.set_seed(42)\n",
    "\n",
    "# 1. Create a model\n",
    "insurance_model = tf.keras.models.Sequential([\n",
    "    tf.keras.layers.Dense(10),\n",
    "    tf.keras.layers.Dense(1)\n",
    "])\n",
    "\n",
    "# 2. Compile a model\n",
    "insurance_model.compile(loss=tf.keras.losses.mae,\n",
    "                         optimizer=tf.keras.optimizers.SGD(),\n",
    "                         metrics=['mae'])\n",
    "\n",
    "# 3. Fit a model\n",
    "insurance_model.fit(X_train, y_train, epochs=100)"
   ]
  },
  {
   "cell_type": "code",
   "execution_count": 496,
   "metadata": {},
   "outputs": [
    {
     "name": "stdout",
     "output_type": "stream",
     "text": [
      "9/9 [==============================] - 0s 997us/step - loss: 7260.0874 - mae: 7260.0874\n"
     ]
    },
    {
     "data": {
      "text/plain": [
       "[7260.08740234375, 7260.08740234375]"
      ]
     },
     "execution_count": 496,
     "metadata": {},
     "output_type": "execute_result"
    }
   ],
   "source": [
    "# Check the results of the insurance model on the test data\n",
    "insurance_model.evaluate(X_test, y_test)"
   ]
  },
  {
   "cell_type": "code",
   "execution_count": 497,
   "metadata": {},
   "outputs": [
    {
     "data": {
      "text/plain": [
       "(9575.4421, 13346.089736364485)"
      ]
     },
     "execution_count": 497,
     "metadata": {},
     "output_type": "execute_result"
    }
   ],
   "source": [
    "y_train.median(), y_train.mean()"
   ]
  },
  {
   "cell_type": "markdown",
   "metadata": {},
   "source": [
    "Looks like the model is not performing too well...let's try and improve it\n",
    "\n",
    "To (try) improve model, we'll run experiments:\n",
    "1. Add and extra layer with more hidden units and use the Adam optimizer\n",
    "2. Same as above but train for longer (200 epochs)\n",
    "3. ..."
   ]
  },
  {
   "cell_type": "markdown",
   "metadata": {},
   "source": [
    "**First experiment**"
   ]
  },
  {
   "cell_type": "code",
   "execution_count": 498,
   "metadata": {},
   "outputs": [
    {
     "name": "stdout",
     "output_type": "stream",
     "text": [
      "Epoch 1/100\n",
      "34/34 [==============================] - 0s 884us/step - loss: 13280.1846 - mae: 13280.1846\n",
      "Epoch 2/100\n",
      "34/34 [==============================] - 0s 846us/step - loss: 13118.9844 - mae: 13118.9844\n",
      "Epoch 3/100\n",
      "34/34 [==============================] - 0s 846us/step - loss: 12784.1367 - mae: 12784.1367\n",
      "Epoch 4/100\n",
      "34/34 [==============================] - 0s 816us/step - loss: 12123.8330 - mae: 12123.8330\n",
      "Epoch 5/100\n",
      "34/34 [==============================] - 0s 816us/step - loss: 10999.9844 - mae: 10999.9844\n",
      "Epoch 6/100\n",
      "34/34 [==============================] - 0s 846us/step - loss: 9541.8438 - mae: 9541.8438\n",
      "Epoch 7/100\n",
      "34/34 [==============================] - 0s 846us/step - loss: 8194.8252 - mae: 8194.8252\n",
      "Epoch 8/100\n",
      "34/34 [==============================] - 0s 846us/step - loss: 7535.0186 - mae: 7535.0186\n",
      "Epoch 9/100\n",
      "34/34 [==============================] - 0s 846us/step - loss: 7422.6274 - mae: 7422.6274\n",
      "Epoch 10/100\n",
      "34/34 [==============================] - 0s 876us/step - loss: 7401.4521 - mae: 7401.4521\n",
      "Epoch 11/100\n",
      "34/34 [==============================] - 0s 907us/step - loss: 7382.8594 - mae: 7382.8594\n",
      "Epoch 12/100\n",
      "34/34 [==============================] - 0s 876us/step - loss: 7361.0532 - mae: 7361.0532\n",
      "Epoch 13/100\n",
      "34/34 [==============================] - 0s 816us/step - loss: 7341.0542 - mae: 7341.0542\n",
      "Epoch 14/100\n",
      "34/34 [==============================] - 0s 816us/step - loss: 7318.8740 - mae: 7318.8740\n",
      "Epoch 15/100\n",
      "34/34 [==============================] - 0s 876us/step - loss: 7300.3008 - mae: 7300.3008\n",
      "Epoch 16/100\n",
      "34/34 [==============================] - 0s 846us/step - loss: 7278.3564 - mae: 7278.3564\n",
      "Epoch 17/100\n",
      "34/34 [==============================] - 0s 876us/step - loss: 7258.2080 - mae: 7258.2080\n",
      "Epoch 18/100\n",
      "34/34 [==============================] - 0s 877us/step - loss: 7234.9746 - mae: 7234.9746\n",
      "Epoch 19/100\n",
      "34/34 [==============================] - 0s 876us/step - loss: 7213.1514 - mae: 7213.1514\n",
      "Epoch 20/100\n",
      "34/34 [==============================] - 0s 846us/step - loss: 7189.7974 - mae: 7189.7974\n",
      "Epoch 21/100\n",
      "34/34 [==============================] - 0s 816us/step - loss: 7171.2520 - mae: 7171.2520\n",
      "Epoch 22/100\n",
      "34/34 [==============================] - 0s 876us/step - loss: 7143.7271 - mae: 7143.7271\n",
      "Epoch 23/100\n",
      "34/34 [==============================] - 0s 876us/step - loss: 7119.0439 - mae: 7119.0439\n",
      "Epoch 24/100\n",
      "34/34 [==============================] - 0s 846us/step - loss: 7093.9902 - mae: 7093.9902\n",
      "Epoch 25/100\n",
      "34/34 [==============================] - 0s 876us/step - loss: 7075.4517 - mae: 7075.4517\n",
      "Epoch 26/100\n",
      "34/34 [==============================] - 0s 877us/step - loss: 7044.6143 - mae: 7044.6143\n",
      "Epoch 27/100\n",
      "34/34 [==============================] - 0s 846us/step - loss: 7016.0571 - mae: 7016.0571\n",
      "Epoch 28/100\n",
      "34/34 [==============================] - 0s 846us/step - loss: 6988.2847 - mae: 6988.2847\n",
      "Epoch 29/100\n",
      "34/34 [==============================] - 0s 816us/step - loss: 6960.3574 - mae: 6960.3574\n",
      "Epoch 30/100\n",
      "34/34 [==============================] - 0s 816us/step - loss: 6933.0063 - mae: 6933.0063\n",
      "Epoch 31/100\n",
      "34/34 [==============================] - 0s 846us/step - loss: 6902.8589 - mae: 6902.8589\n",
      "Epoch 32/100\n",
      "34/34 [==============================] - 0s 846us/step - loss: 6874.9868 - mae: 6874.9868\n",
      "Epoch 33/100\n",
      "34/34 [==============================] - 0s 846us/step - loss: 6843.9751 - mae: 6843.9751\n",
      "Epoch 34/100\n",
      "34/34 [==============================] - 0s 846us/step - loss: 6813.4214 - mae: 6813.4214\n",
      "Epoch 35/100\n",
      "34/34 [==============================] - 0s 876us/step - loss: 6779.2412 - mae: 6779.2412\n",
      "Epoch 36/100\n",
      "34/34 [==============================] - 0s 816us/step - loss: 6745.4692 - mae: 6745.4692\n",
      "Epoch 37/100\n",
      "34/34 [==============================] - 0s 816us/step - loss: 6709.7603 - mae: 6709.7603\n",
      "Epoch 38/100\n",
      "34/34 [==============================] - 0s 846us/step - loss: 6680.1011 - mae: 6680.1011\n",
      "Epoch 39/100\n",
      "34/34 [==============================] - 0s 876us/step - loss: 6642.6450 - mae: 6642.6450\n",
      "Epoch 40/100\n",
      "34/34 [==============================] - 0s 876us/step - loss: 6608.6729 - mae: 6608.6729\n",
      "Epoch 41/100\n",
      "34/34 [==============================] - 0s 1ms/step - loss: 6577.5117 - mae: 6577.5117\n",
      "Epoch 42/100\n",
      "34/34 [==============================] - 0s 876us/step - loss: 6554.6279 - mae: 6554.6279\n",
      "Epoch 43/100\n",
      "34/34 [==============================] - 0s 846us/step - loss: 6524.9590 - mae: 6524.9590\n",
      "Epoch 44/100\n",
      "34/34 [==============================] - 0s 876us/step - loss: 6503.3604 - mae: 6503.3604\n",
      "Epoch 45/100\n",
      "34/34 [==============================] - 0s 846us/step - loss: 6491.8857 - mae: 6491.8857\n",
      "Epoch 46/100\n",
      "34/34 [==============================] - 0s 816us/step - loss: 6475.2559 - mae: 6475.2559\n",
      "Epoch 47/100\n",
      "34/34 [==============================] - 0s 846us/step - loss: 6457.8984 - mae: 6457.8984\n",
      "Epoch 48/100\n",
      "34/34 [==============================] - 0s 876us/step - loss: 6444.3740 - mae: 6444.3740\n",
      "Epoch 49/100\n",
      "34/34 [==============================] - 0s 876us/step - loss: 6431.6196 - mae: 6431.6196\n",
      "Epoch 50/100\n",
      "34/34 [==============================] - 0s 876us/step - loss: 6417.8306 - mae: 6417.8306\n",
      "Epoch 51/100\n",
      "34/34 [==============================] - 0s 846us/step - loss: 6403.7886 - mae: 6403.7886\n",
      "Epoch 52/100\n",
      "34/34 [==============================] - 0s 816us/step - loss: 6393.1133 - mae: 6393.1133\n",
      "Epoch 53/100\n",
      "34/34 [==============================] - 0s 816us/step - loss: 6379.1440 - mae: 6379.1440\n",
      "Epoch 54/100\n",
      "34/34 [==============================] - 0s 846us/step - loss: 6365.6973 - mae: 6365.6973\n",
      "Epoch 55/100\n",
      "34/34 [==============================] - 0s 846us/step - loss: 6352.1860 - mae: 6352.1860\n",
      "Epoch 56/100\n",
      "34/34 [==============================] - 0s 876us/step - loss: 6337.8828 - mae: 6337.8828\n",
      "Epoch 57/100\n",
      "34/34 [==============================] - 0s 846us/step - loss: 6325.3960 - mae: 6325.3960\n",
      "Epoch 58/100\n",
      "34/34 [==============================] - 0s 967us/step - loss: 6311.2124 - mae: 6311.2124\n",
      "Epoch 59/100\n",
      "34/34 [==============================] - 0s 967us/step - loss: 6296.3750 - mae: 6296.3750\n",
      "Epoch 60/100\n",
      "34/34 [==============================] - 0s 846us/step - loss: 6285.7329 - mae: 6285.7329\n",
      "Epoch 61/100\n",
      "34/34 [==============================] - 0s 876us/step - loss: 6265.8633 - mae: 6265.8633\n",
      "Epoch 62/100\n",
      "34/34 [==============================] - 0s 846us/step - loss: 6254.2637 - mae: 6254.2637\n",
      "Epoch 63/100\n",
      "34/34 [==============================] - 0s 846us/step - loss: 6236.0015 - mae: 6236.0015\n",
      "Epoch 64/100\n",
      "34/34 [==============================] - 0s 846us/step - loss: 6218.7598 - mae: 6218.7598\n",
      "Epoch 65/100\n",
      "34/34 [==============================] - 0s 846us/step - loss: 6202.3677 - mae: 6202.3677\n",
      "Epoch 66/100\n",
      "34/34 [==============================] - 0s 907us/step - loss: 6185.4717 - mae: 6185.4717\n",
      "Epoch 67/100\n",
      "34/34 [==============================] - 0s 907us/step - loss: 6172.7354 - mae: 6172.7354\n",
      "Epoch 68/100\n",
      "34/34 [==============================] - 0s 876us/step - loss: 6150.5918 - mae: 6150.5918\n",
      "Epoch 69/100\n",
      "34/34 [==============================] - 0s 877us/step - loss: 6134.4961 - mae: 6134.4961\n",
      "Epoch 70/100\n",
      "34/34 [==============================] - 0s 816us/step - loss: 6114.2563 - mae: 6114.2563\n",
      "Epoch 71/100\n",
      "34/34 [==============================] - 0s 846us/step - loss: 6094.7261 - mae: 6094.7261\n",
      "Epoch 72/100\n",
      "34/34 [==============================] - 0s 816us/step - loss: 6076.0181 - mae: 6076.0181\n",
      "Epoch 73/100\n",
      "34/34 [==============================] - 0s 816us/step - loss: 6060.4292 - mae: 6060.4292\n",
      "Epoch 74/100\n",
      "34/34 [==============================] - 0s 846us/step - loss: 6033.8145 - mae: 6033.8145\n",
      "Epoch 75/100\n",
      "34/34 [==============================] - 0s 1ms/step - loss: 6013.1587 - mae: 6013.1587\n",
      "Epoch 76/100\n",
      "34/34 [==============================] - 0s 2ms/step - loss: 5998.0991 - mae: 5998.0991\n",
      "Epoch 77/100\n",
      "34/34 [==============================] - 0s 1ms/step - loss: 5965.6714 - mae: 5965.6714\n",
      "Epoch 78/100\n",
      "34/34 [==============================] - 0s 1ms/step - loss: 5943.1318 - mae: 5943.1318\n",
      "Epoch 79/100\n",
      "34/34 [==============================] - 0s 1ms/step - loss: 5919.0020 - mae: 5919.0020\n",
      "Epoch 80/100\n",
      "34/34 [==============================] - 0s 907us/step - loss: 5891.9487 - mae: 5891.9487\n",
      "Epoch 81/100\n",
      "34/34 [==============================] - 0s 876us/step - loss: 5866.1885 - mae: 5866.1885\n",
      "Epoch 82/100\n",
      "34/34 [==============================] - 0s 846us/step - loss: 5837.9141 - mae: 5837.9141\n",
      "Epoch 83/100\n",
      "34/34 [==============================] - 0s 876us/step - loss: 5810.6025 - mae: 5810.6025\n",
      "Epoch 84/100\n",
      "34/34 [==============================] - 0s 877us/step - loss: 5776.1191 - mae: 5776.1191\n",
      "Epoch 85/100\n",
      "34/34 [==============================] - 0s 846us/step - loss: 5749.2275 - mae: 5749.2275\n",
      "Epoch 86/100\n",
      "34/34 [==============================] - 0s 846us/step - loss: 5715.8223 - mae: 5715.8223\n",
      "Epoch 87/100\n",
      "34/34 [==============================] - 0s 846us/step - loss: 5679.4468 - mae: 5679.4468\n",
      "Epoch 88/100\n",
      "34/34 [==============================] - 0s 816us/step - loss: 5644.6582 - mae: 5644.6582\n",
      "Epoch 89/100\n",
      "34/34 [==============================] - 0s 907us/step - loss: 5606.1265 - mae: 5606.1265\n",
      "Epoch 90/100\n",
      "34/34 [==============================] - 0s 907us/step - loss: 5565.1523 - mae: 5565.1523\n",
      "Epoch 91/100\n",
      "34/34 [==============================] - 0s 846us/step - loss: 5530.1074 - mae: 5530.1074\n",
      "Epoch 92/100\n",
      "34/34 [==============================] - 0s 876us/step - loss: 5480.2017 - mae: 5480.2017\n",
      "Epoch 93/100\n",
      "34/34 [==============================] - 0s 876us/step - loss: 5438.6924 - mae: 5438.6924\n",
      "Epoch 94/100\n",
      "34/34 [==============================] - 0s 907us/step - loss: 5394.3828 - mae: 5394.3828\n",
      "Epoch 95/100\n",
      "34/34 [==============================] - 0s 876us/step - loss: 5341.0312 - mae: 5341.0312\n",
      "Epoch 96/100\n",
      "34/34 [==============================] - 0s 846us/step - loss: 5297.8901 - mae: 5297.8901\n",
      "Epoch 97/100\n",
      "34/34 [==============================] - 0s 816us/step - loss: 5242.6748 - mae: 5242.6748\n",
      "Epoch 98/100\n",
      "34/34 [==============================] - 0s 876us/step - loss: 5180.8164 - mae: 5180.8164\n",
      "Epoch 99/100\n",
      "34/34 [==============================] - 0s 846us/step - loss: 5122.1177 - mae: 5122.1177\n",
      "Epoch 100/100\n",
      "34/34 [==============================] - 0s 846us/step - loss: 5066.1914 - mae: 5066.1914\n"
     ]
    },
    {
     "data": {
      "text/plain": [
       "<keras.callbacks.History at 0x261b4d16800>"
      ]
     },
     "execution_count": 498,
     "metadata": {},
     "output_type": "execute_result"
    }
   ],
   "source": [
    "tf.random.set_seed(42)\n",
    "\n",
    "# 1. Create a model\n",
    "insurance_model_2 = tf.keras.models.Sequential([\n",
    "    tf.keras.layers.Dense(100),\n",
    "    tf.keras.layers.Dense(10),\n",
    "    tf.keras.layers.Dense(1)\n",
    "])\n",
    "\n",
    "# 2. Compile a model\n",
    "insurance_model_2.compile(loss=tf.keras.losses.mae,\n",
    "                          optimizer=tf.keras.optimizers.Adam(),\n",
    "                          metrics=['mae'])\n",
    "\n",
    "# 3. Fit a model\n",
    "insurance_model_2.fit(X_train, y_train, epochs=100, verbose=1)"
   ]
  },
  {
   "cell_type": "code",
   "execution_count": 499,
   "metadata": {},
   "outputs": [
    {
     "name": "stdout",
     "output_type": "stream",
     "text": [
      "9/9 [==============================] - 0s 875us/step - loss: 4933.3960 - mae: 4933.3960\n"
     ]
    },
    {
     "data": {
      "text/plain": [
       "[4933.39599609375, 4933.39599609375]"
      ]
     },
     "execution_count": 499,
     "metadata": {},
     "output_type": "execute_result"
    }
   ],
   "source": [
    "# Evaluate the model\n",
    "insurance_model_2.evaluate(X_test, y_test)"
   ]
  },
  {
   "cell_type": "code",
   "execution_count": 500,
   "metadata": {},
   "outputs": [
    {
     "name": "stdout",
     "output_type": "stream",
     "text": [
      "9/9 [==============================] - 0s 1ms/step - loss: 7260.0874 - mae: 7260.0874\n"
     ]
    },
    {
     "data": {
      "text/plain": [
       "[7260.08740234375, 7260.08740234375]"
      ]
     },
     "execution_count": 500,
     "metadata": {},
     "output_type": "execute_result"
    }
   ],
   "source": [
    "# Previous model results\n",
    "insurance_model.evaluate(X_test, y_test)"
   ]
  },
  {
   "cell_type": "markdown",
   "metadata": {},
   "source": [
    "**Second experiment**"
   ]
  },
  {
   "cell_type": "code",
   "execution_count": 501,
   "metadata": {},
   "outputs": [
    {
     "name": "stdout",
     "output_type": "stream",
     "text": [
      "Epoch 1/1000\n",
      "34/34 [==============================] - 0s 940us/step - loss: 13301.5215 - mae: 13301.5215\n",
      "Epoch 2/1000\n",
      "34/34 [==============================] - 0s 786us/step - loss: 13156.2998 - mae: 13156.2998\n",
      "Epoch 3/1000\n",
      "34/34 [==============================] - 0s 816us/step - loss: 12840.6260 - mae: 12840.6260\n",
      "Epoch 4/1000\n",
      "34/34 [==============================] - 0s 846us/step - loss: 12209.4990 - mae: 12209.4990\n",
      "Epoch 5/1000\n",
      "34/34 [==============================] - 0s 876us/step - loss: 11122.7568 - mae: 11122.7568\n",
      "Epoch 6/1000\n",
      "34/34 [==============================] - 0s 846us/step - loss: 9669.6729 - mae: 9669.6729\n",
      "Epoch 7/1000\n",
      "34/34 [==============================] - 0s 876us/step - loss: 8279.6201 - mae: 8279.6201\n",
      "Epoch 8/1000\n",
      "34/34 [==============================] - 0s 876us/step - loss: 7549.4839 - mae: 7549.4839\n",
      "Epoch 9/1000\n",
      "34/34 [==============================] - 0s 967us/step - loss: 7415.8115 - mae: 7415.8115\n",
      "Epoch 10/1000\n",
      "34/34 [==============================] - 0s 1ms/step - loss: 7394.5156 - mae: 7394.5156\n",
      "Epoch 11/1000\n",
      "34/34 [==============================] - 0s 1ms/step - loss: 7375.7319 - mae: 7375.7319\n",
      "Epoch 12/1000\n",
      "34/34 [==============================] - 0s 1ms/step - loss: 7354.0996 - mae: 7354.0996\n",
      "Epoch 13/1000\n",
      "34/34 [==============================] - 0s 1ms/step - loss: 7333.9517 - mae: 7333.9517\n",
      "Epoch 14/1000\n",
      "34/34 [==============================] - 0s 967us/step - loss: 7311.7070 - mae: 7311.7070\n",
      "Epoch 15/1000\n",
      "34/34 [==============================] - 0s 997us/step - loss: 7293.2651 - mae: 7293.2651\n",
      "Epoch 16/1000\n",
      "34/34 [==============================] - 0s 937us/step - loss: 7271.2930 - mae: 7271.2930\n",
      "Epoch 17/1000\n",
      "34/34 [==============================] - 0s 937us/step - loss: 7250.9248 - mae: 7250.9248\n",
      "Epoch 18/1000\n",
      "34/34 [==============================] - 0s 967us/step - loss: 7227.7627 - mae: 7227.7627\n",
      "Epoch 19/1000\n",
      "34/34 [==============================] - 0s 967us/step - loss: 7205.6465 - mae: 7205.6465\n",
      "Epoch 20/1000\n",
      "34/34 [==============================] - 0s 967us/step - loss: 7182.1323 - mae: 7182.1323\n",
      "Epoch 21/1000\n",
      "34/34 [==============================] - 0s 967us/step - loss: 7163.4697 - mae: 7163.4697\n",
      "Epoch 22/1000\n",
      "34/34 [==============================] - 0s 937us/step - loss: 7135.7280 - mae: 7135.7280\n",
      "Epoch 23/1000\n",
      "34/34 [==============================] - 0s 967us/step - loss: 7110.8247 - mae: 7110.8247\n",
      "Epoch 24/1000\n",
      "34/34 [==============================] - 0s 907us/step - loss: 7085.4702 - mae: 7085.4702\n",
      "Epoch 25/1000\n",
      "34/34 [==============================] - 0s 937us/step - loss: 7066.9609 - mae: 7066.9609\n",
      "Epoch 26/1000\n",
      "34/34 [==============================] - 0s 937us/step - loss: 7035.5776 - mae: 7035.5776\n",
      "Epoch 27/1000\n",
      "34/34 [==============================] - 0s 937us/step - loss: 7007.2632 - mae: 7007.2632\n",
      "Epoch 28/1000\n",
      "34/34 [==============================] - 0s 907us/step - loss: 6979.1108 - mae: 6979.1108\n",
      "Epoch 29/1000\n",
      "34/34 [==============================] - 0s 1ms/step - loss: 6950.7026 - mae: 6950.7026\n",
      "Epoch 30/1000\n",
      "34/34 [==============================] - 0s 1ms/step - loss: 6923.5083 - mae: 6923.5083\n",
      "Epoch 31/1000\n",
      "34/34 [==============================] - 0s 1ms/step - loss: 6892.9448 - mae: 6892.9448\n",
      "Epoch 32/1000\n",
      "34/34 [==============================] - 0s 1ms/step - loss: 6864.5088 - mae: 6864.5088\n",
      "Epoch 33/1000\n",
      "34/34 [==============================] - 0s 1ms/step - loss: 6833.0620 - mae: 6833.0620\n",
      "Epoch 34/1000\n",
      "34/34 [==============================] - 0s 1ms/step - loss: 6801.9419 - mae: 6801.9419\n",
      "Epoch 35/1000\n",
      "34/34 [==============================] - 0s 997us/step - loss: 6767.4863 - mae: 6767.4863\n",
      "Epoch 36/1000\n",
      "34/34 [==============================] - 0s 997us/step - loss: 6734.0146 - mae: 6734.0146\n",
      "Epoch 37/1000\n",
      "34/34 [==============================] - 0s 967us/step - loss: 6697.5967 - mae: 6697.5967\n",
      "Epoch 38/1000\n",
      "34/34 [==============================] - 0s 967us/step - loss: 6668.0903 - mae: 6668.0903\n",
      "Epoch 39/1000\n",
      "34/34 [==============================] - 0s 967us/step - loss: 6630.7471 - mae: 6630.7471\n",
      "Epoch 40/1000\n",
      "34/34 [==============================] - 0s 967us/step - loss: 6597.3774 - mae: 6597.3774\n",
      "Epoch 41/1000\n",
      "34/34 [==============================] - 0s 907us/step - loss: 6567.7363 - mae: 6567.7363\n",
      "Epoch 42/1000\n",
      "34/34 [==============================] - 0s 937us/step - loss: 6544.2812 - mae: 6544.2812\n",
      "Epoch 43/1000\n",
      "34/34 [==============================] - 0s 907us/step - loss: 6518.0845 - mae: 6518.0845\n",
      "Epoch 44/1000\n",
      "34/34 [==============================] - 0s 937us/step - loss: 6497.0552 - mae: 6497.0552\n",
      "Epoch 45/1000\n",
      "34/34 [==============================] - 0s 1ms/step - loss: 6489.1294 - mae: 6489.1294\n",
      "Epoch 46/1000\n",
      "34/34 [==============================] - 0s 1ms/step - loss: 6469.5317 - mae: 6469.5317\n",
      "Epoch 47/1000\n",
      "34/34 [==============================] - 0s 2ms/step - loss: 6454.0063 - mae: 6454.0063\n",
      "Epoch 48/1000\n",
      "34/34 [==============================] - 0s 2ms/step - loss: 6440.1670 - mae: 6440.1670\n",
      "Epoch 49/1000\n",
      "34/34 [==============================] - 0s 2ms/step - loss: 6428.2002 - mae: 6428.2002\n",
      "Epoch 50/1000\n",
      "34/34 [==============================] - 0s 1ms/step - loss: 6414.3921 - mae: 6414.3921\n",
      "Epoch 51/1000\n",
      "34/34 [==============================] - 0s 1ms/step - loss: 6400.9844 - mae: 6400.9844\n",
      "Epoch 52/1000\n",
      "34/34 [==============================] - 0s 1ms/step - loss: 6389.4863 - mae: 6389.4863\n",
      "Epoch 53/1000\n",
      "34/34 [==============================] - 0s 1ms/step - loss: 6375.4248 - mae: 6375.4248\n",
      "Epoch 54/1000\n",
      "34/34 [==============================] - 0s 1ms/step - loss: 6362.3228 - mae: 6362.3228\n",
      "Epoch 55/1000\n",
      "34/34 [==============================] - 0s 1ms/step - loss: 6348.5981 - mae: 6348.5981\n",
      "Epoch 56/1000\n",
      "34/34 [==============================] - 0s 997us/step - loss: 6334.7031 - mae: 6334.7031\n",
      "Epoch 57/1000\n",
      "34/34 [==============================] - 0s 997us/step - loss: 6321.7627 - mae: 6321.7627\n",
      "Epoch 58/1000\n",
      "34/34 [==============================] - 0s 967us/step - loss: 6307.7954 - mae: 6307.7954\n",
      "Epoch 59/1000\n",
      "34/34 [==============================] - 0s 967us/step - loss: 6293.2949 - mae: 6293.2949\n",
      "Epoch 60/1000\n",
      "34/34 [==============================] - 0s 967us/step - loss: 6282.5479 - mae: 6282.5479\n",
      "Epoch 61/1000\n",
      "34/34 [==============================] - 0s 967us/step - loss: 6262.8330 - mae: 6262.8330\n",
      "Epoch 62/1000\n",
      "34/34 [==============================] - 0s 937us/step - loss: 6251.1045 - mae: 6251.1045\n",
      "Epoch 63/1000\n",
      "34/34 [==============================] - 0s 907us/step - loss: 6232.9404 - mae: 6232.9404\n",
      "Epoch 64/1000\n",
      "34/34 [==============================] - 0s 937us/step - loss: 6215.3511 - mae: 6215.3511\n",
      "Epoch 65/1000\n",
      "34/34 [==============================] - 0s 937us/step - loss: 6198.7300 - mae: 6198.7300\n",
      "Epoch 66/1000\n",
      "34/34 [==============================] - 0s 937us/step - loss: 6181.7192 - mae: 6181.7192\n",
      "Epoch 67/1000\n",
      "34/34 [==============================] - 0s 907us/step - loss: 6169.2305 - mae: 6169.2305\n",
      "Epoch 68/1000\n",
      "34/34 [==============================] - 0s 907us/step - loss: 6147.2246 - mae: 6147.2246\n",
      "Epoch 69/1000\n",
      "34/34 [==============================] - 0s 907us/step - loss: 6130.8608 - mae: 6130.8608\n",
      "Epoch 70/1000\n",
      "34/34 [==============================] - 0s 907us/step - loss: 6110.9097 - mae: 6110.9097\n",
      "Epoch 71/1000\n",
      "34/34 [==============================] - 0s 907us/step - loss: 6091.1694 - mae: 6091.1694\n",
      "Epoch 72/1000\n",
      "34/34 [==============================] - 0s 937us/step - loss: 6072.4863 - mae: 6072.4863\n",
      "Epoch 73/1000\n",
      "34/34 [==============================] - 0s 907us/step - loss: 6057.0923 - mae: 6057.0923\n",
      "Epoch 74/1000\n",
      "34/34 [==============================] - 0s 967us/step - loss: 6030.2466 - mae: 6030.2466\n",
      "Epoch 75/1000\n",
      "34/34 [==============================] - 0s 907us/step - loss: 6009.0215 - mae: 6009.0215\n",
      "Epoch 76/1000\n",
      "34/34 [==============================] - 0s 937us/step - loss: 5996.0781 - mae: 5996.0781\n",
      "Epoch 77/1000\n",
      "34/34 [==============================] - 0s 877us/step - loss: 5962.2773 - mae: 5962.2773\n",
      "Epoch 78/1000\n",
      "34/34 [==============================] - 0s 876us/step - loss: 5939.8032 - mae: 5939.8032\n",
      "Epoch 79/1000\n",
      "34/34 [==============================] - 0s 876us/step - loss: 5915.4512 - mae: 5915.4512\n",
      "Epoch 80/1000\n",
      "34/34 [==============================] - 0s 907us/step - loss: 5888.1362 - mae: 5888.1362\n",
      "Epoch 81/1000\n",
      "34/34 [==============================] - 0s 907us/step - loss: 5862.1504 - mae: 5862.1504\n",
      "Epoch 82/1000\n",
      "34/34 [==============================] - 0s 907us/step - loss: 5835.0171 - mae: 5835.0171\n",
      "Epoch 83/1000\n",
      "34/34 [==============================] - 0s 876us/step - loss: 5806.7920 - mae: 5806.7920\n",
      "Epoch 84/1000\n",
      "34/34 [==============================] - 0s 876us/step - loss: 5773.5215 - mae: 5773.5215\n",
      "Epoch 85/1000\n",
      "34/34 [==============================] - 0s 846us/step - loss: 5746.4028 - mae: 5746.4028\n",
      "Epoch 86/1000\n",
      "34/34 [==============================] - 0s 876us/step - loss: 5712.1870 - mae: 5712.1870\n",
      "Epoch 87/1000\n",
      "34/34 [==============================] - 0s 876us/step - loss: 5676.3481 - mae: 5676.3481\n",
      "Epoch 88/1000\n",
      "34/34 [==============================] - 0s 907us/step - loss: 5642.0688 - mae: 5642.0688\n",
      "Epoch 89/1000\n",
      "34/34 [==============================] - 0s 907us/step - loss: 5603.5815 - mae: 5603.5815\n",
      "Epoch 90/1000\n",
      "34/34 [==============================] - 0s 907us/step - loss: 5563.0054 - mae: 5563.0054\n",
      "Epoch 91/1000\n",
      "34/34 [==============================] - 0s 967us/step - loss: 5527.4346 - mae: 5527.4346\n",
      "Epoch 92/1000\n",
      "34/34 [==============================] - 0s 907us/step - loss: 5478.8169 - mae: 5478.8169\n",
      "Epoch 93/1000\n",
      "34/34 [==============================] - 0s 907us/step - loss: 5438.3506 - mae: 5438.3506\n",
      "Epoch 94/1000\n",
      "34/34 [==============================] - 0s 876us/step - loss: 5394.0518 - mae: 5394.0518\n",
      "Epoch 95/1000\n",
      "34/34 [==============================] - 0s 876us/step - loss: 5339.7705 - mae: 5339.7705\n",
      "Epoch 96/1000\n",
      "34/34 [==============================] - 0s 876us/step - loss: 5297.1924 - mae: 5297.1924\n",
      "Epoch 97/1000\n",
      "34/34 [==============================] - 0s 937us/step - loss: 5242.3452 - mae: 5242.3452\n",
      "Epoch 98/1000\n",
      "34/34 [==============================] - 0s 937us/step - loss: 5181.1719 - mae: 5181.1719\n",
      "Epoch 99/1000\n",
      "34/34 [==============================] - 0s 2ms/step - loss: 5122.6904 - mae: 5122.6904\n",
      "Epoch 100/1000\n",
      "34/34 [==============================] - 0s 937us/step - loss: 5067.5381 - mae: 5067.5381\n",
      "Epoch 101/1000\n",
      "34/34 [==============================] - 0s 967us/step - loss: 4997.6064 - mae: 4997.6064\n",
      "Epoch 102/1000\n",
      "34/34 [==============================] - 0s 937us/step - loss: 4928.0371 - mae: 4928.0371\n",
      "Epoch 103/1000\n",
      "34/34 [==============================] - 0s 967us/step - loss: 4861.7168 - mae: 4861.7168\n",
      "Epoch 104/1000\n",
      "34/34 [==============================] - 0s 937us/step - loss: 4783.5815 - mae: 4783.5815\n",
      "Epoch 105/1000\n",
      "34/34 [==============================] - 0s 967us/step - loss: 4700.1274 - mae: 4700.1274\n",
      "Epoch 106/1000\n",
      "34/34 [==============================] - 0s 967us/step - loss: 4618.0400 - mae: 4618.0400\n",
      "Epoch 107/1000\n",
      "34/34 [==============================] - 0s 937us/step - loss: 4530.7207 - mae: 4530.7207\n",
      "Epoch 108/1000\n",
      "34/34 [==============================] - 0s 907us/step - loss: 4445.0337 - mae: 4445.0337\n",
      "Epoch 109/1000\n",
      "34/34 [==============================] - 0s 937us/step - loss: 4361.3760 - mae: 4361.3760\n",
      "Epoch 110/1000\n",
      "34/34 [==============================] - 0s 937us/step - loss: 4277.7661 - mae: 4277.7661\n",
      "Epoch 111/1000\n",
      "34/34 [==============================] - 0s 876us/step - loss: 4195.5034 - mae: 4195.5034\n",
      "Epoch 112/1000\n",
      "34/34 [==============================] - 0s 907us/step - loss: 4122.7534 - mae: 4122.7534\n",
      "Epoch 113/1000\n",
      "34/34 [==============================] - 0s 997us/step - loss: 4050.0183 - mae: 4050.0183\n",
      "Epoch 114/1000\n",
      "34/34 [==============================] - 0s 907us/step - loss: 3999.1458 - mae: 3999.1458\n",
      "Epoch 115/1000\n",
      "34/34 [==============================] - 0s 937us/step - loss: 3948.8154 - mae: 3948.8154\n",
      "Epoch 116/1000\n",
      "34/34 [==============================] - 0s 937us/step - loss: 3927.8159 - mae: 3927.8159\n",
      "Epoch 117/1000\n",
      "34/34 [==============================] - 0s 937us/step - loss: 3906.4895 - mae: 3906.4895\n",
      "Epoch 118/1000\n",
      "34/34 [==============================] - 0s 937us/step - loss: 3876.0251 - mae: 3876.0251\n",
      "Epoch 119/1000\n",
      "34/34 [==============================] - 0s 937us/step - loss: 3851.8433 - mae: 3851.8433\n",
      "Epoch 120/1000\n",
      "34/34 [==============================] - 0s 937us/step - loss: 3837.4993 - mae: 3837.4993\n",
      "Epoch 121/1000\n",
      "34/34 [==============================] - 0s 937us/step - loss: 3831.2617 - mae: 3831.2617\n",
      "Epoch 122/1000\n",
      "34/34 [==============================] - 0s 937us/step - loss: 3824.0952 - mae: 3824.0952\n",
      "Epoch 123/1000\n",
      "34/34 [==============================] - 0s 907us/step - loss: 3817.0022 - mae: 3817.0022\n",
      "Epoch 124/1000\n",
      "34/34 [==============================] - 0s 907us/step - loss: 3807.9683 - mae: 3807.9683\n",
      "Epoch 125/1000\n",
      "34/34 [==============================] - 0s 967us/step - loss: 3795.9863 - mae: 3795.9863\n",
      "Epoch 126/1000\n",
      "34/34 [==============================] - 0s 937us/step - loss: 3806.3306 - mae: 3806.3306\n",
      "Epoch 127/1000\n",
      "34/34 [==============================] - 0s 937us/step - loss: 3796.6819 - mae: 3796.6819\n",
      "Epoch 128/1000\n",
      "34/34 [==============================] - 0s 907us/step - loss: 3791.8813 - mae: 3791.8813\n",
      "Epoch 129/1000\n",
      "34/34 [==============================] - 0s 937us/step - loss: 3797.4414 - mae: 3797.4414\n",
      "Epoch 130/1000\n",
      "34/34 [==============================] - 0s 937us/step - loss: 3789.1169 - mae: 3789.1169\n",
      "Epoch 131/1000\n",
      "34/34 [==============================] - 0s 937us/step - loss: 3781.2207 - mae: 3781.2207\n",
      "Epoch 132/1000\n",
      "34/34 [==============================] - 0s 2ms/step - loss: 3775.0508 - mae: 3775.0508\n",
      "Epoch 133/1000\n",
      "34/34 [==============================] - 0s 1ms/step - loss: 3771.0420 - mae: 3771.0420\n",
      "Epoch 134/1000\n",
      "34/34 [==============================] - 0s 1ms/step - loss: 3769.9521 - mae: 3769.9521\n",
      "Epoch 135/1000\n",
      "34/34 [==============================] - 0s 2ms/step - loss: 3767.3083 - mae: 3767.3083\n",
      "Epoch 136/1000\n",
      "34/34 [==============================] - 0s 1ms/step - loss: 3766.0500 - mae: 3766.0500\n",
      "Epoch 137/1000\n",
      "34/34 [==============================] - 0s 1ms/step - loss: 3775.5200 - mae: 3775.5200\n",
      "Epoch 138/1000\n",
      "34/34 [==============================] - 0s 1ms/step - loss: 3785.5977 - mae: 3785.5977\n",
      "Epoch 139/1000\n",
      "34/34 [==============================] - 0s 1ms/step - loss: 3761.5229 - mae: 3761.5229\n",
      "Epoch 140/1000\n",
      "34/34 [==============================] - 0s 967us/step - loss: 3763.7969 - mae: 3763.7969\n",
      "Epoch 141/1000\n",
      "34/34 [==============================] - 0s 997us/step - loss: 3764.0774 - mae: 3764.0774\n",
      "Epoch 142/1000\n",
      "34/34 [==============================] - 0s 967us/step - loss: 3766.0767 - mae: 3766.0767\n",
      "Epoch 143/1000\n",
      "34/34 [==============================] - 0s 937us/step - loss: 3754.5298 - mae: 3754.5298\n",
      "Epoch 144/1000\n",
      "34/34 [==============================] - 0s 937us/step - loss: 3751.2498 - mae: 3751.2498\n",
      "Epoch 145/1000\n",
      "34/34 [==============================] - 0s 937us/step - loss: 3751.3569 - mae: 3751.3569\n",
      "Epoch 146/1000\n",
      "34/34 [==============================] - 0s 967us/step - loss: 3754.3286 - mae: 3754.3286\n",
      "Epoch 147/1000\n",
      "34/34 [==============================] - 0s 937us/step - loss: 3753.1897 - mae: 3753.1897\n",
      "Epoch 148/1000\n",
      "34/34 [==============================] - 0s 967us/step - loss: 3756.0642 - mae: 3756.0642\n",
      "Epoch 149/1000\n",
      "34/34 [==============================] - 0s 937us/step - loss: 3743.8289 - mae: 3743.8289\n",
      "Epoch 150/1000\n",
      "34/34 [==============================] - 0s 907us/step - loss: 3738.9924 - mae: 3738.9924\n",
      "Epoch 151/1000\n",
      "34/34 [==============================] - 0s 937us/step - loss: 3741.0247 - mae: 3741.0247\n",
      "Epoch 152/1000\n",
      "34/34 [==============================] - 0s 937us/step - loss: 3742.9717 - mae: 3742.9717\n",
      "Epoch 153/1000\n",
      "34/34 [==============================] - 0s 937us/step - loss: 3743.1309 - mae: 3743.1309\n",
      "Epoch 154/1000\n",
      "34/34 [==============================] - 0s 907us/step - loss: 3737.4326 - mae: 3737.4326\n",
      "Epoch 155/1000\n",
      "34/34 [==============================] - 0s 937us/step - loss: 3740.1084 - mae: 3740.1084\n",
      "Epoch 156/1000\n",
      "34/34 [==============================] - 0s 937us/step - loss: 3736.6809 - mae: 3736.6809\n",
      "Epoch 157/1000\n",
      "34/34 [==============================] - 0s 937us/step - loss: 3733.4692 - mae: 3733.4692\n",
      "Epoch 158/1000\n",
      "34/34 [==============================] - 0s 967us/step - loss: 3729.5198 - mae: 3729.5198\n",
      "Epoch 159/1000\n",
      "34/34 [==============================] - 0s 937us/step - loss: 3727.2502 - mae: 3727.2502\n",
      "Epoch 160/1000\n",
      "34/34 [==============================] - 0s 937us/step - loss: 3734.6721 - mae: 3734.6721\n",
      "Epoch 161/1000\n",
      "34/34 [==============================] - 0s 937us/step - loss: 3729.9282 - mae: 3729.9282\n",
      "Epoch 162/1000\n",
      "34/34 [==============================] - 0s 907us/step - loss: 3725.1521 - mae: 3725.1521\n",
      "Epoch 163/1000\n",
      "34/34 [==============================] - 0s 907us/step - loss: 3723.5056 - mae: 3723.5056\n",
      "Epoch 164/1000\n",
      "34/34 [==============================] - 0s 907us/step - loss: 3727.8503 - mae: 3727.8503\n",
      "Epoch 165/1000\n",
      "34/34 [==============================] - 0s 937us/step - loss: 3718.4006 - mae: 3718.4006\n",
      "Epoch 166/1000\n",
      "34/34 [==============================] - 0s 937us/step - loss: 3722.3137 - mae: 3722.3137\n",
      "Epoch 167/1000\n",
      "34/34 [==============================] - 0s 984us/step - loss: 3721.6235 - mae: 3721.6235\n",
      "Epoch 168/1000\n",
      "34/34 [==============================] - 0s 967us/step - loss: 3717.7480 - mae: 3717.7480\n",
      "Epoch 169/1000\n",
      "34/34 [==============================] - 0s 967us/step - loss: 3713.8867 - mae: 3713.8867\n",
      "Epoch 170/1000\n",
      "34/34 [==============================] - 0s 937us/step - loss: 3709.3320 - mae: 3709.3320\n",
      "Epoch 171/1000\n",
      "34/34 [==============================] - 0s 967us/step - loss: 3709.1460 - mae: 3709.1460\n",
      "Epoch 172/1000\n",
      "34/34 [==============================] - 0s 937us/step - loss: 3711.0574 - mae: 3711.0574\n",
      "Epoch 173/1000\n",
      "34/34 [==============================] - 0s 937us/step - loss: 3706.2148 - mae: 3706.2148\n",
      "Epoch 174/1000\n",
      "34/34 [==============================] - 0s 937us/step - loss: 3710.4382 - mae: 3710.4382\n",
      "Epoch 175/1000\n",
      "34/34 [==============================] - 0s 907us/step - loss: 3711.5762 - mae: 3711.5762\n",
      "Epoch 176/1000\n",
      "34/34 [==============================] - 0s 907us/step - loss: 3707.3879 - mae: 3707.3879\n",
      "Epoch 177/1000\n",
      "34/34 [==============================] - 0s 876us/step - loss: 3701.0239 - mae: 3701.0239\n",
      "Epoch 178/1000\n",
      "34/34 [==============================] - 0s 967us/step - loss: 3696.3879 - mae: 3696.3879\n",
      "Epoch 179/1000\n",
      "34/34 [==============================] - 0s 967us/step - loss: 3706.7937 - mae: 3706.7937\n",
      "Epoch 180/1000\n",
      "34/34 [==============================] - 0s 997us/step - loss: 3714.8096 - mae: 3714.8096\n",
      "Epoch 181/1000\n",
      "34/34 [==============================] - 0s 967us/step - loss: 3697.6289 - mae: 3697.6289\n",
      "Epoch 182/1000\n",
      "34/34 [==============================] - 0s 937us/step - loss: 3694.5952 - mae: 3694.5952\n",
      "Epoch 183/1000\n",
      "34/34 [==============================] - 0s 997us/step - loss: 3693.1672 - mae: 3693.1672\n",
      "Epoch 184/1000\n",
      "34/34 [==============================] - 0s 907us/step - loss: 3699.9863 - mae: 3699.9863\n",
      "Epoch 185/1000\n",
      "34/34 [==============================] - 0s 967us/step - loss: 3693.3245 - mae: 3693.3245\n",
      "Epoch 186/1000\n",
      "34/34 [==============================] - 0s 937us/step - loss: 3696.2827 - mae: 3696.2827\n",
      "Epoch 187/1000\n",
      "34/34 [==============================] - 0s 907us/step - loss: 3689.3752 - mae: 3689.3752\n",
      "Epoch 188/1000\n",
      "34/34 [==============================] - 0s 907us/step - loss: 3695.3245 - mae: 3695.3245\n",
      "Epoch 189/1000\n",
      "34/34 [==============================] - 0s 907us/step - loss: 3686.1548 - mae: 3686.1548\n",
      "Epoch 190/1000\n",
      "34/34 [==============================] - 0s 907us/step - loss: 3683.9451 - mae: 3683.9451\n",
      "Epoch 191/1000\n",
      "34/34 [==============================] - 0s 937us/step - loss: 3696.5945 - mae: 3696.5945\n",
      "Epoch 192/1000\n",
      "34/34 [==============================] - 0s 937us/step - loss: 3683.8271 - mae: 3683.8271\n",
      "Epoch 193/1000\n",
      "34/34 [==============================] - 0s 937us/step - loss: 3675.4895 - mae: 3675.4895\n",
      "Epoch 194/1000\n",
      "34/34 [==============================] - 0s 937us/step - loss: 3677.1687 - mae: 3677.1687\n",
      "Epoch 195/1000\n",
      "34/34 [==============================] - 0s 907us/step - loss: 3674.5557 - mae: 3674.5557\n",
      "Epoch 196/1000\n",
      "34/34 [==============================] - 0s 2ms/step - loss: 3683.8552 - mae: 3683.8552\n",
      "Epoch 197/1000\n",
      "34/34 [==============================] - 0s 1ms/step - loss: 3667.8037 - mae: 3667.8037\n",
      "Epoch 198/1000\n",
      "34/34 [==============================] - 0s 967us/step - loss: 3672.8499 - mae: 3672.8499\n",
      "Epoch 199/1000\n",
      "34/34 [==============================] - 0s 1ms/step - loss: 3681.7190 - mae: 3681.7190\n",
      "Epoch 200/1000\n",
      "34/34 [==============================] - 0s 1ms/step - loss: 3669.6072 - mae: 3669.6072\n",
      "Epoch 201/1000\n",
      "34/34 [==============================] - 0s 997us/step - loss: 3667.4209 - mae: 3667.4209\n",
      "Epoch 202/1000\n",
      "34/34 [==============================] - 0s 967us/step - loss: 3667.2246 - mae: 3667.2246\n",
      "Epoch 203/1000\n",
      "34/34 [==============================] - 0s 967us/step - loss: 3666.0947 - mae: 3666.0947\n",
      "Epoch 204/1000\n",
      "34/34 [==============================] - 0s 937us/step - loss: 3656.0999 - mae: 3656.0999\n",
      "Epoch 205/1000\n",
      "34/34 [==============================] - 0s 937us/step - loss: 3664.2139 - mae: 3664.2139\n",
      "Epoch 206/1000\n",
      "34/34 [==============================] - 0s 967us/step - loss: 3660.2981 - mae: 3660.2981\n",
      "Epoch 207/1000\n",
      "34/34 [==============================] - 0s 937us/step - loss: 3658.2832 - mae: 3658.2832\n",
      "Epoch 208/1000\n",
      "34/34 [==============================] - 0s 937us/step - loss: 3656.1814 - mae: 3656.1814\n",
      "Epoch 209/1000\n",
      "34/34 [==============================] - 0s 907us/step - loss: 3655.3254 - mae: 3655.3254\n",
      "Epoch 210/1000\n",
      "34/34 [==============================] - 0s 876us/step - loss: 3659.8337 - mae: 3659.8337\n",
      "Epoch 211/1000\n",
      "34/34 [==============================] - 0s 907us/step - loss: 3657.1716 - mae: 3657.1716\n",
      "Epoch 212/1000\n",
      "34/34 [==============================] - 0s 907us/step - loss: 3673.8818 - mae: 3673.8818\n",
      "Epoch 213/1000\n",
      "34/34 [==============================] - 0s 907us/step - loss: 3659.6987 - mae: 3659.6987\n",
      "Epoch 214/1000\n",
      "34/34 [==============================] - 0s 907us/step - loss: 3680.0901 - mae: 3680.0901\n"
     ]
    }
   ],
   "source": [
    "tf.random.set_seed(42)\n",
    "\n",
    "# 1. Build a model\n",
    "insurance_model_3 = tf.keras.Sequential([\n",
    "    tf.keras.layers.Dense(100),\n",
    "    tf.keras.layers.Dense(10),\n",
    "    tf.keras.layers.Dense(1)\n",
    "])\n",
    "\n",
    "# 2. Compile a model\n",
    "insurance_model_3.compile(loss=tf.keras.losses.mae,\n",
    "                          optimizer=tf.keras.optimizers.Adam(),\n",
    "                          metrics=['mae'])\n",
    "\n",
    "# 3. Fit a model\n",
    "history = insurance_model_3.fit(X_train, y_train, \n",
    "                                epochs=1000, callbacks=tf.keras.callbacks.EarlyStopping(monitor='loss', patience=5),\n",
    "                                verbose=1)"
   ]
  },
  {
   "cell_type": "code",
   "execution_count": 502,
   "metadata": {},
   "outputs": [
    {
     "name": "stdout",
     "output_type": "stream",
     "text": [
      "9/9 [==============================] - 0s 873us/step - loss: 3457.0964 - mae: 3457.0964\n"
     ]
    },
    {
     "data": {
      "text/plain": [
       "[3457.096435546875, 3457.096435546875]"
      ]
     },
     "execution_count": 502,
     "metadata": {},
     "output_type": "execute_result"
    }
   ],
   "source": [
    "# Evaluate the model\n",
    "insurance_model_3.evaluate(X_test, y_test)"
   ]
  },
  {
   "cell_type": "code",
   "execution_count": 503,
   "metadata": {},
   "outputs": [
    {
     "name": "stdout",
     "output_type": "stream",
     "text": [
      "9/9 [==============================] - 0s 1ms/step - loss: 7260.0874 - mae: 7260.0874\n"
     ]
    },
    {
     "data": {
      "text/plain": [
       "[7260.08740234375, 7260.08740234375]"
      ]
     },
     "execution_count": 503,
     "metadata": {},
     "output_type": "execute_result"
    }
   ],
   "source": [
    "# Compare with the first model\n",
    "insurance_model.evaluate(X_test, y_test)"
   ]
  },
  {
   "cell_type": "code",
   "execution_count": 504,
   "metadata": {},
   "outputs": [
    {
     "data": {
      "text/plain": [
       "Text(0.5, 0, 'epochs')"
      ]
     },
     "execution_count": 504,
     "metadata": {},
     "output_type": "execute_result"
    },
    {
     "data": {
      "image/png": "[encoded data removed]",
      "text/plain": [
       "<Figure size 432x288 with 1 Axes>"
      ]
     },
     "metadata": {
      "needs_background": "light"
     },
     "output_type": "display_data"
    }
   ],
   "source": [
    "# Plot history (also known as a loss curve or a training curve)\n",
    "pd.DataFrame(history.history).plot()\n",
    "plt.ylabel('loss')\n",
    "plt.xlabel('epochs')"
   ]
  },
  {
   "cell_type": "markdown",
   "metadata": {},
   "source": [
    "**Question:** How long should you train for?\n",
    "\n",
    "It depends. It really does...on the problem you're working on. However many people have asked this question before...so TensorFlow has a solution!  \n",
    "It's called [EarlyStopping Callback](https://www.tensorflow.org/api_docs/python/tf/keras/callbacks/EarlyStopping), which is a TensorFlow component you can add to your model to stop training once it stops improving a certain metric."
   ]
  },
  {
   "cell_type": "markdown",
   "metadata": {},
   "source": [
    "### **Preprocessing data (normalization and standarization)**"
   ]
  },
  {
   "cell_type": "markdown",
   "metadata": {},
   "source": [
    "In terms of scaling values, **neural networks tend to prefer normalization**.\n",
    "\n",
    "If you're not sure on which to use, you can try both and see which performs better."
   ]
  },
  {
   "cell_type": "code",
   "execution_count": 505,
   "metadata": {},
   "outputs": [
    {
     "data": {
      "text/html": [
       "<div>\n",
       "<style scoped>\n",
       "    .dataframe tbody tr th:only-of-type {\n",
       "        vertical-align: middle;\n",
       "    }\n",
       "\n",
       "    .dataframe tbody tr th {\n",
       "        vertical-align: top;\n",
       "    }\n",
       "\n",
       "    .dataframe thead th {\n",
       "        text-align: right;\n",
       "    }\n",
       "</style>\n",
       "<table border=\"1\" class=\"dataframe\">\n",
       "  <thead>\n",
       "    <tr style=\"text-align: right;\">\n",
       "      <th></th>\n",
       "      <th>age</th>\n",
       "      <th>sex</th>\n",
       "      <th>bmi</th>\n",
       "      <th>children</th>\n",
       "      <th>smoker</th>\n",
       "      <th>region</th>\n",
       "      <th>charges</th>\n",
       "    </tr>\n",
       "  </thead>\n",
       "  <tbody>\n",
       "    <tr>\n",
       "      <th>0</th>\n",
       "      <td>19</td>\n",
       "      <td>female</td>\n",
       "      <td>27.900</td>\n",
       "      <td>0</td>\n",
       "      <td>yes</td>\n",
       "      <td>southwest</td>\n",
       "      <td>16884.92400</td>\n",
       "    </tr>\n",
       "    <tr>\n",
       "      <th>1</th>\n",
       "      <td>18</td>\n",
       "      <td>male</td>\n",
       "      <td>33.770</td>\n",
       "      <td>1</td>\n",
       "      <td>no</td>\n",
       "      <td>southeast</td>\n",
       "      <td>1725.55230</td>\n",
       "    </tr>\n",
       "    <tr>\n",
       "      <th>2</th>\n",
       "      <td>28</td>\n",
       "      <td>male</td>\n",
       "      <td>33.000</td>\n",
       "      <td>3</td>\n",
       "      <td>no</td>\n",
       "      <td>southeast</td>\n",
       "      <td>4449.46200</td>\n",
       "    </tr>\n",
       "    <tr>\n",
       "      <th>3</th>\n",
       "      <td>33</td>\n",
       "      <td>male</td>\n",
       "      <td>22.705</td>\n",
       "      <td>0</td>\n",
       "      <td>no</td>\n",
       "      <td>northwest</td>\n",
       "      <td>21984.47061</td>\n",
       "    </tr>\n",
       "    <tr>\n",
       "      <th>4</th>\n",
       "      <td>32</td>\n",
       "      <td>male</td>\n",
       "      <td>28.880</td>\n",
       "      <td>0</td>\n",
       "      <td>no</td>\n",
       "      <td>northwest</td>\n",
       "      <td>3866.85520</td>\n",
       "    </tr>\n",
       "    <tr>\n",
       "      <th>...</th>\n",
       "      <td>...</td>\n",
       "      <td>...</td>\n",
       "      <td>...</td>\n",
       "      <td>...</td>\n",
       "      <td>...</td>\n",
       "      <td>...</td>\n",
       "      <td>...</td>\n",
       "    </tr>\n",
       "    <tr>\n",
       "      <th>1333</th>\n",
       "      <td>50</td>\n",
       "      <td>male</td>\n",
       "      <td>30.970</td>\n",
       "      <td>3</td>\n",
       "      <td>no</td>\n",
       "      <td>northwest</td>\n",
       "      <td>10600.54830</td>\n",
       "    </tr>\n",
       "    <tr>\n",
       "      <th>1334</th>\n",
       "      <td>18</td>\n",
       "      <td>female</td>\n",
       "      <td>31.920</td>\n",
       "      <td>0</td>\n",
       "      <td>no</td>\n",
       "      <td>northeast</td>\n",
       "      <td>2205.98080</td>\n",
       "    </tr>\n",
       "    <tr>\n",
       "      <th>1335</th>\n",
       "      <td>18</td>\n",
       "      <td>female</td>\n",
       "      <td>36.850</td>\n",
       "      <td>0</td>\n",
       "      <td>no</td>\n",
       "      <td>southeast</td>\n",
       "      <td>1629.83350</td>\n",
       "    </tr>\n",
       "    <tr>\n",
       "      <th>1336</th>\n",
       "      <td>21</td>\n",
       "      <td>female</td>\n",
       "      <td>25.800</td>\n",
       "      <td>0</td>\n",
       "      <td>no</td>\n",
       "      <td>southwest</td>\n",
       "      <td>2007.94500</td>\n",
       "    </tr>\n",
       "    <tr>\n",
       "      <th>1337</th>\n",
       "      <td>61</td>\n",
       "      <td>female</td>\n",
       "      <td>29.070</td>\n",
       "      <td>0</td>\n",
       "      <td>yes</td>\n",
       "      <td>northwest</td>\n",
       "      <td>29141.36030</td>\n",
       "    </tr>\n",
       "  </tbody>\n",
       "</table>\n",
       "<p>1338 rows × 7 columns</p>\n",
       "</div>"
      ],
      "text/plain": [
       "      age     sex     bmi  children smoker     region      charges\n",
       "0      19  female  27.900         0    yes  southwest  16884.92400\n",
       "1      18    male  33.770         1     no  southeast   1725.55230\n",
       "2      28    male  33.000         3     no  southeast   4449.46200\n",
       "3      33    male  22.705         0     no  northwest  21984.47061\n",
       "4      32    male  28.880         0     no  northwest   3866.85520\n",
       "...   ...     ...     ...       ...    ...        ...          ...\n",
       "1333   50    male  30.970         3     no  northwest  10600.54830\n",
       "1334   18  female  31.920         0     no  northeast   2205.98080\n",
       "1335   18  female  36.850         0     no  southeast   1629.83350\n",
       "1336   21  female  25.800         0     no  southwest   2007.94500\n",
       "1337   61  female  29.070         0    yes  northwest  29141.36030\n",
       "\n",
       "[1338 rows x 7 columns]"
      ]
     },
     "execution_count": 505,
     "metadata": {},
     "output_type": "execute_result"
    }
   ],
   "source": [
    "import pandas as pd\n",
    "import matplotlib.pyplot as plt\n",
    "import tensorflow as tf\n",
    "\n",
    "# Read the insurance dataframe\n",
    "insurance = pd.read_csv('https://raw.githubusercontent.com/stedy/Machine-Learning-with-R-datasets/master/insurance.csv')\n",
    "insurance"
   ]
  },
  {
   "cell_type": "markdown",
   "metadata": {},
   "source": [
    "To prepare our data, we can borrow a few classes for Sckit-Learn."
   ]
  },
  {
   "cell_type": "code",
   "execution_count": 506,
   "metadata": {},
   "outputs": [],
   "source": [
    "from sklearn.compose import make_column_transformer\n",
    "from sklearn.preprocessing import MinMaxScaler, OneHotEncoder\n",
    "from sklearn.model_selection import train_test_split\n",
    "\n",
    "# Create a column transformer\n",
    "ct = make_column_transformer(\n",
    "    (MinMaxScaler(), ['age', 'bmi', 'children']), # turn these columns to be between 0 and 1\n",
    "    (OneHotEncoder(handle_unknown='ignore'), ['sex', 'smoker', 'region'])\n",
    ")\n",
    "\n",
    "# Create X & y values\n",
    "X = insurance.drop(columns='charges')\n",
    "y = insurance['charges']\n",
    "\n",
    "# Build our train and test sets\n",
    "X_train, X_test, y_train, y_test = train_test_split(X, y, test_size=0.2, random_state=42)\n",
    "\n",
    "# Fit the column transformer to our training data\n",
    "ct.fit(X_train)\n",
    "\n",
    "# Transform training and test data with normalization (MinMaxScaler) and OneHotEncoder\n",
    "X_train_normal = ct.transform(X_train)\n",
    "X_test_normal = ct.transform(X_test)"
   ]
  },
  {
   "cell_type": "code",
   "execution_count": 507,
   "metadata": {},
   "outputs": [
    {
     "data": {
      "text/plain": [
       "age                19\n",
       "sex            female\n",
       "bmi              27.9\n",
       "children            0\n",
       "smoker            yes\n",
       "region      southwest\n",
       "Name: 0, dtype: object"
      ]
     },
     "execution_count": 507,
     "metadata": {},
     "output_type": "execute_result"
    }
   ],
   "source": [
    "# What our data looked like in the beggining?\n",
    "X_train.loc[0]"
   ]
  },
  {
   "cell_type": "code",
   "execution_count": 508,
   "metadata": {},
   "outputs": [
    {
     "data": {
      "text/plain": [
       "array([0.60869565, 0.10734463, 0.4       , 1.        , 0.        ,\n",
       "       1.        , 0.        , 0.        , 1.        , 0.        ,\n",
       "       0.        ])"
      ]
     },
     "execution_count": 508,
     "metadata": {},
     "output_type": "execute_result"
    }
   ],
   "source": [
    "# What dose our data looks like now?\n",
    "X_train_normal[0]"
   ]
  },
  {
   "cell_type": "code",
   "execution_count": 509,
   "metadata": {},
   "outputs": [
    {
     "data": {
      "text/plain": [
       "((1070, 6), (1070, 11))"
      ]
     },
     "execution_count": 509,
     "metadata": {},
     "output_type": "execute_result"
    }
   ],
   "source": [
    "X_train.shape, X_train_normal.shape"
   ]
  },
  {
   "cell_type": "markdown",
   "metadata": {},
   "source": [
    "Beautiful! Our data has been normalized and one hot encoded.  \n",
    "Now let's build a neural network model on it and see how it goes."
   ]
  },
  {
   "cell_type": "code",
   "execution_count": 563,
   "metadata": {},
   "outputs": [
    {
     "name": "stdout",
     "output_type": "stream",
     "text": [
      "Epoch 1/1000\n",
      "34/34 [==============================] - 0s 997us/step - loss: 13344.0596 - mae: 13344.0596\n",
      "Epoch 2/1000\n",
      "34/34 [==============================] - 0s 1ms/step - loss: 13337.8457 - mae: 13337.8457\n",
      "Epoch 3/1000\n",
      "34/34 [==============================] - 0s 907us/step - loss: 13321.6250 - mae: 13321.6250\n",
      "Epoch 4/1000\n",
      "34/34 [==============================] - 0s 1ms/step - loss: 13286.5186 - mae: 13286.5186\n",
      "Epoch 5/1000\n",
      "34/34 [==============================] - 0s 1ms/step - loss: 13222.6016 - mae: 13222.6016\n",
      "Epoch 6/1000\n",
      "34/34 [==============================] - 0s 937us/step - loss: 13120.4033 - mae: 13120.4033\n",
      "Epoch 7/1000\n",
      "34/34 [==============================] - 0s 2ms/step - loss: 12970.8838 - mae: 12970.8838\n",
      "Epoch 8/1000\n",
      "34/34 [==============================] - 0s 1ms/step - loss: 12764.1133 - mae: 12764.1133\n",
      "Epoch 9/1000\n",
      "34/34 [==============================] - 0s 1ms/step - loss: 12490.0820 - mae: 12490.0820\n",
      "Epoch 10/1000\n",
      "34/34 [==============================] - 0s 997us/step - loss: 12141.5742 - mae: 12141.5742\n",
      "Epoch 11/1000\n",
      "34/34 [==============================] - 0s 1ms/step - loss: 11721.8203 - mae: 11721.8203\n",
      "Epoch 12/1000\n",
      "34/34 [==============================] - 0s 937us/step - loss: 11243.5186 - mae: 11243.5186\n",
      "Epoch 13/1000\n",
      "34/34 [==============================] - 0s 2ms/step - loss: 10760.2451 - mae: 10760.2451\n",
      "Epoch 14/1000\n",
      "34/34 [==============================] - 0s 1ms/step - loss: 10280.0371 - mae: 10280.0371\n",
      "Epoch 15/1000\n",
      "34/34 [==============================] - 0s 997us/step - loss: 9814.3232 - mae: 9814.3232\n",
      "Epoch 16/1000\n",
      "34/34 [==============================] - 0s 1ms/step - loss: 9372.0693 - mae: 9372.0693\n",
      "Epoch 17/1000\n",
      "34/34 [==============================] - 0s 1ms/step - loss: 8990.7334 - mae: 8990.7334\n",
      "Epoch 18/1000\n",
      "34/34 [==============================] - 0s 937us/step - loss: 8672.3135 - mae: 8672.3135\n",
      "Epoch 19/1000\n",
      "34/34 [==============================] - 0s 1ms/step - loss: 8410.3281 - mae: 8410.3281\n",
      "Epoch 20/1000\n",
      "34/34 [==============================] - 0s 937us/step - loss: 8218.8936 - mae: 8218.8936\n",
      "Epoch 21/1000\n",
      "34/34 [==============================] - 0s 1ms/step - loss: 8075.3672 - mae: 8075.3672\n",
      "Epoch 22/1000\n",
      "34/34 [==============================] - 0s 967us/step - loss: 7977.6851 - mae: 7977.6851\n",
      "Epoch 23/1000\n",
      "34/34 [==============================] - 0s 1ms/step - loss: 7903.2495 - mae: 7903.2495\n",
      "Epoch 24/1000\n",
      "34/34 [==============================] - 0s 937us/step - loss: 7843.0161 - mae: 7843.0161\n",
      "Epoch 25/1000\n",
      "34/34 [==============================] - 0s 1ms/step - loss: 7800.7637 - mae: 7800.7637\n",
      "Epoch 26/1000\n",
      "34/34 [==============================] - 0s 877us/step - loss: 7748.6240 - mae: 7748.6240\n",
      "Epoch 27/1000\n",
      "34/34 [==============================] - 0s 1ms/step - loss: 7706.6689 - mae: 7706.6689\n",
      "Epoch 28/1000\n",
      "34/34 [==============================] - 0s 1ms/step - loss: 7664.5898 - mae: 7664.5898\n",
      "Epoch 29/1000\n",
      "34/34 [==============================] - 0s 1ms/step - loss: 7623.0762 - mae: 7623.0762\n",
      "Epoch 30/1000\n",
      "34/34 [==============================] - 0s 967us/step - loss: 7581.9932 - mae: 7581.9932\n",
      "Epoch 31/1000\n",
      "34/34 [==============================] - 0s 1ms/step - loss: 7540.2363 - mae: 7540.2363\n",
      "Epoch 32/1000\n",
      "34/34 [==============================] - 0s 876us/step - loss: 7498.5811 - mae: 7498.5811\n",
      "Epoch 33/1000\n",
      "34/34 [==============================] - 0s 1ms/step - loss: 7456.9189 - mae: 7456.9189\n",
      "Epoch 34/1000\n",
      "34/34 [==============================] - 0s 1ms/step - loss: 7411.7314 - mae: 7411.7314\n",
      "Epoch 35/1000\n",
      "34/34 [==============================] - 0s 997us/step - loss: 7368.0596 - mae: 7368.0596\n",
      "Epoch 36/1000\n",
      "34/34 [==============================] - 0s 907us/step - loss: 7321.5225 - mae: 7321.5225\n",
      "Epoch 37/1000\n",
      "34/34 [==============================] - 0s 1ms/step - loss: 7274.8999 - mae: 7274.8999\n",
      "Epoch 38/1000\n",
      "34/34 [==============================] - 0s 907us/step - loss: 7227.5649 - mae: 7227.5649\n",
      "Epoch 39/1000\n",
      "34/34 [==============================] - 0s 997us/step - loss: 7176.8945 - mae: 7176.8945\n",
      "Epoch 40/1000\n",
      "34/34 [==============================] - 0s 1ms/step - loss: 7126.0298 - mae: 7126.0298\n",
      "Epoch 41/1000\n",
      "34/34 [==============================] - 0s 1ms/step - loss: 7074.2793 - mae: 7074.2793\n",
      "Epoch 42/1000\n",
      "34/34 [==============================] - 0s 846us/step - loss: 7020.2378 - mae: 7020.2378\n",
      "Epoch 43/1000\n",
      "34/34 [==============================] - 0s 967us/step - loss: 6963.4585 - mae: 6963.4585\n",
      "Epoch 44/1000\n",
      "34/34 [==============================] - 0s 950us/step - loss: 6903.6860 - mae: 6903.6860\n",
      "Epoch 45/1000\n",
      "34/34 [==============================] - 0s 1ms/step - loss: 6843.1167 - mae: 6843.1167\n",
      "Epoch 46/1000\n",
      "34/34 [==============================] - 0s 1ms/step - loss: 6780.1802 - mae: 6780.1802\n",
      "Epoch 47/1000\n",
      "34/34 [==============================] - 0s 876us/step - loss: 6715.4961 - mae: 6715.4961\n",
      "Epoch 48/1000\n",
      "34/34 [==============================] - 0s 1ms/step - loss: 6643.8208 - mae: 6643.8208\n",
      "Epoch 49/1000\n",
      "34/34 [==============================] - 0s 967us/step - loss: 6572.0854 - mae: 6572.0854\n",
      "Epoch 50/1000\n",
      "34/34 [==============================] - 0s 967us/step - loss: 6493.6157 - mae: 6493.6157\n",
      "Epoch 51/1000\n",
      "34/34 [==============================] - 0s 876us/step - loss: 6417.5293 - mae: 6417.5293\n",
      "Epoch 52/1000\n",
      "34/34 [==============================] - 0s 1ms/step - loss: 6332.9312 - mae: 6332.9312\n",
      "Epoch 53/1000\n",
      "34/34 [==============================] - 0s 907us/step - loss: 6245.9785 - mae: 6245.9785\n",
      "Epoch 54/1000\n",
      "34/34 [==============================] - 0s 1ms/step - loss: 6156.6724 - mae: 6156.6724\n",
      "Epoch 55/1000\n",
      "34/34 [==============================] - 0s 937us/step - loss: 6058.9707 - mae: 6058.9707\n",
      "Epoch 56/1000\n",
      "34/34 [==============================] - 0s 997us/step - loss: 5959.9653 - mae: 5959.9653\n",
      "Epoch 57/1000\n",
      "34/34 [==============================] - 0s 846us/step - loss: 5855.0352 - mae: 5855.0352\n",
      "Epoch 58/1000\n",
      "34/34 [==============================] - 0s 1ms/step - loss: 5744.4419 - mae: 5744.4419\n",
      "Epoch 59/1000\n",
      "34/34 [==============================] - 0s 1ms/step - loss: 5630.1509 - mae: 5630.1509\n",
      "Epoch 60/1000\n",
      "34/34 [==============================] - 0s 2ms/step - loss: 5517.1880 - mae: 5517.1880\n",
      "Epoch 61/1000\n",
      "34/34 [==============================] - 0s 1ms/step - loss: 5398.9771 - mae: 5398.9771\n",
      "Epoch 62/1000\n",
      "34/34 [==============================] - 0s 1ms/step - loss: 5276.0425 - mae: 5276.0425\n",
      "Epoch 63/1000\n",
      "34/34 [==============================] - 0s 1ms/step - loss: 5155.4287 - mae: 5155.4287\n",
      "Epoch 64/1000\n",
      "34/34 [==============================] - 0s 1ms/step - loss: 5029.8091 - mae: 5029.8091\n",
      "Epoch 65/1000\n",
      "34/34 [==============================] - 0s 1ms/step - loss: 4905.2017 - mae: 4905.2017\n",
      "Epoch 66/1000\n",
      "34/34 [==============================] - 0s 1ms/step - loss: 4776.5898 - mae: 4776.5898\n",
      "Epoch 67/1000\n",
      "34/34 [==============================] - 0s 1ms/step - loss: 4653.4878 - mae: 4653.4878\n",
      "Epoch 68/1000\n",
      "34/34 [==============================] - 0s 1ms/step - loss: 4531.3037 - mae: 4531.3037\n",
      "Epoch 69/1000\n",
      "34/34 [==============================] - 0s 876us/step - loss: 4421.4399 - mae: 4421.4399\n",
      "Epoch 70/1000\n",
      "34/34 [==============================] - 0s 1ms/step - loss: 4318.8413 - mae: 4318.8413\n",
      "Epoch 71/1000\n",
      "34/34 [==============================] - 0s 1ms/step - loss: 4220.8989 - mae: 4220.8989\n",
      "Epoch 72/1000\n",
      "34/34 [==============================] - 0s 1ms/step - loss: 4130.4966 - mae: 4130.4966\n",
      "Epoch 73/1000\n",
      "34/34 [==============================] - 0s 1ms/step - loss: 4046.0234 - mae: 4046.0234\n",
      "Epoch 74/1000\n",
      "34/34 [==============================] - 0s 1ms/step - loss: 3970.0159 - mae: 3970.0159\n",
      "Epoch 75/1000\n",
      "34/34 [==============================] - 0s 997us/step - loss: 3904.3657 - mae: 3904.3657\n",
      "Epoch 76/1000\n",
      "34/34 [==============================] - 0s 1ms/step - loss: 3849.5654 - mae: 3849.5654\n",
      "Epoch 77/1000\n",
      "34/34 [==============================] - 0s 937us/step - loss: 3799.8716 - mae: 3799.8716\n",
      "Epoch 78/1000\n",
      "34/34 [==============================] - 0s 997us/step - loss: 3762.2412 - mae: 3762.2412\n",
      "Epoch 79/1000\n",
      "34/34 [==============================] - 0s 1ms/step - loss: 3732.6265 - mae: 3732.6265\n",
      "Epoch 80/1000\n",
      "34/34 [==============================] - 0s 846us/step - loss: 3708.5952 - mae: 3708.5952\n",
      "Epoch 81/1000\n",
      "34/34 [==============================] - 0s 1ms/step - loss: 3691.1287 - mae: 3691.1287\n",
      "Epoch 82/1000\n",
      "34/34 [==============================] - 0s 876us/step - loss: 3678.2803 - mae: 3678.2803\n",
      "Epoch 83/1000\n",
      "34/34 [==============================] - 0s 1ms/step - loss: 3665.2854 - mae: 3665.2854\n",
      "Epoch 84/1000\n",
      "34/34 [==============================] - 0s 876us/step - loss: 3654.3433 - mae: 3654.3433\n",
      "Epoch 85/1000\n",
      "34/34 [==============================] - 0s 1ms/step - loss: 3646.6428 - mae: 3646.6428\n",
      "Epoch 86/1000\n",
      "34/34 [==============================] - 0s 1ms/step - loss: 3637.2510 - mae: 3637.2510\n",
      "Epoch 87/1000\n",
      "34/34 [==============================] - 0s 1ms/step - loss: 3629.4236 - mae: 3629.4236\n",
      "Epoch 88/1000\n",
      "34/34 [==============================] - 0s 907us/step - loss: 3621.9048 - mae: 3621.9048\n",
      "Epoch 89/1000\n",
      "34/34 [==============================] - 0s 1ms/step - loss: 3615.3271 - mae: 3615.3271\n",
      "Epoch 90/1000\n",
      "34/34 [==============================] - 0s 937us/step - loss: 3608.9863 - mae: 3608.9863\n",
      "Epoch 91/1000\n",
      "34/34 [==============================] - 0s 1ms/step - loss: 3602.1899 - mae: 3602.1899\n",
      "Epoch 92/1000\n",
      "34/34 [==============================] - 0s 1ms/step - loss: 3596.4578 - mae: 3596.4578\n",
      "Epoch 93/1000\n",
      "34/34 [==============================] - 0s 876us/step - loss: 3589.9468 - mae: 3589.9468\n",
      "Epoch 94/1000\n",
      "34/34 [==============================] - 0s 1ms/step - loss: 3583.9592 - mae: 3583.9592\n",
      "Epoch 95/1000\n",
      "34/34 [==============================] - 0s 967us/step - loss: 3578.6301 - mae: 3578.6301\n",
      "Epoch 96/1000\n",
      "34/34 [==============================] - 0s 1ms/step - loss: 3574.0911 - mae: 3574.0911\n",
      "Epoch 97/1000\n",
      "34/34 [==============================] - 0s 846us/step - loss: 3566.9458 - mae: 3566.9458\n",
      "Epoch 98/1000\n",
      "34/34 [==============================] - 0s 1ms/step - loss: 3560.4443 - mae: 3560.4443\n",
      "Epoch 99/1000\n",
      "34/34 [==============================] - 0s 907us/step - loss: 3554.7419 - mae: 3554.7419\n",
      "Epoch 100/1000\n",
      "34/34 [==============================] - 0s 1ms/step - loss: 3547.9363 - mae: 3547.9363\n",
      "Epoch 101/1000\n",
      "34/34 [==============================] - 0s 967us/step - loss: 3541.4692 - mae: 3541.4692\n",
      "Epoch 102/1000\n",
      "34/34 [==============================] - 0s 1ms/step - loss: 3534.7275 - mae: 3534.7275\n",
      "Epoch 103/1000\n",
      "34/34 [==============================] - 0s 967us/step - loss: 3527.9868 - mae: 3527.9868\n",
      "Epoch 104/1000\n",
      "34/34 [==============================] - 0s 937us/step - loss: 3520.7578 - mae: 3520.7578\n",
      "Epoch 105/1000\n",
      "34/34 [==============================] - 0s 1ms/step - loss: 3514.2737 - mae: 3514.2737\n",
      "Epoch 106/1000\n",
      "34/34 [==============================] - 0s 907us/step - loss: 3507.9458 - mae: 3507.9458\n",
      "Epoch 107/1000\n",
      "34/34 [==============================] - 0s 1ms/step - loss: 3500.1025 - mae: 3500.1025\n",
      "Epoch 108/1000\n",
      "34/34 [==============================] - 0s 997us/step - loss: 3494.5735 - mae: 3494.5735\n",
      "Epoch 109/1000\n",
      "34/34 [==============================] - 0s 937us/step - loss: 3488.6912 - mae: 3488.6912\n",
      "Epoch 110/1000\n",
      "34/34 [==============================] - 0s 1ms/step - loss: 3479.6213 - mae: 3479.6213\n",
      "Epoch 111/1000\n",
      "34/34 [==============================] - 0s 967us/step - loss: 3473.0571 - mae: 3473.0571\n",
      "Epoch 112/1000\n",
      "34/34 [==============================] - 0s 1ms/step - loss: 3464.7217 - mae: 3464.7217\n",
      "Epoch 113/1000\n",
      "34/34 [==============================] - 0s 905us/step - loss: 3458.0188 - mae: 3458.0188\n",
      "Epoch 114/1000\n",
      "34/34 [==============================] - 0s 1ms/step - loss: 3451.0798 - mae: 3451.0798\n",
      "Epoch 115/1000\n",
      "34/34 [==============================] - 0s 876us/step - loss: 3443.9829 - mae: 3443.9829\n",
      "Epoch 116/1000\n",
      "34/34 [==============================] - 0s 1ms/step - loss: 3436.2520 - mae: 3436.2520\n",
      "Epoch 117/1000\n",
      "34/34 [==============================] - 0s 997us/step - loss: 3429.8191 - mae: 3429.8191\n",
      "Epoch 118/1000\n",
      "34/34 [==============================] - 0s 1ms/step - loss: 3420.0110 - mae: 3420.0110\n",
      "Epoch 119/1000\n",
      "34/34 [==============================] - 0s 846us/step - loss: 3416.0522 - mae: 3416.0522\n",
      "Epoch 120/1000\n",
      "34/34 [==============================] - 0s 1ms/step - loss: 3406.6899 - mae: 3406.6899\n",
      "Epoch 121/1000\n",
      "34/34 [==============================] - 0s 907us/step - loss: 3400.2302 - mae: 3400.2302\n",
      "Epoch 122/1000\n",
      "34/34 [==============================] - 0s 1ms/step - loss: 3394.7017 - mae: 3394.7017\n",
      "Epoch 123/1000\n",
      "34/34 [==============================] - 0s 937us/step - loss: 3387.8066 - mae: 3387.8066\n",
      "Epoch 124/1000\n",
      "34/34 [==============================] - 0s 1ms/step - loss: 3381.1648 - mae: 3381.1648\n",
      "Epoch 125/1000\n",
      "34/34 [==============================] - 0s 876us/step - loss: 3374.4863 - mae: 3374.4863\n",
      "Epoch 126/1000\n",
      "34/34 [==============================] - 0s 2ms/step - loss: 3368.6321 - mae: 3368.6321\n",
      "Epoch 127/1000\n",
      "34/34 [==============================] - 0s 1ms/step - loss: 3366.6489 - mae: 3366.6489\n",
      "Epoch 128/1000\n",
      "34/34 [==============================] - 0s 1ms/step - loss: 3357.7344 - mae: 3357.7344\n",
      "Epoch 129/1000\n",
      "34/34 [==============================] - 0s 937us/step - loss: 3355.9587 - mae: 3355.9587\n",
      "Epoch 130/1000\n",
      "34/34 [==============================] - 0s 1ms/step - loss: 3345.2673 - mae: 3345.2673\n",
      "Epoch 131/1000\n",
      "34/34 [==============================] - 0s 876us/step - loss: 3340.7222 - mae: 3340.7222\n",
      "Epoch 132/1000\n",
      "34/34 [==============================] - 0s 1ms/step - loss: 3334.1099 - mae: 3334.1099\n",
      "Epoch 133/1000\n",
      "34/34 [==============================] - 0s 876us/step - loss: 3328.4727 - mae: 3328.4727\n",
      "Epoch 134/1000\n",
      "34/34 [==============================] - 0s 1ms/step - loss: 3324.9556 - mae: 3324.9556\n",
      "Epoch 135/1000\n",
      "34/34 [==============================] - 0s 937us/step - loss: 3319.7756 - mae: 3319.7756\n",
      "Epoch 136/1000\n",
      "34/34 [==============================] - 0s 1ms/step - loss: 3314.4597 - mae: 3314.4597\n",
      "Epoch 137/1000\n",
      "34/34 [==============================] - 0s 937us/step - loss: 3311.3005 - mae: 3311.3005\n",
      "Epoch 138/1000\n",
      "34/34 [==============================] - 0s 1ms/step - loss: 3307.5244 - mae: 3307.5244\n",
      "Epoch 139/1000\n",
      "34/34 [==============================] - 0s 876us/step - loss: 3302.5999 - mae: 3302.5999\n",
      "Epoch 140/1000\n",
      "34/34 [==============================] - 0s 1ms/step - loss: 3299.3875 - mae: 3299.3875\n",
      "Epoch 141/1000\n",
      "34/34 [==============================] - 0s 1ms/step - loss: 3296.8533 - mae: 3296.8533\n",
      "Epoch 142/1000\n",
      "34/34 [==============================] - 0s 907us/step - loss: 3292.5569 - mae: 3292.5569\n",
      "Epoch 143/1000\n",
      "34/34 [==============================] - 0s 1ms/step - loss: 3289.5969 - mae: 3289.5969\n",
      "Epoch 144/1000\n",
      "34/34 [==============================] - 0s 876us/step - loss: 3283.4646 - mae: 3283.4646\n",
      "Epoch 145/1000\n",
      "34/34 [==============================] - 0s 1ms/step - loss: 3281.4160 - mae: 3281.4160\n",
      "Epoch 146/1000\n",
      "34/34 [==============================] - 0s 937us/step - loss: 3277.5354 - mae: 3277.5354\n",
      "Epoch 147/1000\n",
      "34/34 [==============================] - 0s 2ms/step - loss: 3273.0181 - mae: 3273.0181\n",
      "Epoch 148/1000\n",
      "34/34 [==============================] - 0s 2ms/step - loss: 3271.5959 - mae: 3271.5959\n",
      "Epoch 149/1000\n",
      "34/34 [==============================] - 0s 1ms/step - loss: 3266.4016 - mae: 3266.4016\n",
      "Epoch 150/1000\n",
      "34/34 [==============================] - 0s 1ms/step - loss: 3262.4841 - mae: 3262.4841\n",
      "Epoch 151/1000\n",
      "34/34 [==============================] - 0s 1ms/step - loss: 3258.9797 - mae: 3258.9797\n",
      "Epoch 152/1000\n",
      "34/34 [==============================] - 0s 1ms/step - loss: 3257.3093 - mae: 3257.3093\n",
      "Epoch 153/1000\n",
      "34/34 [==============================] - 0s 1ms/step - loss: 3253.7600 - mae: 3253.7600\n",
      "Epoch 154/1000\n",
      "34/34 [==============================] - 0s 1ms/step - loss: 3251.5508 - mae: 3251.5508\n",
      "Epoch 155/1000\n",
      "34/34 [==============================] - 0s 1ms/step - loss: 3248.8223 - mae: 3248.8223\n",
      "Epoch 156/1000\n",
      "34/34 [==============================] - 0s 1ms/step - loss: 3246.8608 - mae: 3246.8608\n",
      "Epoch 157/1000\n",
      "34/34 [==============================] - 0s 1ms/step - loss: 3244.6648 - mae: 3244.6648\n",
      "Epoch 158/1000\n",
      "34/34 [==============================] - 0s 1ms/step - loss: 3240.0410 - mae: 3240.0410\n",
      "Epoch 159/1000\n",
      "34/34 [==============================] - 0s 1ms/step - loss: 3237.1846 - mae: 3237.1846\n",
      "Epoch 160/1000\n",
      "34/34 [==============================] - 0s 967us/step - loss: 3236.1562 - mae: 3236.1562\n",
      "Epoch 161/1000\n",
      "34/34 [==============================] - 0s 1ms/step - loss: 3231.8855 - mae: 3231.8855\n",
      "Epoch 162/1000\n",
      "34/34 [==============================] - 0s 1ms/step - loss: 3230.8064 - mae: 3230.8064\n",
      "Epoch 163/1000\n",
      "34/34 [==============================] - 0s 876us/step - loss: 3228.2864 - mae: 3228.2864\n",
      "Epoch 164/1000\n",
      "34/34 [==============================] - 0s 1ms/step - loss: 3224.3564 - mae: 3224.3564\n",
      "Epoch 165/1000\n",
      "34/34 [==============================] - 0s 937us/step - loss: 3223.2966 - mae: 3223.2966\n",
      "Epoch 166/1000\n",
      "34/34 [==============================] - 0s 997us/step - loss: 3221.5876 - mae: 3221.5876\n",
      "Epoch 167/1000\n",
      "34/34 [==============================] - 0s 1ms/step - loss: 3219.0256 - mae: 3219.0256\n",
      "Epoch 168/1000\n",
      "34/34 [==============================] - 0s 907us/step - loss: 3216.7673 - mae: 3216.7673\n",
      "Epoch 169/1000\n",
      "34/34 [==============================] - 0s 1ms/step - loss: 3216.6130 - mae: 3216.6130\n",
      "Epoch 170/1000\n",
      "34/34 [==============================] - 0s 997us/step - loss: 3215.5896 - mae: 3215.5896\n",
      "Epoch 171/1000\n",
      "34/34 [==============================] - 0s 1ms/step - loss: 3214.0640 - mae: 3214.0640\n",
      "Epoch 172/1000\n",
      "34/34 [==============================] - 0s 937us/step - loss: 3212.2593 - mae: 3212.2593\n",
      "Epoch 173/1000\n",
      "34/34 [==============================] - 0s 1ms/step - loss: 3211.2532 - mae: 3211.2532\n",
      "Epoch 174/1000\n",
      "34/34 [==============================] - 0s 937us/step - loss: 3209.8442 - mae: 3209.8442\n",
      "Epoch 175/1000\n",
      "34/34 [==============================] - 0s 937us/step - loss: 3208.7578 - mae: 3208.7578\n",
      "Epoch 176/1000\n",
      "34/34 [==============================] - 0s 1ms/step - loss: 3211.0840 - mae: 3211.0840\n",
      "Epoch 177/1000\n",
      "34/34 [==============================] - 0s 967us/step - loss: 3209.6838 - mae: 3209.6838\n",
      "Epoch 178/1000\n",
      "34/34 [==============================] - 0s 1ms/step - loss: 3207.3618 - mae: 3207.3618\n",
      "Epoch 179/1000\n",
      "34/34 [==============================] - 0s 876us/step - loss: 3207.8396 - mae: 3207.8396\n",
      "Epoch 180/1000\n",
      "34/34 [==============================] - 0s 1ms/step - loss: 3207.9104 - mae: 3207.9104\n",
      "Epoch 181/1000\n",
      "34/34 [==============================] - 0s 966us/step - loss: 3204.2983 - mae: 3204.2983\n",
      "Epoch 182/1000\n",
      "34/34 [==============================] - 0s 1ms/step - loss: 3203.1836 - mae: 3203.1836\n",
      "Epoch 183/1000\n",
      "34/34 [==============================] - 0s 907us/step - loss: 3201.7424 - mae: 3201.7424\n",
      "Epoch 184/1000\n",
      "34/34 [==============================] - 0s 1ms/step - loss: 3200.3909 - mae: 3200.3909\n",
      "Epoch 185/1000\n",
      "34/34 [==============================] - 0s 846us/step - loss: 3199.8733 - mae: 3199.8733\n",
      "Epoch 186/1000\n",
      "34/34 [==============================] - 0s 2ms/step - loss: 3199.6274 - mae: 3199.6274\n",
      "Epoch 187/1000\n",
      "34/34 [==============================] - 0s 1ms/step - loss: 3198.1350 - mae: 3198.1350\n",
      "Epoch 188/1000\n",
      "34/34 [==============================] - 0s 907us/step - loss: 3196.8201 - mae: 3196.8201\n",
      "Epoch 189/1000\n",
      "34/34 [==============================] - 0s 1ms/step - loss: 3196.0828 - mae: 3196.0828\n",
      "Epoch 190/1000\n",
      "34/34 [==============================] - 0s 846us/step - loss: 3196.6782 - mae: 3196.6782\n",
      "Epoch 191/1000\n",
      "34/34 [==============================] - 0s 1ms/step - loss: 3196.3223 - mae: 3196.3223\n",
      "Epoch 192/1000\n",
      "34/34 [==============================] - 0s 907us/step - loss: 3195.7087 - mae: 3195.7087\n",
      "Epoch 193/1000\n",
      "34/34 [==============================] - 0s 1ms/step - loss: 3193.6611 - mae: 3193.6611\n",
      "Epoch 194/1000\n",
      "34/34 [==============================] - 0s 1ms/step - loss: 3192.8030 - mae: 3192.8030\n",
      "Epoch 195/1000\n",
      "34/34 [==============================] - 0s 907us/step - loss: 3192.8396 - mae: 3192.8396\n",
      "Epoch 196/1000\n",
      "34/34 [==============================] - 0s 1ms/step - loss: 3193.3328 - mae: 3193.3328\n",
      "Epoch 197/1000\n",
      "34/34 [==============================] - 0s 907us/step - loss: 3190.7703 - mae: 3190.7703\n",
      "Epoch 198/1000\n",
      "34/34 [==============================] - 0s 997us/step - loss: 3192.2490 - mae: 3192.2490\n",
      "Epoch 199/1000\n",
      "34/34 [==============================] - 0s 974us/step - loss: 3191.0029 - mae: 3191.0029\n",
      "Epoch 200/1000\n",
      "34/34 [==============================] - 0s 1ms/step - loss: 3190.3711 - mae: 3190.3711\n",
      "Epoch 201/1000\n",
      "34/34 [==============================] - 0s 937us/step - loss: 3189.3213 - mae: 3189.3213\n",
      "Epoch 202/1000\n",
      "34/34 [==============================] - 0s 1ms/step - loss: 3188.6780 - mae: 3188.6780\n",
      "Epoch 203/1000\n",
      "34/34 [==============================] - 0s 967us/step - loss: 3189.0190 - mae: 3189.0190\n",
      "Epoch 204/1000\n",
      "34/34 [==============================] - 0s 997us/step - loss: 3190.6270 - mae: 3190.6270\n",
      "Epoch 205/1000\n",
      "34/34 [==============================] - 0s 1ms/step - loss: 3187.5566 - mae: 3187.5566\n",
      "Epoch 206/1000\n",
      "34/34 [==============================] - 0s 1ms/step - loss: 3187.4631 - mae: 3187.4631\n",
      "Epoch 207/1000\n",
      "34/34 [==============================] - 0s 937us/step - loss: 3186.7151 - mae: 3186.7151\n",
      "Epoch 208/1000\n",
      "34/34 [==============================] - 0s 1ms/step - loss: 3186.9165 - mae: 3186.9165\n",
      "Epoch 209/1000\n",
      "34/34 [==============================] - 0s 937us/step - loss: 3185.2629 - mae: 3185.2629\n",
      "Epoch 210/1000\n",
      "34/34 [==============================] - 0s 1ms/step - loss: 3185.1914 - mae: 3185.1914\n",
      "Epoch 211/1000\n",
      "34/34 [==============================] - 0s 997us/step - loss: 3185.0378 - mae: 3185.0378\n",
      "Epoch 212/1000\n",
      "34/34 [==============================] - 0s 876us/step - loss: 3183.5437 - mae: 3183.5437\n",
      "Epoch 213/1000\n",
      "34/34 [==============================] - 0s 1ms/step - loss: 3185.2822 - mae: 3185.2822\n",
      "Epoch 214/1000\n",
      "34/34 [==============================] - 0s 907us/step - loss: 3183.4136 - mae: 3183.4136\n",
      "Epoch 215/1000\n",
      "34/34 [==============================] - 0s 1ms/step - loss: 3184.0571 - mae: 3184.0571\n",
      "Epoch 216/1000\n",
      "34/34 [==============================] - 0s 1ms/step - loss: 3182.3169 - mae: 3182.3169\n",
      "Epoch 217/1000\n",
      "34/34 [==============================] - 0s 907us/step - loss: 3181.1838 - mae: 3181.1838\n",
      "Epoch 218/1000\n",
      "34/34 [==============================] - 0s 1ms/step - loss: 3181.5439 - mae: 3181.5439\n",
      "Epoch 219/1000\n",
      "34/34 [==============================] - 0s 937us/step - loss: 3182.8999 - mae: 3182.8999\n",
      "Epoch 220/1000\n",
      "34/34 [==============================] - 0s 1ms/step - loss: 3180.0132 - mae: 3180.0132\n",
      "Epoch 221/1000\n",
      "34/34 [==============================] - 0s 907us/step - loss: 3182.0293 - mae: 3182.0293\n",
      "Epoch 222/1000\n",
      "34/34 [==============================] - 0s 1ms/step - loss: 3181.1899 - mae: 3181.1899\n",
      "Epoch 223/1000\n",
      "34/34 [==============================] - 0s 937us/step - loss: 3182.4919 - mae: 3182.4919\n"
     ]
    }
   ],
   "source": [
    "tf.random.set_seed(42)\n",
    "\n",
    "# 1. Build a model\n",
    "insurance_model_4 = tf.keras.models.Sequential([\n",
    "    tf.keras.layers.Dense(100, activation='relu'),\n",
    "    tf.keras.layers.Dense(10),\n",
    "    tf.keras.layers.Dense(1)\n",
    "])\n",
    "\n",
    "# 2. Compile a model\n",
    "insurance_model_4.compile(loss=tf.keras.losses.mae,\n",
    "                        optimizer=tf.keras.optimizers.Adam(learning_rate=0.001),\n",
    "                        metrics=['mae'])\n",
    "\n",
    "# 3. Fit a model\n",
    "history = insurance_model_4.fit(X_train_normal, y_train,\n",
    "                    epochs=1000, callbacks=tf.keras.callbacks.EarlyStopping(monitor='loss', patience=3),\n",
    "                    verbose=1)"
   ]
  },
  {
   "cell_type": "code",
   "execution_count": 564,
   "metadata": {},
   "outputs": [
    {
     "name": "stdout",
     "output_type": "stream",
     "text": [
      "9/9 [==============================] - 0s 1ms/step - loss: 2846.1501 - mae: 2846.1501\n"
     ]
    },
    {
     "data": {
      "text/plain": [
       "[2846.150146484375, 2846.150146484375]"
      ]
     },
     "execution_count": 564,
     "metadata": {},
     "output_type": "execute_result"
    }
   ],
   "source": [
    "# Evaluate insurance model trained on normalized data\n",
    "insurance_model_4.evaluate(X_test_normal, y_test)"
   ]
  },
  {
   "cell_type": "code",
   "execution_count": 565,
   "metadata": {},
   "outputs": [
    {
     "data": {
      "text/plain": [
       "Text(0.5, 0, 'epochs')"
      ]
     },
     "execution_count": 565,
     "metadata": {},
     "output_type": "execute_result"
    },
    {
     "data": {
      "image/png": "[encoded data removed]",
      "text/plain": [
       "<Figure size 432x288 with 1 Axes>"
      ]
     },
     "metadata": {
      "needs_background": "light"
     },
     "output_type": "display_data"
    }
   ],
   "source": [
    "pd.DataFrame(history.history).plot()\n",
    "plt.ylabel('loss')\n",
    "plt.xlabel('epochs')"
   ]
  }
 ],
 "metadata": {
  "kernelspec": {
   "display_name": "Python 3.10.8 64-bit",
   "language": "python",
   "name": "python3"
  },
  "language_info": {
   "codemirror_mode": {
    "name": "ipython",
    "version": 3
   },
   "file_extension": ".py",
   "mimetype": "text/x-python",
   "name": "python",
   "nbconvert_exporter": "python",
   "pygments_lexer": "ipython3",
   "version": "3.10.8"
  },
  "orig_nbformat": 4,
  "vscode": {
   "interpreter": {
    "hash": "769021efd479f93dbd80f3a6a99906a3560c45691fa9516612ecf69fc8e87f90"
   }
  }
 },
 "nbformat": 4,
 "nbformat_minor": 2
}
